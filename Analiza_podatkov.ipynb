{
 "cells": [
  {
   "cell_type": "code",
   "execution_count": 2,
   "metadata": {},
   "outputs": [],
   "source": [
    "import pandas as pd"
   ]
  },
  {
   "cell_type": "markdown",
   "metadata": {},
   "source": [
    "Za začetek shranimo podatke o knjigah, žanrih in nagradah v nove spremenljivke. Za indeksni stolpec pri vseh treh izberem \"id_knjige\". Ta je določen enolično, saj ga vsaka knjiga dobi glede na mestno na lestvici, mesta pa se ne ponavljajo.\n",
    "\n",
    "Opomba: Če kdaj želimo sortirati po \"score\", je vseeno če sortiramo po id_knjige, saj \"score\" določi mesto knjige na lestvici (knjiga z najvišjim se nahaja na prvem mestu)."
   ]
  },
  {
   "cell_type": "code",
   "execution_count": 3,
   "metadata": {},
   "outputs": [],
   "source": [
    "knjige = pd.read_csv('../Najbolj-e-knjige-vseh-asov/PODATKI/zdruzene_knjige.csv', index_col='id_knjige')"
   ]
  },
  {
   "cell_type": "code",
   "execution_count": 6,
   "metadata": {
    "scrolled": true
   },
   "outputs": [
    {
     "data": {
      "text/html": [
       "<div>\n",
       "<style scoped>\n",
       "    .dataframe tbody tr th:only-of-type {\n",
       "        vertical-align: middle;\n",
       "    }\n",
       "\n",
       "    .dataframe tbody tr th {\n",
       "        vertical-align: top;\n",
       "    }\n",
       "\n",
       "    .dataframe thead th {\n",
       "        text-align: right;\n",
       "    }\n",
       "</style>\n",
       "<table border=\"1\" class=\"dataframe\">\n",
       "  <thead>\n",
       "    <tr style=\"text-align: right;\">\n",
       "      <th></th>\n",
       "      <th>knjiga</th>\n",
       "      <th>avtor</th>\n",
       "      <th>id_avtor</th>\n",
       "      <th>serija</th>\n",
       "      <th>opis</th>\n",
       "      <th>leto</th>\n",
       "      <th>zalozba</th>\n",
       "      <th>povprecna_ocena</th>\n",
       "      <th>score</th>\n",
       "      <th>st_glasov</th>\n",
       "      <th>st_ocen</th>\n",
       "      <th>st_reviewov</th>\n",
       "      <th>nagrade</th>\n",
       "    </tr>\n",
       "    <tr>\n",
       "      <th>id_knjige</th>\n",
       "      <th></th>\n",
       "      <th></th>\n",
       "      <th></th>\n",
       "      <th></th>\n",
       "      <th></th>\n",
       "      <th></th>\n",
       "      <th></th>\n",
       "      <th></th>\n",
       "      <th></th>\n",
       "      <th></th>\n",
       "      <th></th>\n",
       "      <th></th>\n",
       "      <th></th>\n",
       "    </tr>\n",
       "  </thead>\n",
       "  <tbody>\n",
       "    <tr>\n",
       "      <th>1</th>\n",
       "      <td>The Hunger Games</td>\n",
       "      <td>Suzanne Collins</td>\n",
       "      <td>153394</td>\n",
       "      <td>True</td>\n",
       "      <td>Could you survive on your own in the wild, wit...</td>\n",
       "      <td>2008</td>\n",
       "      <td>Scholastic Press</td>\n",
       "      <td>4.32</td>\n",
       "      <td>3038720</td>\n",
       "      <td>30970</td>\n",
       "      <td>6595031</td>\n",
       "      <td>174357</td>\n",
       "      <td>True</td>\n",
       "    </tr>\n",
       "    <tr>\n",
       "      <th>2</th>\n",
       "      <td>Harry Potter and the Order of the Phoenix</td>\n",
       "      <td>J.K. Rowling</td>\n",
       "      <td>1077326</td>\n",
       "      <td>True</td>\n",
       "      <td>There is a door at the end of a silent corrido...</td>\n",
       "      <td>2004</td>\n",
       "      <td>Scholastic Inc.</td>\n",
       "      <td>4.50</td>\n",
       "      <td>2668003</td>\n",
       "      <td>27286</td>\n",
       "      <td>2610721</td>\n",
       "      <td>44305</td>\n",
       "      <td>True</td>\n",
       "    </tr>\n",
       "    <tr>\n",
       "      <th>3</th>\n",
       "      <td>To Kill a Mockingbird</td>\n",
       "      <td>Harper Lee</td>\n",
       "      <td>1825</td>\n",
       "      <td>True</td>\n",
       "      <td>The unforgettable novel of a childhood in a sl...</td>\n",
       "      <td>2006</td>\n",
       "      <td>Harper Perennial Modern Classics</td>\n",
       "      <td>4.28</td>\n",
       "      <td>2311193</td>\n",
       "      <td>23750</td>\n",
       "      <td>4677256</td>\n",
       "      <td>93734</td>\n",
       "      <td>True</td>\n",
       "    </tr>\n",
       "    <tr>\n",
       "      <th>4</th>\n",
       "      <td>Pride and Prejudice</td>\n",
       "      <td>Jane Austen</td>\n",
       "      <td>1265</td>\n",
       "      <td>False</td>\n",
       "      <td>Since its immediate success in 1813,  has re...</td>\n",
       "      <td>2000</td>\n",
       "      <td>Modern Library</td>\n",
       "      <td>4.27</td>\n",
       "      <td>2035385</td>\n",
       "      <td>20982</td>\n",
       "      <td>3111901</td>\n",
       "      <td>68689</td>\n",
       "      <td>False</td>\n",
       "    </tr>\n",
       "    <tr>\n",
       "      <th>5</th>\n",
       "      <td>Twilight</td>\n",
       "      <td>Stephenie Meyer</td>\n",
       "      <td>941441</td>\n",
       "      <td>True</td>\n",
       "      <td>About three things I was absolutely positive. ...</td>\n",
       "      <td>2006</td>\n",
       "      <td>Little, Brown and Company</td>\n",
       "      <td>3.61</td>\n",
       "      <td>1472928</td>\n",
       "      <td>15012</td>\n",
       "      <td>5135962</td>\n",
       "      <td>106204</td>\n",
       "      <td>True</td>\n",
       "    </tr>\n",
       "    <tr>\n",
       "      <th>...</th>\n",
       "      <td>...</td>\n",
       "      <td>...</td>\n",
       "      <td>...</td>\n",
       "      <td>...</td>\n",
       "      <td>...</td>\n",
       "      <td>...</td>\n",
       "      <td>...</td>\n",
       "      <td>...</td>\n",
       "      <td>...</td>\n",
       "      <td>...</td>\n",
       "      <td>...</td>\n",
       "      <td>...</td>\n",
       "      <td>...</td>\n",
       "    </tr>\n",
       "    <tr>\n",
       "      <th>896</th>\n",
       "      <td>Fantasy Lover</td>\n",
       "      <td>Sherrilyn Kenyon</td>\n",
       "      <td>4430</td>\n",
       "      <td>True</td>\n",
       "      <td>Cursed into an eternity of slavery by his own ...</td>\n",
       "      <td>2002</td>\n",
       "      <td>St. Martin's Press</td>\n",
       "      <td>4.16</td>\n",
       "      <td>7881</td>\n",
       "      <td>103</td>\n",
       "      <td>86299</td>\n",
       "      <td>3754</td>\n",
       "      <td>True</td>\n",
       "    </tr>\n",
       "    <tr>\n",
       "      <th>897</th>\n",
       "      <td>Silas Marner</td>\n",
       "      <td>George Eliot</td>\n",
       "      <td>173</td>\n",
       "      <td>False</td>\n",
       "      <td>George Eliot's tale of a solitary miser gradua...</td>\n",
       "      <td>2005</td>\n",
       "      <td>Simon  Schuster</td>\n",
       "      <td>3.65</td>\n",
       "      <td>7878</td>\n",
       "      <td>125</td>\n",
       "      <td>76946</td>\n",
       "      <td>3704</td>\n",
       "      <td>False</td>\n",
       "    </tr>\n",
       "    <tr>\n",
       "      <th>898</th>\n",
       "      <td>The Fountainhead</td>\n",
       "      <td>Ayn Rand</td>\n",
       "      <td>432</td>\n",
       "      <td>False</td>\n",
       "      <td>The revolutionary literary vision that sowed t...</td>\n",
       "      <td>1996</td>\n",
       "      <td>Signet Book</td>\n",
       "      <td>3.87</td>\n",
       "      <td>7871</td>\n",
       "      <td>96</td>\n",
       "      <td>301168</td>\n",
       "      <td>12368</td>\n",
       "      <td>False</td>\n",
       "    </tr>\n",
       "    <tr>\n",
       "      <th>899</th>\n",
       "      <td>Wings</td>\n",
       "      <td>Aprilynne Pike</td>\n",
       "      <td>2096360</td>\n",
       "      <td>True</td>\n",
       "      <td>Laurel was mesmerized, staring at the pale thi...</td>\n",
       "      <td>2009</td>\n",
       "      <td>HarperTeen</td>\n",
       "      <td>3.75</td>\n",
       "      <td>7866</td>\n",
       "      <td>100</td>\n",
       "      <td>77493</td>\n",
       "      <td>5122</td>\n",
       "      <td>True</td>\n",
       "    </tr>\n",
       "    <tr>\n",
       "      <th>900</th>\n",
       "      <td>All Together Dead</td>\n",
       "      <td>Charlaine Harris</td>\n",
       "      <td>17061</td>\n",
       "      <td>True</td>\n",
       "      <td>Louisiana cocktail waitress Sookie Stackhouse ...</td>\n",
       "      <td>2007</td>\n",
       "      <td>Ace</td>\n",
       "      <td>4.05</td>\n",
       "      <td>7861</td>\n",
       "      <td>113</td>\n",
       "      <td>190455</td>\n",
       "      <td>3647</td>\n",
       "      <td>False</td>\n",
       "    </tr>\n",
       "  </tbody>\n",
       "</table>\n",
       "<p>1900 rows × 13 columns</p>\n",
       "</div>"
      ],
      "text/plain": [
       "                                              knjiga             avtor  \\\n",
       "id_knjige                                                                \n",
       "1                                   The Hunger Games   Suzanne Collins   \n",
       "2          Harry Potter and the Order of the Phoenix      J.K. Rowling   \n",
       "3                              To Kill a Mockingbird        Harper Lee   \n",
       "4                                Pride and Prejudice       Jane Austen   \n",
       "5                                           Twilight   Stephenie Meyer   \n",
       "...                                              ...               ...   \n",
       "896                                    Fantasy Lover  Sherrilyn Kenyon   \n",
       "897                                     Silas Marner      George Eliot   \n",
       "898                                 The Fountainhead          Ayn Rand   \n",
       "899                                            Wings    Aprilynne Pike   \n",
       "900                                All Together Dead  Charlaine Harris   \n",
       "\n",
       "           id_avtor  serija  \\\n",
       "id_knjige                     \n",
       "1            153394    True   \n",
       "2           1077326    True   \n",
       "3              1825    True   \n",
       "4              1265   False   \n",
       "5            941441    True   \n",
       "...             ...     ...   \n",
       "896            4430    True   \n",
       "897             173   False   \n",
       "898             432   False   \n",
       "899         2096360    True   \n",
       "900           17061    True   \n",
       "\n",
       "                                                        opis  leto  \\\n",
       "id_knjige                                                            \n",
       "1          Could you survive on your own in the wild, wit...  2008   \n",
       "2          There is a door at the end of a silent corrido...  2004   \n",
       "3          The unforgettable novel of a childhood in a sl...  2006   \n",
       "4            Since its immediate success in 1813,  has re...  2000   \n",
       "5          About three things I was absolutely positive. ...  2006   \n",
       "...                                                      ...   ...   \n",
       "896        Cursed into an eternity of slavery by his own ...  2002   \n",
       "897        George Eliot's tale of a solitary miser gradua...  2005   \n",
       "898        The revolutionary literary vision that sowed t...  1996   \n",
       "899        Laurel was mesmerized, staring at the pale thi...  2009   \n",
       "900        Louisiana cocktail waitress Sookie Stackhouse ...  2007   \n",
       "\n",
       "                                     zalozba  povprecna_ocena    score  \\\n",
       "id_knjige                                                                \n",
       "1                           Scholastic Press             4.32  3038720   \n",
       "2                            Scholastic Inc.             4.50  2668003   \n",
       "3          Harper Perennial Modern Classics              4.28  2311193   \n",
       "4                             Modern Library             4.27  2035385   \n",
       "5                  Little, Brown and Company             3.61  1472928   \n",
       "...                                      ...              ...      ...   \n",
       "896                       St. Martin's Press             4.16     7881   \n",
       "897                          Simon  Schuster             3.65     7878   \n",
       "898                              Signet Book             3.87     7871   \n",
       "899                               HarperTeen             3.75     7866   \n",
       "900                                      Ace             4.05     7861   \n",
       "\n",
       "           st_glasov  st_ocen  st_reviewov  nagrade  \n",
       "id_knjige                                            \n",
       "1              30970  6595031       174357     True  \n",
       "2              27286  2610721        44305     True  \n",
       "3              23750  4677256        93734     True  \n",
       "4              20982  3111901        68689    False  \n",
       "5              15012  5135962       106204     True  \n",
       "...              ...      ...          ...      ...  \n",
       "896              103    86299         3754     True  \n",
       "897              125    76946         3704    False  \n",
       "898               96   301168        12368    False  \n",
       "899              100    77493         5122     True  \n",
       "900              113   190455         3647    False  \n",
       "\n",
       "[1900 rows x 13 columns]"
      ]
     },
     "execution_count": 6,
     "metadata": {},
     "output_type": "execute_result"
    }
   ],
   "source": [
    "knjige"
   ]
  },
  {
   "cell_type": "code",
   "execution_count": 7,
   "metadata": {},
   "outputs": [],
   "source": [
    "zanri = pd.read_csv('../Najbolj-e-knjige-vseh-asov/PODATKI/zdruzeni_zanri.csv',index_col='id_knjige')"
   ]
  },
  {
   "cell_type": "code",
   "execution_count": 8,
   "metadata": {
    "collapsed": true
   },
   "outputs": [
    {
     "data": {
      "text/html": [
       "<div>\n",
       "<style scoped>\n",
       "    .dataframe tbody tr th:only-of-type {\n",
       "        vertical-align: middle;\n",
       "    }\n",
       "\n",
       "    .dataframe tbody tr th {\n",
       "        vertical-align: top;\n",
       "    }\n",
       "\n",
       "    .dataframe thead th {\n",
       "        text-align: right;\n",
       "    }\n",
       "</style>\n",
       "<table border=\"1\" class=\"dataframe\">\n",
       "  <thead>\n",
       "    <tr style=\"text-align: right;\">\n",
       "      <th></th>\n",
       "      <th>zanr</th>\n",
       "    </tr>\n",
       "    <tr>\n",
       "      <th>id_knjige</th>\n",
       "      <th></th>\n",
       "    </tr>\n",
       "  </thead>\n",
       "  <tbody>\n",
       "    <tr>\n",
       "      <th>1</th>\n",
       "      <td>young-adult</td>\n",
       "    </tr>\n",
       "    <tr>\n",
       "      <th>1</th>\n",
       "      <td>fiction</td>\n",
       "    </tr>\n",
       "    <tr>\n",
       "      <th>1</th>\n",
       "      <td>dystopia</td>\n",
       "    </tr>\n",
       "    <tr>\n",
       "      <th>2</th>\n",
       "      <td>fantasy</td>\n",
       "    </tr>\n",
       "    <tr>\n",
       "      <th>2</th>\n",
       "      <td>young-adult</td>\n",
       "    </tr>\n",
       "    <tr>\n",
       "      <th>...</th>\n",
       "      <td>...</td>\n",
       "    </tr>\n",
       "    <tr>\n",
       "      <th>899</th>\n",
       "      <td>young-adult</td>\n",
       "    </tr>\n",
       "    <tr>\n",
       "      <th>899</th>\n",
       "      <td>romance</td>\n",
       "    </tr>\n",
       "    <tr>\n",
       "      <th>900</th>\n",
       "      <td>fantasy</td>\n",
       "    </tr>\n",
       "    <tr>\n",
       "      <th>900</th>\n",
       "      <td>vampires</td>\n",
       "    </tr>\n",
       "    <tr>\n",
       "      <th>900</th>\n",
       "      <td>paranormal</td>\n",
       "    </tr>\n",
       "  </tbody>\n",
       "</table>\n",
       "<p>5684 rows × 1 columns</p>\n",
       "</div>"
      ],
      "text/plain": [
       "                  zanr\n",
       "id_knjige             \n",
       "1          young-adult\n",
       "1              fiction\n",
       "1             dystopia\n",
       "2              fantasy\n",
       "2          young-adult\n",
       "...                ...\n",
       "899        young-adult\n",
       "899            romance\n",
       "900            fantasy\n",
       "900           vampires\n",
       "900         paranormal\n",
       "\n",
       "[5684 rows x 1 columns]"
      ]
     },
     "execution_count": 8,
     "metadata": {},
     "output_type": "execute_result"
    }
   ],
   "source": [
    "zanri"
   ]
  },
  {
   "cell_type": "code",
   "execution_count": 9,
   "metadata": {},
   "outputs": [],
   "source": [
    "nagrade = pd.read_csv('../Najbolj-e-knjige-vseh-asov/PODATKI/zdruzene_nagrade.csv',index_col='id_knjige') "
   ]
  },
  {
   "cell_type": "code",
   "execution_count": 10,
   "metadata": {
    "collapsed": true
   },
   "outputs": [
    {
     "data": {
      "text/html": [
       "<div>\n",
       "<style scoped>\n",
       "    .dataframe tbody tr th:only-of-type {\n",
       "        vertical-align: middle;\n",
       "    }\n",
       "\n",
       "    .dataframe tbody tr th {\n",
       "        vertical-align: top;\n",
       "    }\n",
       "\n",
       "    .dataframe thead th {\n",
       "        text-align: right;\n",
       "    }\n",
       "</style>\n",
       "<table border=\"1\" class=\"dataframe\">\n",
       "  <thead>\n",
       "    <tr style=\"text-align: right;\">\n",
       "      <th></th>\n",
       "      <th>nagrada</th>\n",
       "    </tr>\n",
       "    <tr>\n",
       "      <th>id_knjige</th>\n",
       "      <th></th>\n",
       "    </tr>\n",
       "  </thead>\n",
       "  <tbody>\n",
       "    <tr>\n",
       "      <th>1</th>\n",
       "      <td>Locus Award Nominee for Best Young Adult Book</td>\n",
       "    </tr>\n",
       "    <tr>\n",
       "      <th>1</th>\n",
       "      <td>Georgia Peach Book Award</td>\n",
       "    </tr>\n",
       "    <tr>\n",
       "      <th>1</th>\n",
       "      <td>Buxtehuder Bulle</td>\n",
       "    </tr>\n",
       "    <tr>\n",
       "      <th>1</th>\n",
       "      <td>Golden Duck Award for Young Adult</td>\n",
       "    </tr>\n",
       "    <tr>\n",
       "      <th>1</th>\n",
       "      <td>Grand Prix de l'Imaginaire Nominee for Roman j...</td>\n",
       "    </tr>\n",
       "    <tr>\n",
       "      <th>...</th>\n",
       "      <td>...</td>\n",
       "    </tr>\n",
       "    <tr>\n",
       "      <th>895</th>\n",
       "      <td>Goodreads Choice Award for Fantasy</td>\n",
       "    </tr>\n",
       "    <tr>\n",
       "      <th>896</th>\n",
       "      <td>HOLT Medallion by Virginia Romance Writers Nom...</td>\n",
       "    </tr>\n",
       "    <tr>\n",
       "      <th>896</th>\n",
       "      <td>PRISM Award by Fantasy, Futuristic and Paranor...</td>\n",
       "    </tr>\n",
       "    <tr>\n",
       "      <th>896</th>\n",
       "      <td>Favorite Books by Romance Writers of America N...</td>\n",
       "    </tr>\n",
       "    <tr>\n",
       "      <th>899</th>\n",
       "      <td>Romantic Times Reviewers' Choice Award</td>\n",
       "    </tr>\n",
       "  </tbody>\n",
       "</table>\n",
       "<p>3897 rows × 1 columns</p>\n",
       "</div>"
      ],
      "text/plain": [
       "                                                     nagrada\n",
       "id_knjige                                                   \n",
       "1             Locus Award Nominee for Best Young Adult Book \n",
       "1                                  Georgia Peach Book Award \n",
       "1                                          Buxtehuder Bulle \n",
       "1                         Golden Duck Award for Young Adult \n",
       "1          Grand Prix de l'Imaginaire Nominee for Roman j...\n",
       "...                                                      ...\n",
       "895                      Goodreads Choice Award for Fantasy \n",
       "896        HOLT Medallion by Virginia Romance Writers Nom...\n",
       "896        PRISM Award by Fantasy, Futuristic and Paranor...\n",
       "896        Favorite Books by Romance Writers of America N...\n",
       "899                  Romantic Times Reviewers' Choice Award \n",
       "\n",
       "[3897 rows x 1 columns]"
      ]
     },
     "execution_count": 10,
     "metadata": {},
     "output_type": "execute_result"
    }
   ],
   "source": [
    "nagrade"
   ]
  },
  {
   "cell_type": "markdown",
   "metadata": {},
   "source": [
    "# Kateri žanri so najbolj priljubljeni?\n",
    "\n",
    "Ugotoviti želim, kateri žanri so najbolj priljubleni med prvimi pettisočimi knjigami.<br>\n",
    "Ker se lahko zgodi, da je začetnih nekaj sto knjig(najbolje ocenjene) večinoma enega žanra, večinski preostanek pa drugega, bom analizirala najbolj priljubljen žanr za prvih 100, 1000 in 5000 knjig. S tem želim preveriti tudi ali nek žanr prevladuje na celotni lestvici ali pa je prisoten zgolj na vrhu in se kasneje porazdeli z drugimi žanri.<br>\n",
    "Ugotoviti želim tudi priljubljenost žanra glede na desetletje izdaje del:<br>\n",
    "TO DO:morda porazdelitev vodilnega znra po letih/porazdelitev vodilnih treh zanrv po desetletjih<br>\n",
    "Ker pri vsaki knjigi zajamem tri žanre, moram za prvih 100 knjig torej vzeti prvih 300 žanrov. Podobno za 1000 in 5000 knjig."
   ]
  },
  {
   "cell_type": "code",
   "execution_count": 11,
   "metadata": {},
   "outputs": [],
   "source": [
    "priljubljeni_zanri_100 = zanri.head(300).groupby('zanr').size().to_frame('st_zanrov').sort_values('st_zanrov', ascending=False)"
   ]
  },
  {
   "cell_type": "code",
   "execution_count": 12,
   "metadata": {},
   "outputs": [
    {
     "data": {
      "text/html": [
       "<div>\n",
       "<style scoped>\n",
       "    .dataframe tbody tr th:only-of-type {\n",
       "        vertical-align: middle;\n",
       "    }\n",
       "\n",
       "    .dataframe tbody tr th {\n",
       "        vertical-align: top;\n",
       "    }\n",
       "\n",
       "    .dataframe thead th {\n",
       "        text-align: right;\n",
       "    }\n",
       "</style>\n",
       "<table border=\"1\" class=\"dataframe\">\n",
       "  <thead>\n",
       "    <tr style=\"text-align: right;\">\n",
       "      <th></th>\n",
       "      <th>st_zanrov</th>\n",
       "    </tr>\n",
       "    <tr>\n",
       "      <th>zanr</th>\n",
       "      <th></th>\n",
       "    </tr>\n",
       "  </thead>\n",
       "  <tbody>\n",
       "    <tr>\n",
       "      <th>fiction</th>\n",
       "      <td>91</td>\n",
       "    </tr>\n",
       "    <tr>\n",
       "      <th>classics</th>\n",
       "      <td>63</td>\n",
       "    </tr>\n",
       "    <tr>\n",
       "      <th>fantasy</th>\n",
       "      <td>25</td>\n",
       "    </tr>\n",
       "    <tr>\n",
       "      <th>young-adult</th>\n",
       "      <td>21</td>\n",
       "    </tr>\n",
       "    <tr>\n",
       "      <th>historical-fiction</th>\n",
       "      <td>18</td>\n",
       "    </tr>\n",
       "    <tr>\n",
       "      <th>romance</th>\n",
       "      <td>10</td>\n",
       "    </tr>\n",
       "    <tr>\n",
       "      <th>science-fiction</th>\n",
       "      <td>9</td>\n",
       "    </tr>\n",
       "    <tr>\n",
       "      <th>childrens</th>\n",
       "      <td>7</td>\n",
       "    </tr>\n",
       "    <tr>\n",
       "      <th>horror</th>\n",
       "      <td>6</td>\n",
       "    </tr>\n",
       "    <tr>\n",
       "      <th>mystery</th>\n",
       "      <td>5</td>\n",
       "    </tr>\n",
       "  </tbody>\n",
       "</table>\n",
       "</div>"
      ],
      "text/plain": [
       "                    st_zanrov\n",
       "zanr                         \n",
       "fiction                    91\n",
       "classics                   63\n",
       "fantasy                    25\n",
       "young-adult                21\n",
       "historical-fiction         18\n",
       "romance                    10\n",
       "science-fiction             9\n",
       "childrens                   7\n",
       "horror                      6\n",
       "mystery                     5"
      ]
     },
     "execution_count": 12,
     "metadata": {},
     "output_type": "execute_result"
    }
   ],
   "source": [
    "priljubljeni_zanri_100.head(10)"
   ]
  },
  {
   "cell_type": "markdown",
   "metadata": {},
   "source": [
    "Med prvimi stotimi knjigami sta torej najbolj priljubljena fikcija(fiction) in klasika(classics), sledijo fantastika(fantasy), literatura za mlade(young-adult, 12-18 let) in zgodovinska fikcija(historical-fiction)."
   ]
  },
  {
   "cell_type": "markdown",
   "metadata": {},
   "source": [
    "Poglejmo ali se priljubljenost zanrov spremni, ko pogledamo širše po lestvici."
   ]
  },
  {
   "cell_type": "code",
   "execution_count": 45,
   "metadata": {},
   "outputs": [],
   "source": [
    "priljubljeni_zanri_1000 = zanri.head(3000).groupby('zanr').size().to_frame('st_zanrov').sort_values('st_zanrov', ascending=False)"
   ]
  },
  {
   "cell_type": "code",
   "execution_count": 51,
   "metadata": {},
   "outputs": [
    {
     "data": {
      "text/html": [
       "<div>\n",
       "<style scoped>\n",
       "    .dataframe tbody tr th:only-of-type {\n",
       "        vertical-align: middle;\n",
       "    }\n",
       "\n",
       "    .dataframe tbody tr th {\n",
       "        vertical-align: top;\n",
       "    }\n",
       "\n",
       "    .dataframe thead th {\n",
       "        text-align: right;\n",
       "    }\n",
       "</style>\n",
       "<table border=\"1\" class=\"dataframe\">\n",
       "  <thead>\n",
       "    <tr style=\"text-align: right;\">\n",
       "      <th></th>\n",
       "      <th>st_zanrov</th>\n",
       "    </tr>\n",
       "    <tr>\n",
       "      <th>zanr</th>\n",
       "      <th></th>\n",
       "    </tr>\n",
       "  </thead>\n",
       "  <tbody>\n",
       "    <tr>\n",
       "      <th>fiction</th>\n",
       "      <td>617</td>\n",
       "    </tr>\n",
       "    <tr>\n",
       "      <th>fantasy</th>\n",
       "      <td>282</td>\n",
       "    </tr>\n",
       "    <tr>\n",
       "      <th>young-adult</th>\n",
       "      <td>264</td>\n",
       "    </tr>\n",
       "    <tr>\n",
       "      <th>classics</th>\n",
       "      <td>241</td>\n",
       "    </tr>\n",
       "    <tr>\n",
       "      <th>romance</th>\n",
       "      <td>156</td>\n",
       "    </tr>\n",
       "    <tr>\n",
       "      <th>historical-fiction</th>\n",
       "      <td>127</td>\n",
       "    </tr>\n",
       "    <tr>\n",
       "      <th>contemporary</th>\n",
       "      <td>127</td>\n",
       "    </tr>\n",
       "    <tr>\n",
       "      <th>science-fiction</th>\n",
       "      <td>80</td>\n",
       "    </tr>\n",
       "    <tr>\n",
       "      <th>non-fiction</th>\n",
       "      <td>75</td>\n",
       "    </tr>\n",
       "    <tr>\n",
       "      <th>mystery</th>\n",
       "      <td>70</td>\n",
       "    </tr>\n",
       "  </tbody>\n",
       "</table>\n",
       "</div>"
      ],
      "text/plain": [
       "                    st_zanrov\n",
       "zanr                         \n",
       "fiction                   617\n",
       "fantasy                   282\n",
       "young-adult               264\n",
       "classics                  241\n",
       "romance                   156\n",
       "historical-fiction        127\n",
       "contemporary              127\n",
       "science-fiction            80\n",
       "non-fiction                75\n",
       "mystery                    70"
      ]
     },
     "execution_count": 51,
     "metadata": {},
     "output_type": "execute_result"
    }
   ],
   "source": [
    "priljubljeni_zanri_1000.head(10)"
   ]
  },
  {
   "cell_type": "code",
   "execution_count": 47,
   "metadata": {},
   "outputs": [],
   "source": [
    "priljubljeni_zanri_5000 = zanri.head(15000).groupby('zanr').size().to_frame('st_zanrov').sort_values('st_zanrov', ascending=False)"
   ]
  },
  {
   "cell_type": "code",
   "execution_count": 52,
   "metadata": {},
   "outputs": [
    {
     "data": {
      "text/html": [
       "<div>\n",
       "<style scoped>\n",
       "    .dataframe tbody tr th:only-of-type {\n",
       "        vertical-align: middle;\n",
       "    }\n",
       "\n",
       "    .dataframe tbody tr th {\n",
       "        vertical-align: top;\n",
       "    }\n",
       "\n",
       "    .dataframe thead th {\n",
       "        text-align: right;\n",
       "    }\n",
       "</style>\n",
       "<table border=\"1\" class=\"dataframe\">\n",
       "  <thead>\n",
       "    <tr style=\"text-align: right;\">\n",
       "      <th></th>\n",
       "      <th>st_zanrov</th>\n",
       "    </tr>\n",
       "    <tr>\n",
       "      <th>zanr</th>\n",
       "      <th></th>\n",
       "    </tr>\n",
       "  </thead>\n",
       "  <tbody>\n",
       "    <tr>\n",
       "      <th>fiction</th>\n",
       "      <td>1216</td>\n",
       "    </tr>\n",
       "    <tr>\n",
       "      <th>fantasy</th>\n",
       "      <td>526</td>\n",
       "    </tr>\n",
       "    <tr>\n",
       "      <th>classics</th>\n",
       "      <td>520</td>\n",
       "    </tr>\n",
       "    <tr>\n",
       "      <th>young-adult</th>\n",
       "      <td>485</td>\n",
       "    </tr>\n",
       "    <tr>\n",
       "      <th>romance</th>\n",
       "      <td>286</td>\n",
       "    </tr>\n",
       "    <tr>\n",
       "      <th>historical-fiction</th>\n",
       "      <td>259</td>\n",
       "    </tr>\n",
       "    <tr>\n",
       "      <th>contemporary</th>\n",
       "      <td>220</td>\n",
       "    </tr>\n",
       "    <tr>\n",
       "      <th>science-fiction</th>\n",
       "      <td>145</td>\n",
       "    </tr>\n",
       "    <tr>\n",
       "      <th>non-fiction</th>\n",
       "      <td>144</td>\n",
       "    </tr>\n",
       "    <tr>\n",
       "      <th>mystery</th>\n",
       "      <td>120</td>\n",
       "    </tr>\n",
       "  </tbody>\n",
       "</table>\n",
       "</div>"
      ],
      "text/plain": [
       "                    st_zanrov\n",
       "zanr                         \n",
       "fiction                  1216\n",
       "fantasy                   526\n",
       "classics                  520\n",
       "young-adult               485\n",
       "romance                   286\n",
       "historical-fiction        259\n",
       "contemporary              220\n",
       "science-fiction           145\n",
       "non-fiction               144\n",
       "mystery                   120"
      ]
     },
     "execution_count": 52,
     "metadata": {},
     "output_type": "execute_result"
    }
   ],
   "source": [
    "priljubljeni_zanri_5000.head(10)"
   ]
  },
  {
   "cell_type": "markdown",
   "metadata": {},
   "source": [
    "TO DO:komentar priljubljenosti zanrov za 1000 in 5000"
   ]
  },
  {
   "cell_type": "markdown",
   "metadata": {},
   "source": [
    "TO DO:ali priljubljenost zanra soupada z nagradami"
   ]
  },
  {
   "cell_type": "markdown",
   "metadata": {},
   "source": [
    "# Ali med priljubljenemi knjigami prevladujejo serije?\n",
    "\n",
    "Zanima nas tudi ali so bolj priljubljene serije ali posamezne knjige. \n",
    "možnost1:isto kot za zanre\n",
    "moznost2:naredimo graf: y1= serije, x = vse knjige- in se y2 = ne serije, x=vse knjige->tist ki je zgoraj je večji"
   ]
  },
  {
   "cell_type": "markdown",
   "metadata": {},
   "source": [
    "Za začetek poglejmo, kaj prevladuje med prvimi stotimi knjigami"
   ]
  },
  {
   "cell_type": "code",
   "execution_count": 13,
   "metadata": {},
   "outputs": [
    {
     "data": {
      "text/plain": [
       "serija\n",
       "False    61\n",
       "True     39\n",
       "dtype: int64"
      ]
     },
     "execution_count": 13,
     "metadata": {},
     "output_type": "execute_result"
    }
   ],
   "source": [
    "knjige.head(100).groupby('serija').size()"
   ]
  },
  {
   "cell_type": "markdown",
   "metadata": {},
   "source": [
    "Med knjigami na vrhu lestvice torej pravladujejo \"solo\" knjige. Upoštevati velja, da je npr. serija žanra fantastika/fikcija zelo pogosta, medtem ko je veliko redkejša pri klasikah.<br>\n",
    "Pri žanrih smo videli, da sta si pri prvih stotih knjigah klasika in fikcija precej blizu, fantazija pa je na tretjem mestu s precjšnjim zaostankom, pri večjem številu knjig pa začne očitno prevladovati fikcija, klasika in fantazija pa sta precej izenačeni.<br>\n",
    "Poglejmo si, če se delež serij poveča, če povečamo število knjig(fikcija je zdaj prevladujoči žanr, klasika in fantazija pa sta izenačei)."
   ]
  },
  {
   "cell_type": "code",
   "execution_count": 53,
   "metadata": {},
   "outputs": [
    {
     "data": {
      "text/plain": [
       "serija\n",
       "False    941\n",
       "True     959\n",
       "dtype: int64"
      ]
     },
     "execution_count": 53,
     "metadata": {},
     "output_type": "execute_result"
    }
   ],
   "source": [
    "knjige.groupby('serija').size()"
   ]
  },
  {
   "cell_type": "markdown",
   "metadata": {},
   "source": [
    "Vidimo, da sta tipa pri...<br>\n",
    "Narišimo še graf, da vidmo spreminjanje količine serij in posameznih del po lestvici.\n",
    "TO DO:GRAF"
   ]
  },
  {
   "cell_type": "markdown",
   "metadata": {},
   "source": [
    "Sedaj narišimo grafa, ki ponazarjata število serij in posameznih del glede na število vseh knjig.<br>\n",
    "Primer: Prva tri dela z lestvice so serije, četrto pa je posamezno delo. graf serij bo torej do vključno števila tri potekal po simetrali lihih kvadrantov, pri številu 4(štiri knjige), pa bo vrednost na y osi enaka 3(tri dela od štirih so serije).\n",
    "Graf pozameznih del bo do vključno števila tri imel vrednost y osi enako nič, pri številu štiri pa ena.<br>\n",
    "Če je torej na nekem delu graf serij nad grafom posameznih del to pomeni, da na tistem delu prevladujejo serije.<br>\n",
    "Vsota grafov nam seveda vedno da simetralo lihih kvadrantov."
   ]
  },
  {
   "cell_type": "markdown",
   "metadata": {},
   "source": [
    "Definirati moramo funkciji, ki bosta šteli število serij in posameznih del glede na število vseh del.<br>\n",
    "Spletna stran s podatki je pri nekaterih delih \"sesuta\", zato posameznih del s strani ni med našimi podatki. Id-ji knjig so podani glede na mesto na lestvici, tako da nam lahko nekaj id-jev manjka (nimamo vseh števil od 1 do 5000). Pri vpeljavi funkcij za štetje bi bilo to precej nerodno, zato vpeljemo \"knjige2\", pri katerih za indeksni stolpec vzamemo avtomatko generiran stolpec stevil od 0 do dolžine tabele. Pri definiranju funkcij in risanju grafa bomo namesto z id_knjige torej delali s tem stolpcem."
   ]
  },
  {
   "cell_type": "code",
   "execution_count": 73,
   "metadata": {},
   "outputs": [],
   "source": [
    "knjige2 = pd.read_csv('../Najbolj-e-knjige-vseh-asov/PODATKI/zdruzene_knjige.csv')"
   ]
  },
  {
   "cell_type": "code",
   "execution_count": 95,
   "metadata": {},
   "outputs": [
    {
     "data": {
      "text/html": [
       "<div>\n",
       "<style scoped>\n",
       "    .dataframe tbody tr th:only-of-type {\n",
       "        vertical-align: middle;\n",
       "    }\n",
       "\n",
       "    .dataframe tbody tr th {\n",
       "        vertical-align: top;\n",
       "    }\n",
       "\n",
       "    .dataframe thead th {\n",
       "        text-align: right;\n",
       "    }\n",
       "</style>\n",
       "<table border=\"1\" class=\"dataframe\">\n",
       "  <thead>\n",
       "    <tr style=\"text-align: right;\">\n",
       "      <th></th>\n",
       "      <th>knjiga</th>\n",
       "      <th>id_knjige</th>\n",
       "      <th>avtor</th>\n",
       "      <th>id_avtor</th>\n",
       "      <th>serija</th>\n",
       "      <th>opis</th>\n",
       "      <th>leto</th>\n",
       "      <th>zalozba</th>\n",
       "      <th>povprecna_ocena</th>\n",
       "      <th>score</th>\n",
       "      <th>st_glasov</th>\n",
       "      <th>st_ocen</th>\n",
       "      <th>st_reviewov</th>\n",
       "      <th>nagrade</th>\n",
       "    </tr>\n",
       "  </thead>\n",
       "  <tbody>\n",
       "    <tr>\n",
       "      <th>0</th>\n",
       "      <td>The Hunger Games</td>\n",
       "      <td>1</td>\n",
       "      <td>Suzanne Collins</td>\n",
       "      <td>153394</td>\n",
       "      <td>True</td>\n",
       "      <td>Could you survive on your own in the wild, wit...</td>\n",
       "      <td>2008</td>\n",
       "      <td>Scholastic Press</td>\n",
       "      <td>4.32</td>\n",
       "      <td>3038720</td>\n",
       "      <td>30970</td>\n",
       "      <td>6595031</td>\n",
       "      <td>174357</td>\n",
       "      <td>True</td>\n",
       "    </tr>\n",
       "    <tr>\n",
       "      <th>1</th>\n",
       "      <td>Harry Potter and the Order of the Phoenix</td>\n",
       "      <td>2</td>\n",
       "      <td>J.K. Rowling</td>\n",
       "      <td>1077326</td>\n",
       "      <td>True</td>\n",
       "      <td>There is a door at the end of a silent corrido...</td>\n",
       "      <td>2004</td>\n",
       "      <td>Scholastic Inc.</td>\n",
       "      <td>4.50</td>\n",
       "      <td>2668003</td>\n",
       "      <td>27286</td>\n",
       "      <td>2610721</td>\n",
       "      <td>44305</td>\n",
       "      <td>True</td>\n",
       "    </tr>\n",
       "    <tr>\n",
       "      <th>2</th>\n",
       "      <td>To Kill a Mockingbird</td>\n",
       "      <td>3</td>\n",
       "      <td>Harper Lee</td>\n",
       "      <td>1825</td>\n",
       "      <td>True</td>\n",
       "      <td>The unforgettable novel of a childhood in a sl...</td>\n",
       "      <td>2006</td>\n",
       "      <td>Harper Perennial Modern Classics</td>\n",
       "      <td>4.28</td>\n",
       "      <td>2311193</td>\n",
       "      <td>23750</td>\n",
       "      <td>4677256</td>\n",
       "      <td>93734</td>\n",
       "      <td>True</td>\n",
       "    </tr>\n",
       "    <tr>\n",
       "      <th>3</th>\n",
       "      <td>Pride and Prejudice</td>\n",
       "      <td>4</td>\n",
       "      <td>Jane Austen</td>\n",
       "      <td>1265</td>\n",
       "      <td>False</td>\n",
       "      <td>Since its immediate success in 1813,  has re...</td>\n",
       "      <td>2000</td>\n",
       "      <td>Modern Library</td>\n",
       "      <td>4.27</td>\n",
       "      <td>2035385</td>\n",
       "      <td>20982</td>\n",
       "      <td>3111901</td>\n",
       "      <td>68689</td>\n",
       "      <td>False</td>\n",
       "    </tr>\n",
       "    <tr>\n",
       "      <th>4</th>\n",
       "      <td>Twilight</td>\n",
       "      <td>5</td>\n",
       "      <td>Stephenie Meyer</td>\n",
       "      <td>941441</td>\n",
       "      <td>True</td>\n",
       "      <td>About three things I was absolutely positive. ...</td>\n",
       "      <td>2006</td>\n",
       "      <td>Little, Brown and Company</td>\n",
       "      <td>3.61</td>\n",
       "      <td>1472928</td>\n",
       "      <td>15012</td>\n",
       "      <td>5135962</td>\n",
       "      <td>106204</td>\n",
       "      <td>True</td>\n",
       "    </tr>\n",
       "  </tbody>\n",
       "</table>\n",
       "</div>"
      ],
      "text/plain": [
       "                                      knjiga  id_knjige            avtor  \\\n",
       "0                           The Hunger Games          1  Suzanne Collins   \n",
       "1  Harry Potter and the Order of the Phoenix          2     J.K. Rowling   \n",
       "2                      To Kill a Mockingbird          3       Harper Lee   \n",
       "3                        Pride and Prejudice          4      Jane Austen   \n",
       "4                                   Twilight          5  Stephenie Meyer   \n",
       "\n",
       "   id_avtor  serija                                               opis  leto  \\\n",
       "0    153394    True  Could you survive on your own in the wild, wit...  2008   \n",
       "1   1077326    True  There is a door at the end of a silent corrido...  2004   \n",
       "2      1825    True  The unforgettable novel of a childhood in a sl...  2006   \n",
       "3      1265   False    Since its immediate success in 1813,  has re...  2000   \n",
       "4    941441    True  About three things I was absolutely positive. ...  2006   \n",
       "\n",
       "                             zalozba  povprecna_ocena    score  st_glasov  \\\n",
       "0                   Scholastic Press             4.32  3038720      30970   \n",
       "1                    Scholastic Inc.             4.50  2668003      27286   \n",
       "2  Harper Perennial Modern Classics              4.28  2311193      23750   \n",
       "3                     Modern Library             4.27  2035385      20982   \n",
       "4          Little, Brown and Company             3.61  1472928      15012   \n",
       "\n",
       "   st_ocen  st_reviewov  nagrade  \n",
       "0  6595031       174357     True  \n",
       "1  2610721        44305     True  \n",
       "2  4677256        93734     True  \n",
       "3  3111901        68689    False  \n",
       "4  5135962       106204     True  "
      ]
     },
     "execution_count": 95,
     "metadata": {},
     "output_type": "execute_result"
    }
   ],
   "source": [
    "knjige2.head(5)"
   ]
  },
  {
   "cell_type": "markdown",
   "metadata": {},
   "source": [
    "Definiramo funkciji, ki štejeta serije in posamezna dela.<br>\n",
    "Funkciji za vsako delo v seznam zapišeta, koliko del nad delom(vključno s trenutnim delom) je serija/posamezno delo."
   ]
  },
  {
   "cell_type": "code",
   "execution_count": 107,
   "metadata": {},
   "outputs": [],
   "source": [
    "def stej_serije(x):\n",
    "    sez = []\n",
    "    for i in range(0,x):\n",
    "        if i == 0:\n",
    "            if knjige2.serija[i]==True:\n",
    "                sez+=[1]\n",
    "            else:\n",
    "                sez.append(0)\n",
    "        else:\n",
    "            if knjige2.serija[i]==True:\n",
    "                sez+=[sez[i-1]+1]\n",
    "            else:\n",
    "                sez+=[sez[i-1]]\n",
    "    return sez\n",
    "    "
   ]
  },
  {
   "cell_type": "code",
   "execution_count": 122,
   "metadata": {},
   "outputs": [],
   "source": [
    "def stej_solo(x):\n",
    "    sez = []\n",
    "    for i in range(0,x):\n",
    "        if i == 0:\n",
    "            if knjige2.serija[i]==False:\n",
    "                sez+=[1]\n",
    "            else:\n",
    "                sez.append(0)\n",
    "        else:\n",
    "            if knjige2.serija[i]==False:\n",
    "                sez+=[sez[i-1]+1]\n",
    "            else:\n",
    "                sez+=[sez[i-1]]\n",
    "    return sez"
   ]
  },
  {
   "cell_type": "markdown",
   "metadata": {},
   "source": [
    "Najprej narišimo grafa za prvih sto del."
   ]
  },
  {
   "cell_type": "code",
   "execution_count": 181,
   "metadata": {},
   "outputs": [],
   "source": [
    "a = stej_serije(100)"
   ]
  },
  {
   "cell_type": "code",
   "execution_count": 180,
   "metadata": {},
   "outputs": [],
   "source": [
    "b = stej_solo(100)"
   ]
  },
  {
   "cell_type": "code",
   "execution_count": 182,
   "metadata": {},
   "outputs": [],
   "source": [
    "s= [i for i in range(1, len(a)+1)]"
   ]
  },
  {
   "cell_type": "code",
   "execution_count": 183,
   "metadata": {},
   "outputs": [
    {
     "data": {
      "text/plain": [
       "[<matplotlib.lines.Line2D at 0x23020321250>]"
      ]
     },
     "execution_count": 183,
     "metadata": {},
     "output_type": "execute_result"
    },
    {
     "data": {
      "image/png": "[encoded data removed]",
      "text/plain": [
       "<Figure size 432x288 with 1 Axes>"
      ]
     },
     "metadata": {
      "needs_background": "light"
     },
     "output_type": "display_data"
    }
   ],
   "source": [
    "from matplotlib import pyplot as plt\n",
    "plt.plot(s,a)\n",
    "plt.plot(s,b)"
   ]
  },
  {
   "cell_type": "markdown",
   "metadata": {},
   "source": [
    "Oranžen graf predstavlja posamezna dela, moder pa serije. Vidimo, da med primližno prvimi petnajstimi deli prevladujejo serije, nato pa je delež posameznih del večji (v prejšnjih izračunih smo videli, da je razmerje posameznih del proti serijam v prvi stoterici približno 6:4.<br>\n",
    "Sedaj si poglejmo, kako se količini spreminjata skozi celotno lestvico."
   ]
  },
  {
   "cell_type": "code",
   "execution_count": 184,
   "metadata": {},
   "outputs": [],
   "source": [
    "a_cel = stej_serije(len(knjige2))"
   ]
  },
  {
   "cell_type": "code",
   "execution_count": 185,
   "metadata": {},
   "outputs": [],
   "source": [
    "b_cel = stej_solo(len(knjige2))"
   ]
  },
  {
   "cell_type": "code",
   "execution_count": 186,
   "metadata": {},
   "outputs": [],
   "source": [
    "s_cel= [i for i in range(1, len(knjige2)+1)]"
   ]
  },
  {
   "cell_type": "code",
   "execution_count": 187,
   "metadata": {
    "scrolled": true
   },
   "outputs": [
    {
     "data": {
      "text/plain": [
       "[<matplotlib.lines.Line2D at 0x230213611f0>]"
      ]
     },
     "execution_count": 187,
     "metadata": {},
     "output_type": "execute_result"
    },
    {
     "data": {
      "image/png": "[encoded data removed]",
      "text/plain": [
       "<Figure size 432x288 with 1 Axes>"
      ]
     },
     "metadata": {
      "needs_background": "light"
     },
     "output_type": "display_data"
    }
   ],
   "source": [
    "plt.plot(s_cel,a_cel)\n",
    "plt.plot(s_cel,b_cel)"
   ]
  },
  {
   "cell_type": "markdown",
   "metadata": {},
   "source": [
    "Vidimo, da je delež serij in posameznih del približno enak. Na začetku rahlo prevladujejo posamezna dela, kasneje pa serije. Zdi se torej, da dejstvo, da je delo del serije ali ne, ne vpliva splošno priljubljenost dela(med najbolj priljubljenimi deli je približno polovica serij in polovica posameznih del)."
   ]
  },
  {
   "cell_type": "markdown",
   "metadata": {},
   "source": [
    "Poglejmo še, pri katerem tipu je povprečna ocana bralcev višja(ocena od 1 do 5).<br>\n",
    "Opomba: Prej smo analizirali glede na score, v katerem so združeni st_reviewov, povprecna_ocena, st_glasov, st_ocen..."
   ]
  },
  {
   "cell_type": "code",
   "execution_count": 128,
   "metadata": {},
   "outputs": [],
   "source": [
    "povprecna_ocena_serije = knjige[knjige.serija == True].povprecna_ocena.mean()"
   ]
  },
  {
   "cell_type": "code",
   "execution_count": 129,
   "metadata": {},
   "outputs": [],
   "source": [
    "povprecna_ocena_solo = knjige[knjige.serija == False].povprecna_ocena.mean()"
   ]
  },
  {
   "cell_type": "code",
   "execution_count": 130,
   "metadata": {},
   "outputs": [
    {
     "data": {
      "text/plain": [
       "4.103274244004171"
      ]
     },
     "execution_count": 130,
     "metadata": {},
     "output_type": "execute_result"
    }
   ],
   "source": [
    "povprecna_ocena_serije"
   ]
  },
  {
   "cell_type": "code",
   "execution_count": 131,
   "metadata": {},
   "outputs": [
    {
     "data": {
      "text/plain": [
       "4.0401062699256105"
      ]
     },
     "execution_count": 131,
     "metadata": {},
     "output_type": "execute_result"
    }
   ],
   "source": [
    "povprecna_ocena_solo"
   ]
  },
  {
   "cell_type": "markdown",
   "metadata": {},
   "source": [
    "Povprečna ocena serij je torej za malenkost višja, toda razlika je zanemarljiva(0,05 točke). Ocena bralcev je torej praktično ista za serije in posamezna dela."
   ]
  },
  {
   "cell_type": "markdown",
   "metadata": {},
   "source": [
    "Glede na našo analizo lahko torej zaključimo, da je bralcem vseeno ali berejo serije ali posamezna dela."
   ]
  },
  {
   "cell_type": "markdown",
   "metadata": {},
   "source": [
    "# Kateri avtorji in založbe so imeli največ uspešnic?"
   ]
  },
  {
   "cell_type": "markdown",
   "metadata": {},
   "source": [
    "ideja:najti najbolj uspesnega avtorja pri najbolj priljubljenih zanrih\n",
    "Znova bomo najuspešnejšega avtorja poiskali v različno velikih skupinah: 100, 1000 in 10000 knjig."
   ]
  },
  {
   "cell_type": "code",
   "execution_count": 132,
   "metadata": {},
   "outputs": [],
   "source": [
    "st_knjig_avtorja_100 = knjige[['avtor','id_avtor']].head(100).groupby('id_avtor').size().to_frame('st_knjig').sort_values('st_knjig', ascending=False)"
   ]
  },
  {
   "cell_type": "code",
   "execution_count": 133,
   "metadata": {},
   "outputs": [
    {
     "data": {
      "text/html": [
       "<div>\n",
       "<style scoped>\n",
       "    .dataframe tbody tr th:only-of-type {\n",
       "        vertical-align: middle;\n",
       "    }\n",
       "\n",
       "    .dataframe tbody tr th {\n",
       "        vertical-align: top;\n",
       "    }\n",
       "\n",
       "    .dataframe thead th {\n",
       "        text-align: right;\n",
       "    }\n",
       "</style>\n",
       "<table border=\"1\" class=\"dataframe\">\n",
       "  <thead>\n",
       "    <tr style=\"text-align: right;\">\n",
       "      <th></th>\n",
       "      <th>st_knjig</th>\n",
       "    </tr>\n",
       "    <tr>\n",
       "      <th>id_avtor</th>\n",
       "      <th></th>\n",
       "    </tr>\n",
       "  </thead>\n",
       "  <tbody>\n",
       "    <tr>\n",
       "      <th>1077326</th>\n",
       "      <td>4</td>\n",
       "    </tr>\n",
       "    <tr>\n",
       "      <th>3706</th>\n",
       "      <td>2</td>\n",
       "    </tr>\n",
       "    <tr>\n",
       "      <th>569</th>\n",
       "      <td>2</td>\n",
       "    </tr>\n",
       "    <tr>\n",
       "      <th>656983</th>\n",
       "      <td>2</td>\n",
       "    </tr>\n",
       "    <tr>\n",
       "      <th>239579</th>\n",
       "      <td>2</td>\n",
       "    </tr>\n",
       "    <tr>\n",
       "      <th>...</th>\n",
       "      <td>...</td>\n",
       "    </tr>\n",
       "    <tr>\n",
       "      <th>3389</th>\n",
       "      <td>1</td>\n",
       "    </tr>\n",
       "    <tr>\n",
       "      <th>3347</th>\n",
       "      <td>1</td>\n",
       "    </tr>\n",
       "    <tr>\n",
       "      <th>3190</th>\n",
       "      <td>1</td>\n",
       "    </tr>\n",
       "    <tr>\n",
       "      <th>3167</th>\n",
       "      <td>1</td>\n",
       "    </tr>\n",
       "    <tr>\n",
       "      <th>4624490</th>\n",
       "      <td>1</td>\n",
       "    </tr>\n",
       "  </tbody>\n",
       "</table>\n",
       "<p>92 rows × 1 columns</p>\n",
       "</div>"
      ],
      "text/plain": [
       "          st_knjig\n",
       "id_avtor          \n",
       "1077326          4\n",
       "3706             2\n",
       "569              2\n",
       "656983           2\n",
       "239579           2\n",
       "...            ...\n",
       "3389             1\n",
       "3347             1\n",
       "3190             1\n",
       "3167             1\n",
       "4624490          1\n",
       "\n",
       "[92 rows x 1 columns]"
      ]
     },
     "execution_count": 133,
     "metadata": {},
     "output_type": "execute_result"
    }
   ],
   "source": [
    "st_knjig_avtorja_100"
   ]
  },
  {
   "cell_type": "code",
   "execution_count": 134,
   "metadata": {},
   "outputs": [
    {
     "data": {
      "text/html": [
       "<div>\n",
       "<style scoped>\n",
       "    .dataframe tbody tr th:only-of-type {\n",
       "        vertical-align: middle;\n",
       "    }\n",
       "\n",
       "    .dataframe tbody tr th {\n",
       "        vertical-align: top;\n",
       "    }\n",
       "\n",
       "    .dataframe thead th {\n",
       "        text-align: right;\n",
       "    }\n",
       "</style>\n",
       "<table border=\"1\" class=\"dataframe\">\n",
       "  <thead>\n",
       "    <tr style=\"text-align: right;\">\n",
       "      <th></th>\n",
       "      <th>avtor</th>\n",
       "      <th>id_avtor</th>\n",
       "    </tr>\n",
       "    <tr>\n",
       "      <th>id_knjige</th>\n",
       "      <th></th>\n",
       "      <th></th>\n",
       "    </tr>\n",
       "  </thead>\n",
       "  <tbody>\n",
       "    <tr>\n",
       "      <th>1</th>\n",
       "      <td>Suzanne Collins</td>\n",
       "      <td>153394</td>\n",
       "    </tr>\n",
       "    <tr>\n",
       "      <th>2</th>\n",
       "      <td>J.K. Rowling</td>\n",
       "      <td>1077326</td>\n",
       "    </tr>\n",
       "    <tr>\n",
       "      <th>3</th>\n",
       "      <td>Harper Lee</td>\n",
       "      <td>1825</td>\n",
       "    </tr>\n",
       "    <tr>\n",
       "      <th>4</th>\n",
       "      <td>Jane Austen</td>\n",
       "      <td>1265</td>\n",
       "    </tr>\n",
       "    <tr>\n",
       "      <th>5</th>\n",
       "      <td>Stephenie Meyer</td>\n",
       "      <td>941441</td>\n",
       "    </tr>\n",
       "    <tr>\n",
       "      <th>...</th>\n",
       "      <td>...</td>\n",
       "      <td>...</td>\n",
       "    </tr>\n",
       "    <tr>\n",
       "      <th>896</th>\n",
       "      <td>Sherrilyn Kenyon</td>\n",
       "      <td>4430</td>\n",
       "    </tr>\n",
       "    <tr>\n",
       "      <th>897</th>\n",
       "      <td>George Eliot</td>\n",
       "      <td>173</td>\n",
       "    </tr>\n",
       "    <tr>\n",
       "      <th>898</th>\n",
       "      <td>Ayn Rand</td>\n",
       "      <td>432</td>\n",
       "    </tr>\n",
       "    <tr>\n",
       "      <th>899</th>\n",
       "      <td>Aprilynne Pike</td>\n",
       "      <td>2096360</td>\n",
       "    </tr>\n",
       "    <tr>\n",
       "      <th>900</th>\n",
       "      <td>Charlaine Harris</td>\n",
       "      <td>17061</td>\n",
       "    </tr>\n",
       "  </tbody>\n",
       "</table>\n",
       "<p>1900 rows × 2 columns</p>\n",
       "</div>"
      ],
      "text/plain": [
       "                      avtor  id_avtor\n",
       "id_knjige                            \n",
       "1           Suzanne Collins    153394\n",
       "2              J.K. Rowling   1077326\n",
       "3                Harper Lee      1825\n",
       "4               Jane Austen      1265\n",
       "5           Stephenie Meyer    941441\n",
       "...                     ...       ...\n",
       "896        Sherrilyn Kenyon      4430\n",
       "897            George Eliot       173\n",
       "898                Ayn Rand       432\n",
       "899          Aprilynne Pike   2096360\n",
       "900        Charlaine Harris     17061\n",
       "\n",
       "[1900 rows x 2 columns]"
      ]
     },
     "execution_count": 134,
     "metadata": {},
     "output_type": "execute_result"
    }
   ],
   "source": [
    "knjige[['avtor','id_avtor']]"
   ]
  },
  {
   "cell_type": "code",
   "execution_count": 135,
   "metadata": {},
   "outputs": [],
   "source": [
    "najboljsi_avtorji_100 = pd.merge(st_knjig_avtorja_100,knjige[['avtor','id_avtor']],left_on='id_avtor',right_on='id_avtor')"
   ]
  },
  {
   "cell_type": "code",
   "execution_count": 136,
   "metadata": {},
   "outputs": [
    {
     "data": {
      "text/html": [
       "<div>\n",
       "<style scoped>\n",
       "    .dataframe tbody tr th:only-of-type {\n",
       "        vertical-align: middle;\n",
       "    }\n",
       "\n",
       "    .dataframe tbody tr th {\n",
       "        vertical-align: top;\n",
       "    }\n",
       "\n",
       "    .dataframe thead th {\n",
       "        text-align: right;\n",
       "    }\n",
       "</style>\n",
       "<table border=\"1\" class=\"dataframe\">\n",
       "  <thead>\n",
       "    <tr style=\"text-align: right;\">\n",
       "      <th></th>\n",
       "      <th>id_avtor</th>\n",
       "      <th>st_knjig</th>\n",
       "      <th>avtor</th>\n",
       "    </tr>\n",
       "  </thead>\n",
       "  <tbody>\n",
       "    <tr>\n",
       "      <th>10</th>\n",
       "      <td>1077326</td>\n",
       "      <td>4</td>\n",
       "      <td>J.K. Rowling</td>\n",
       "    </tr>\n",
       "    <tr>\n",
       "      <th>17</th>\n",
       "      <td>569</td>\n",
       "      <td>2</td>\n",
       "      <td>Khaled Hosseini</td>\n",
       "    </tr>\n",
       "    <tr>\n",
       "      <th>26</th>\n",
       "      <td>656983</td>\n",
       "      <td>2</td>\n",
       "      <td>J.R.R. Tolkien</td>\n",
       "    </tr>\n",
       "    <tr>\n",
       "      <th>37</th>\n",
       "      <td>239579</td>\n",
       "      <td>2</td>\n",
       "      <td>Charles Dickens</td>\n",
       "    </tr>\n",
       "    <tr>\n",
       "      <th>42</th>\n",
       "      <td>3137322</td>\n",
       "      <td>2</td>\n",
       "      <td>Fyodor Dostoyevsky</td>\n",
       "    </tr>\n",
       "    <tr>\n",
       "      <th>...</th>\n",
       "      <td>...</td>\n",
       "      <td>...</td>\n",
       "      <td>...</td>\n",
       "    </tr>\n",
       "    <tr>\n",
       "      <th>160</th>\n",
       "      <td>2778055</td>\n",
       "      <td>1</td>\n",
       "      <td>Kurt Vonnegut Jr.</td>\n",
       "    </tr>\n",
       "    <tr>\n",
       "      <th>154</th>\n",
       "      <td>4037220</td>\n",
       "      <td>1</td>\n",
       "      <td>Miguel de Cervantes Saavedra</td>\n",
       "    </tr>\n",
       "    <tr>\n",
       "      <th>153</th>\n",
       "      <td>4039811</td>\n",
       "      <td>1</td>\n",
       "      <td>Veronica Roth</td>\n",
       "    </tr>\n",
       "    <tr>\n",
       "      <th>148</th>\n",
       "      <td>7128</td>\n",
       "      <td>1</td>\n",
       "      <td>Jodi Picoult</td>\n",
       "    </tr>\n",
       "    <tr>\n",
       "      <th>412</th>\n",
       "      <td>4624490</td>\n",
       "      <td>1</td>\n",
       "      <td>Edgar Allan Poe</td>\n",
       "    </tr>\n",
       "  </tbody>\n",
       "</table>\n",
       "<p>92 rows × 3 columns</p>\n",
       "</div>"
      ],
      "text/plain": [
       "     id_avtor  st_knjig                         avtor\n",
       "10    1077326         4                  J.K. Rowling\n",
       "17        569         2               Khaled Hosseini\n",
       "26     656983         2                J.R.R. Tolkien\n",
       "37     239579         2               Charles Dickens\n",
       "42    3137322         2            Fyodor Dostoyevsky\n",
       "..        ...       ...                           ...\n",
       "160   2778055         1             Kurt Vonnegut Jr.\n",
       "154   4037220         1  Miguel de Cervantes Saavedra\n",
       "153   4039811         1                 Veronica Roth\n",
       "148      7128         1                  Jodi Picoult\n",
       "412   4624490         1               Edgar Allan Poe\n",
       "\n",
       "[92 rows x 3 columns]"
      ]
     },
     "execution_count": 136,
     "metadata": {},
     "output_type": "execute_result"
    }
   ],
   "source": [
    "najboljsi_avtorji_100.drop_duplicates(keep='last').sort_values('st_knjig',ascending=False)"
   ]
  },
  {
   "cell_type": "markdown",
   "metadata": {},
   "source": [
    "J.K.Rowlin je torej napisala kar 4 izmed stotih najbolje ocenjenih knjig spletne strani...."
   ]
  },
  {
   "cell_type": "markdown",
   "metadata": {},
   "source": [
    "TO DO:poiskati avtorja in zalozbo z najvec nagradami"
   ]
  },
  {
   "cell_type": "markdown",
   "metadata": {},
   "source": [
    "Sedaj poiščimo še najbolj uspešno založbo."
   ]
  },
  {
   "cell_type": "code",
   "execution_count": 137,
   "metadata": {},
   "outputs": [],
   "source": [
    "st_knjig_zalozbe_100 = knjige[['zalozba']].head(100).groupby('zalozba').size().to_frame('st_knjig').sort_values('st_knjig', ascending=False)"
   ]
  },
  {
   "cell_type": "code",
   "execution_count": 138,
   "metadata": {},
   "outputs": [
    {
     "data": {
      "text/html": [
       "<div>\n",
       "<style scoped>\n",
       "    .dataframe tbody tr th:only-of-type {\n",
       "        vertical-align: middle;\n",
       "    }\n",
       "\n",
       "    .dataframe tbody tr th {\n",
       "        vertical-align: top;\n",
       "    }\n",
       "\n",
       "    .dataframe thead th {\n",
       "        text-align: right;\n",
       "    }\n",
       "</style>\n",
       "<table border=\"1\" class=\"dataframe\">\n",
       "  <thead>\n",
       "    <tr style=\"text-align: right;\">\n",
       "      <th></th>\n",
       "      <th>st_knjig</th>\n",
       "    </tr>\n",
       "    <tr>\n",
       "      <th>zalozba</th>\n",
       "      <th></th>\n",
       "    </tr>\n",
       "  </thead>\n",
       "  <tbody>\n",
       "    <tr>\n",
       "      <th>Penguin</th>\n",
       "      <td>4</td>\n",
       "    </tr>\n",
       "    <tr>\n",
       "      <th>Penguin Books</th>\n",
       "      <td>4</td>\n",
       "    </tr>\n",
       "    <tr>\n",
       "      <th>Ballantine Books</th>\n",
       "      <td>4</td>\n",
       "    </tr>\n",
       "    <tr>\n",
       "      <th>Little, Brown and Company</th>\n",
       "      <td>3</td>\n",
       "    </tr>\n",
       "    <tr>\n",
       "      <th>Scribner</th>\n",
       "      <td>2</td>\n",
       "    </tr>\n",
       "    <tr>\n",
       "      <th>...</th>\n",
       "      <td>...</td>\n",
       "    </tr>\n",
       "    <tr>\n",
       "      <th>Grand Central Publishing</th>\n",
       "      <td>1</td>\n",
       "    </tr>\n",
       "    <tr>\n",
       "      <th>Farrar, Straus and Giroux</th>\n",
       "      <td>1</td>\n",
       "    </tr>\n",
       "    <tr>\n",
       "      <th>Ember</th>\n",
       "      <td>1</td>\n",
       "    </tr>\n",
       "    <tr>\n",
       "      <th>Dutton Juvenile</th>\n",
       "      <td>1</td>\n",
       "    </tr>\n",
       "    <tr>\n",
       "      <th>Zola Books</th>\n",
       "      <td>1</td>\n",
       "    </tr>\n",
       "  </tbody>\n",
       "</table>\n",
       "<p>79 rows × 1 columns</p>\n",
       "</div>"
      ],
      "text/plain": [
       "                           st_knjig\n",
       "zalozba                            \n",
       "Penguin                           4\n",
       "Penguin Books                     4\n",
       "Ballantine Books                  4\n",
       "Little, Brown and Company         3\n",
       "Scribner                          2\n",
       "...                             ...\n",
       "Grand Central Publishing          1\n",
       "Farrar, Straus and Giroux         1\n",
       "Ember                             1\n",
       "Dutton Juvenile                   1\n",
       "Zola Books                        1\n",
       "\n",
       "[79 rows x 1 columns]"
      ]
     },
     "execution_count": 138,
     "metadata": {},
     "output_type": "execute_result"
    }
   ],
   "source": [
    "st_knjig_zalozbe_100"
   ]
  },
  {
   "cell_type": "markdown",
   "metadata": {},
   "source": [
    "# Ali obstaja časovno obdobje, v katerem je izšla večina knjig iz vrha seznama?\n"
   ]
  },
  {
   "cell_type": "code",
   "execution_count": 139,
   "metadata": {},
   "outputs": [],
   "source": [
    "st_knjig_po_letih = knjige.groupby('leto').size().to_frame('st_knjig_letno')"
   ]
  },
  {
   "cell_type": "code",
   "execution_count": 140,
   "metadata": {},
   "outputs": [
    {
     "data": {
      "text/plain": [
       "<AxesSubplot:xlabel='leto'>"
      ]
     },
     "execution_count": 140,
     "metadata": {},
     "output_type": "execute_result"
    },
    {
     "data": {
      "image/png": "[encoded data removed]",
      "text/plain": [
       "<Figure size 432x288 with 1 Axes>"
      ]
     },
     "metadata": {
      "needs_background": "light"
     },
     "output_type": "display_data"
    }
   ],
   "source": [
    "st_knjig_po_letih.plot.bar()"
   ]
  },
  {
   "cell_type": "markdown",
   "metadata": {},
   "source": [
    "# Ali so knjige z literarnimi nagradami tudi med bralci bolje ocenjene?\n",
    "Želim preveriti ali bralci knjigam z literarnimi nagradami v povprečju dajo višjo oceno, kot tistim brez nagrad. Želim tudi preveriti, ali povprečna ocena s številom nagrad narašča."
   ]
  },
  {
   "cell_type": "markdown",
   "metadata": {},
   "source": [
    "Za začetek poglejmo, ali je med knjigami več knjig z nagradami ali brez."
   ]
  },
  {
   "cell_type": "code",
   "execution_count": 141,
   "metadata": {},
   "outputs": [
    {
     "data": {
      "text/plain": [
       "nagrade\n",
       "False     817\n",
       "True     1083\n",
       "dtype: int64"
      ]
     },
     "execution_count": 141,
     "metadata": {},
     "output_type": "execute_result"
    }
   ],
   "source": [
    "knjige.groupby('nagrade').size()"
   ]
  },
  {
   "cell_type": "markdown",
   "metadata": {},
   "source": [
    "Večina knjig s seznama je torej prejela vsaj eno nagrado"
   ]
  },
  {
   "cell_type": "code",
   "execution_count": 142,
   "metadata": {},
   "outputs": [],
   "source": [
    "povprecna_ocena_z_nagrado = knjige[knjige.nagrade == True].povprecna_ocena.mean()"
   ]
  },
  {
   "cell_type": "code",
   "execution_count": 143,
   "metadata": {},
   "outputs": [
    {
     "data": {
      "text/plain": [
       "4.078282548476454"
      ]
     },
     "execution_count": 143,
     "metadata": {},
     "output_type": "execute_result"
    }
   ],
   "source": [
    "povprecna_ocena_z_nagrado"
   ]
  },
  {
   "cell_type": "code",
   "execution_count": 144,
   "metadata": {},
   "outputs": [],
   "source": [
    "povprecna_ocena_brez_nagrade = knjige[knjige.nagrade == False].povprecna_ocena.mean()"
   ]
  },
  {
   "cell_type": "code",
   "execution_count": 145,
   "metadata": {},
   "outputs": [
    {
     "data": {
      "text/plain": [
       "4.063647490820073"
      ]
     },
     "execution_count": 145,
     "metadata": {},
     "output_type": "execute_result"
    }
   ],
   "source": [
    "povprecna_ocena_brez_nagrade"
   ]
  },
  {
   "cell_type": "markdown",
   "metadata": {},
   "source": [
    "Vidimo, da je ocena prvih sto knjig praktično ista za knjige z nagradami in knjige brez nagrad.\n",
    "Poglejmo ali se situacija spremeni, ko pogledamo večje število knjig."
   ]
  },
  {
   "cell_type": "markdown",
   "metadata": {},
   "source": [
    "Sedaj si oglejmo ali se ocena nagrajenih knjig spreminja s stevilom nagrad"
   ]
  },
  {
   "cell_type": "code",
   "execution_count": 146,
   "metadata": {},
   "outputs": [],
   "source": [
    "nagrajene_knjige = knjige[knjige.nagrade == True]"
   ]
  },
  {
   "cell_type": "code",
   "execution_count": 147,
   "metadata": {},
   "outputs": [
    {
     "data": {
      "text/html": [
       "<div>\n",
       "<style scoped>\n",
       "    .dataframe tbody tr th:only-of-type {\n",
       "        vertical-align: middle;\n",
       "    }\n",
       "\n",
       "    .dataframe tbody tr th {\n",
       "        vertical-align: top;\n",
       "    }\n",
       "\n",
       "    .dataframe thead th {\n",
       "        text-align: right;\n",
       "    }\n",
       "</style>\n",
       "<table border=\"1\" class=\"dataframe\">\n",
       "  <thead>\n",
       "    <tr style=\"text-align: right;\">\n",
       "      <th></th>\n",
       "      <th>knjiga</th>\n",
       "      <th>avtor</th>\n",
       "      <th>id_avtor</th>\n",
       "      <th>serija</th>\n",
       "      <th>opis</th>\n",
       "      <th>leto</th>\n",
       "      <th>zalozba</th>\n",
       "      <th>povprecna_ocena</th>\n",
       "      <th>score</th>\n",
       "      <th>st_glasov</th>\n",
       "      <th>st_ocen</th>\n",
       "      <th>st_reviewov</th>\n",
       "      <th>nagrade</th>\n",
       "      <th>st_nagrad</th>\n",
       "    </tr>\n",
       "    <tr>\n",
       "      <th>id_knjige</th>\n",
       "      <th></th>\n",
       "      <th></th>\n",
       "      <th></th>\n",
       "      <th></th>\n",
       "      <th></th>\n",
       "      <th></th>\n",
       "      <th></th>\n",
       "      <th></th>\n",
       "      <th></th>\n",
       "      <th></th>\n",
       "      <th></th>\n",
       "      <th></th>\n",
       "      <th></th>\n",
       "      <th></th>\n",
       "    </tr>\n",
       "  </thead>\n",
       "  <tbody>\n",
       "    <tr>\n",
       "      <th>1</th>\n",
       "      <td>The Hunger Games</td>\n",
       "      <td>Suzanne Collins</td>\n",
       "      <td>153394</td>\n",
       "      <td>True</td>\n",
       "      <td>Could you survive on your own in the wild, wit...</td>\n",
       "      <td>2008</td>\n",
       "      <td>Scholastic Press</td>\n",
       "      <td>4.32</td>\n",
       "      <td>3038720</td>\n",
       "      <td>30970</td>\n",
       "      <td>6595031</td>\n",
       "      <td>174357</td>\n",
       "      <td>True</td>\n",
       "      <td>41.0</td>\n",
       "    </tr>\n",
       "    <tr>\n",
       "      <th>2</th>\n",
       "      <td>Harry Potter and the Order of the Phoenix</td>\n",
       "      <td>J.K. Rowling</td>\n",
       "      <td>1077326</td>\n",
       "      <td>True</td>\n",
       "      <td>There is a door at the end of a silent corrido...</td>\n",
       "      <td>2004</td>\n",
       "      <td>Scholastic Inc.</td>\n",
       "      <td>4.50</td>\n",
       "      <td>2668003</td>\n",
       "      <td>27286</td>\n",
       "      <td>2610721</td>\n",
       "      <td>44305</td>\n",
       "      <td>True</td>\n",
       "      <td>9.0</td>\n",
       "    </tr>\n",
       "    <tr>\n",
       "      <th>3</th>\n",
       "      <td>To Kill a Mockingbird</td>\n",
       "      <td>Harper Lee</td>\n",
       "      <td>1825</td>\n",
       "      <td>True</td>\n",
       "      <td>The unforgettable novel of a childhood in a sl...</td>\n",
       "      <td>2006</td>\n",
       "      <td>Harper Perennial Modern Classics</td>\n",
       "      <td>4.28</td>\n",
       "      <td>2311193</td>\n",
       "      <td>23750</td>\n",
       "      <td>4677256</td>\n",
       "      <td>93734</td>\n",
       "      <td>True</td>\n",
       "      <td>4.0</td>\n",
       "    </tr>\n",
       "    <tr>\n",
       "      <th>5</th>\n",
       "      <td>Twilight</td>\n",
       "      <td>Stephenie Meyer</td>\n",
       "      <td>941441</td>\n",
       "      <td>True</td>\n",
       "      <td>About three things I was absolutely positive. ...</td>\n",
       "      <td>2006</td>\n",
       "      <td>Little, Brown and Company</td>\n",
       "      <td>3.61</td>\n",
       "      <td>1472928</td>\n",
       "      <td>15012</td>\n",
       "      <td>5135962</td>\n",
       "      <td>106204</td>\n",
       "      <td>True</td>\n",
       "      <td>25.0</td>\n",
       "    </tr>\n",
       "    <tr>\n",
       "      <th>6</th>\n",
       "      <td>The Book Thief</td>\n",
       "      <td>Markus Zusak</td>\n",
       "      <td>11466</td>\n",
       "      <td>False</td>\n",
       "      <td>It is 1939. Nazi Germany. The country is hol...</td>\n",
       "      <td>2006</td>\n",
       "      <td>Alfred A. Knopf</td>\n",
       "      <td>4.38</td>\n",
       "      <td>1407928</td>\n",
       "      <td>14526</td>\n",
       "      <td>1909675</td>\n",
       "      <td>115407</td>\n",
       "      <td>True</td>\n",
       "      <td>20.0</td>\n",
       "    </tr>\n",
       "    <tr>\n",
       "      <th>...</th>\n",
       "      <td>...</td>\n",
       "      <td>...</td>\n",
       "      <td>...</td>\n",
       "      <td>...</td>\n",
       "      <td>...</td>\n",
       "      <td>...</td>\n",
       "      <td>...</td>\n",
       "      <td>...</td>\n",
       "      <td>...</td>\n",
       "      <td>...</td>\n",
       "      <td>...</td>\n",
       "      <td>...</td>\n",
       "      <td>...</td>\n",
       "      <td>...</td>\n",
       "    </tr>\n",
       "    <tr>\n",
       "      <th>890</th>\n",
       "      <td>The 5 Love Languages: The Secret to Love that ...</td>\n",
       "      <td>Gary Chapman</td>\n",
       "      <td>622</td>\n",
       "      <td>False</td>\n",
       "      <td>this book is a tool through which the author, ...</td>\n",
       "      <td>2014</td>\n",
       "      <td>Northfield Publishing</td>\n",
       "      <td>4.25</td>\n",
       "      <td>7915</td>\n",
       "      <td>108</td>\n",
       "      <td>314254</td>\n",
       "      <td>12709</td>\n",
       "      <td>True</td>\n",
       "      <td>1.0</td>\n",
       "    </tr>\n",
       "    <tr>\n",
       "      <th>894</th>\n",
       "      <td>Passion</td>\n",
       "      <td>Lauren Kate</td>\n",
       "      <td>2905297</td>\n",
       "      <td>True</td>\n",
       "      <td>Luce would die for Daniel.  And she has. Over ...</td>\n",
       "      <td>2011</td>\n",
       "      <td>Delacorte Press</td>\n",
       "      <td>3.87</td>\n",
       "      <td>7899</td>\n",
       "      <td>111</td>\n",
       "      <td>153474</td>\n",
       "      <td>6055</td>\n",
       "      <td>True</td>\n",
       "      <td>2.0</td>\n",
       "    </tr>\n",
       "    <tr>\n",
       "      <th>895</th>\n",
       "      <td>Dead and Gone</td>\n",
       "      <td>Charlaine Harris</td>\n",
       "      <td>17061</td>\n",
       "      <td>True</td>\n",
       "      <td>The vamps have been out for years, and now the...</td>\n",
       "      <td>2009</td>\n",
       "      <td>Ace Books</td>\n",
       "      <td>4.01</td>\n",
       "      <td>7883</td>\n",
       "      <td>117</td>\n",
       "      <td>178062</td>\n",
       "      <td>4530</td>\n",
       "      <td>True</td>\n",
       "      <td>1.0</td>\n",
       "    </tr>\n",
       "    <tr>\n",
       "      <th>896</th>\n",
       "      <td>Fantasy Lover</td>\n",
       "      <td>Sherrilyn Kenyon</td>\n",
       "      <td>4430</td>\n",
       "      <td>True</td>\n",
       "      <td>Cursed into an eternity of slavery by his own ...</td>\n",
       "      <td>2002</td>\n",
       "      <td>St. Martin's Press</td>\n",
       "      <td>4.16</td>\n",
       "      <td>7881</td>\n",
       "      <td>103</td>\n",
       "      <td>86299</td>\n",
       "      <td>3754</td>\n",
       "      <td>True</td>\n",
       "      <td>3.0</td>\n",
       "    </tr>\n",
       "    <tr>\n",
       "      <th>899</th>\n",
       "      <td>Wings</td>\n",
       "      <td>Aprilynne Pike</td>\n",
       "      <td>2096360</td>\n",
       "      <td>True</td>\n",
       "      <td>Laurel was mesmerized, staring at the pale thi...</td>\n",
       "      <td>2009</td>\n",
       "      <td>HarperTeen</td>\n",
       "      <td>3.75</td>\n",
       "      <td>7866</td>\n",
       "      <td>100</td>\n",
       "      <td>77493</td>\n",
       "      <td>5122</td>\n",
       "      <td>True</td>\n",
       "      <td>1.0</td>\n",
       "    </tr>\n",
       "  </tbody>\n",
       "</table>\n",
       "<p>1083 rows × 14 columns</p>\n",
       "</div>"
      ],
      "text/plain": [
       "                                                      knjiga  \\\n",
       "id_knjige                                                      \n",
       "1                                           The Hunger Games   \n",
       "2                  Harry Potter and the Order of the Phoenix   \n",
       "3                                      To Kill a Mockingbird   \n",
       "5                                                   Twilight   \n",
       "6                                             The Book Thief   \n",
       "...                                                      ...   \n",
       "890        The 5 Love Languages: The Secret to Love that ...   \n",
       "894                                                  Passion   \n",
       "895                                            Dead and Gone   \n",
       "896                                            Fantasy Lover   \n",
       "899                                                    Wings   \n",
       "\n",
       "                      avtor  id_avtor  serija  \\\n",
       "id_knjige                                       \n",
       "1           Suzanne Collins    153394    True   \n",
       "2              J.K. Rowling   1077326    True   \n",
       "3                Harper Lee      1825    True   \n",
       "5           Stephenie Meyer    941441    True   \n",
       "6              Markus Zusak     11466   False   \n",
       "...                     ...       ...     ...   \n",
       "890            Gary Chapman       622   False   \n",
       "894             Lauren Kate   2905297    True   \n",
       "895        Charlaine Harris     17061    True   \n",
       "896        Sherrilyn Kenyon      4430    True   \n",
       "899          Aprilynne Pike   2096360    True   \n",
       "\n",
       "                                                        opis  leto  \\\n",
       "id_knjige                                                            \n",
       "1          Could you survive on your own in the wild, wit...  2008   \n",
       "2          There is a door at the end of a silent corrido...  2004   \n",
       "3          The unforgettable novel of a childhood in a sl...  2006   \n",
       "5          About three things I was absolutely positive. ...  2006   \n",
       "6            It is 1939. Nazi Germany. The country is hol...  2006   \n",
       "...                                                      ...   ...   \n",
       "890        this book is a tool through which the author, ...  2014   \n",
       "894        Luce would die for Daniel.  And she has. Over ...  2011   \n",
       "895        The vamps have been out for years, and now the...  2009   \n",
       "896        Cursed into an eternity of slavery by his own ...  2002   \n",
       "899        Laurel was mesmerized, staring at the pale thi...  2009   \n",
       "\n",
       "                                     zalozba  povprecna_ocena    score  \\\n",
       "id_knjige                                                                \n",
       "1                           Scholastic Press             4.32  3038720   \n",
       "2                            Scholastic Inc.             4.50  2668003   \n",
       "3          Harper Perennial Modern Classics              4.28  2311193   \n",
       "5                  Little, Brown and Company             3.61  1472928   \n",
       "6                            Alfred A. Knopf             4.38  1407928   \n",
       "...                                      ...              ...      ...   \n",
       "890                    Northfield Publishing             4.25     7915   \n",
       "894                          Delacorte Press             3.87     7899   \n",
       "895                                Ace Books             4.01     7883   \n",
       "896                       St. Martin's Press             4.16     7881   \n",
       "899                               HarperTeen             3.75     7866   \n",
       "\n",
       "           st_glasov  st_ocen  st_reviewov  nagrade  st_nagrad  \n",
       "id_knjige                                                       \n",
       "1              30970  6595031       174357     True       41.0  \n",
       "2              27286  2610721        44305     True        9.0  \n",
       "3              23750  4677256        93734     True        4.0  \n",
       "5              15012  5135962       106204     True       25.0  \n",
       "6              14526  1909675       115407     True       20.0  \n",
       "...              ...      ...          ...      ...        ...  \n",
       "890              108   314254        12709     True        1.0  \n",
       "894              111   153474         6055     True        2.0  \n",
       "895              117   178062         4530     True        1.0  \n",
       "896              103    86299         3754     True        3.0  \n",
       "899              100    77493         5122     True        1.0  \n",
       "\n",
       "[1083 rows x 14 columns]"
      ]
     },
     "execution_count": 147,
     "metadata": {},
     "output_type": "execute_result"
    }
   ],
   "source": [
    "nagrajene_knjige"
   ]
  },
  {
   "cell_type": "code",
   "execution_count": 148,
   "metadata": {},
   "outputs": [],
   "source": [
    "ocena_in_nagrade = pd.merge(nagrajene_knjige[['povprecna_ocena']],nagrade, left_on='id_knjige', right_on='id_knjige')"
   ]
  },
  {
   "cell_type": "code",
   "execution_count": 149,
   "metadata": {},
   "outputs": [
    {
     "data": {
      "text/html": [
       "<div>\n",
       "<style scoped>\n",
       "    .dataframe tbody tr th:only-of-type {\n",
       "        vertical-align: middle;\n",
       "    }\n",
       "\n",
       "    .dataframe tbody tr th {\n",
       "        vertical-align: top;\n",
       "    }\n",
       "\n",
       "    .dataframe thead th {\n",
       "        text-align: right;\n",
       "    }\n",
       "</style>\n",
       "<table border=\"1\" class=\"dataframe\">\n",
       "  <thead>\n",
       "    <tr style=\"text-align: right;\">\n",
       "      <th></th>\n",
       "      <th>povprecna_ocena</th>\n",
       "      <th>nagrada</th>\n",
       "    </tr>\n",
       "    <tr>\n",
       "      <th>id_knjige</th>\n",
       "      <th></th>\n",
       "      <th></th>\n",
       "    </tr>\n",
       "  </thead>\n",
       "  <tbody>\n",
       "    <tr>\n",
       "      <th>1</th>\n",
       "      <td>4.32</td>\n",
       "      <td>Locus Award Nominee for Best Young Adult Book</td>\n",
       "    </tr>\n",
       "    <tr>\n",
       "      <th>1</th>\n",
       "      <td>4.32</td>\n",
       "      <td>Georgia Peach Book Award</td>\n",
       "    </tr>\n",
       "    <tr>\n",
       "      <th>1</th>\n",
       "      <td>4.32</td>\n",
       "      <td>Buxtehuder Bulle</td>\n",
       "    </tr>\n",
       "    <tr>\n",
       "      <th>1</th>\n",
       "      <td>4.32</td>\n",
       "      <td>Golden Duck Award for Young Adult</td>\n",
       "    </tr>\n",
       "    <tr>\n",
       "      <th>1</th>\n",
       "      <td>4.32</td>\n",
       "      <td>Grand Prix de l'Imaginaire Nominee for Roman j...</td>\n",
       "    </tr>\n",
       "    <tr>\n",
       "      <th>...</th>\n",
       "      <td>...</td>\n",
       "      <td>...</td>\n",
       "    </tr>\n",
       "    <tr>\n",
       "      <th>895</th>\n",
       "      <td>4.01</td>\n",
       "      <td>Goodreads Choice Award for Fantasy</td>\n",
       "    </tr>\n",
       "    <tr>\n",
       "      <th>896</th>\n",
       "      <td>4.16</td>\n",
       "      <td>HOLT Medallion by Virginia Romance Writers Nom...</td>\n",
       "    </tr>\n",
       "    <tr>\n",
       "      <th>896</th>\n",
       "      <td>4.16</td>\n",
       "      <td>PRISM Award by Fantasy, Futuristic and Paranor...</td>\n",
       "    </tr>\n",
       "    <tr>\n",
       "      <th>896</th>\n",
       "      <td>4.16</td>\n",
       "      <td>Favorite Books by Romance Writers of America N...</td>\n",
       "    </tr>\n",
       "    <tr>\n",
       "      <th>899</th>\n",
       "      <td>3.75</td>\n",
       "      <td>Romantic Times Reviewers' Choice Award</td>\n",
       "    </tr>\n",
       "  </tbody>\n",
       "</table>\n",
       "<p>3897 rows × 2 columns</p>\n",
       "</div>"
      ],
      "text/plain": [
       "           povprecna_ocena                                            nagrada\n",
       "id_knjige                                                                    \n",
       "1                     4.32     Locus Award Nominee for Best Young Adult Book \n",
       "1                     4.32                          Georgia Peach Book Award \n",
       "1                     4.32                                  Buxtehuder Bulle \n",
       "1                     4.32                 Golden Duck Award for Young Adult \n",
       "1                     4.32  Grand Prix de l'Imaginaire Nominee for Roman j...\n",
       "...                    ...                                                ...\n",
       "895                   4.01                Goodreads Choice Award for Fantasy \n",
       "896                   4.16  HOLT Medallion by Virginia Romance Writers Nom...\n",
       "896                   4.16  PRISM Award by Fantasy, Futuristic and Paranor...\n",
       "896                   4.16  Favorite Books by Romance Writers of America N...\n",
       "899                   3.75            Romantic Times Reviewers' Choice Award \n",
       "\n",
       "[3897 rows x 2 columns]"
      ]
     },
     "execution_count": 149,
     "metadata": {},
     "output_type": "execute_result"
    }
   ],
   "source": [
    "ocena_in_nagrade"
   ]
  },
  {
   "cell_type": "code",
   "execution_count": 150,
   "metadata": {},
   "outputs": [],
   "source": [
    "knjige['st_nagrad']=ocena_in_nagrade.groupby('id_knjige').size().to_frame('st_nagrad')"
   ]
  },
  {
   "cell_type": "code",
   "execution_count": 151,
   "metadata": {},
   "outputs": [],
   "source": [
    "ocena_z_nagradami = knjige.groupby('st_nagrad').povprecna_ocena.mean()"
   ]
  },
  {
   "cell_type": "code",
   "execution_count": 152,
   "metadata": {},
   "outputs": [
    {
     "data": {
      "text/plain": [
       "<AxesSubplot:xlabel='st_nagrad'>"
      ]
     },
     "execution_count": 152,
     "metadata": {},
     "output_type": "execute_result"
    },
    {
     "data": {
      "image/png": "[encoded data removed]",
      "text/plain": [
       "<Figure size 432x288 with 1 Axes>"
      ]
     },
     "metadata": {
      "needs_background": "light"
     },
     "output_type": "display_data"
    }
   ],
   "source": [
    "ocena_z_nagradami.plot.bar()"
   ]
  },
  {
   "cell_type": "code",
   "execution_count": null,
   "metadata": {},
   "outputs": [],
   "source": []
  }
 ],
 "metadata": {
  "kernelspec": {
   "display_name": "Python 3",
   "language": "python",
   "name": "python3"
  },
  "language_info": {
   "codemirror_mode": {
    "name": "ipython",
    "version": 3
   },
   "file_extension": ".py",
   "mimetype": "text/x-python",
   "name": "python",
   "nbconvert_exporter": "python",
   "pygments_lexer": "ipython3",
   "version": "3.8.1"
  }
 },
 "nbformat": 4,
 "nbformat_minor": 4
}
