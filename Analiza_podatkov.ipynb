{
 "cells": [
  {
   "cell_type": "markdown",
   "metadata": {},
   "source": [
    "# Analiza najboljših knjig "
   ]
  },
  {
   "cell_type": "markdown",
   "metadata": {},
   "source": [
    "Med študijem na FMF me prešine grenko spoznanje: medtem ko trpim za skripto analize ali se mučim s pisanjem naloge za programiranje, moji nekdanji sošolci, sedaj študentje FDV-ja, posedajo po kavarnah (pre corona time) ali preprosto ne vedo, kaj bi s svojim časom. Tudi jaz si zaželim lagodnega življenja, zato se odločim, da postanem samooklicana umetnica, napišem eno ali dve uspešni knjigi in nato uživantsko živim od obilnih prihodkov. \n",
    "\n",
    "Ker ne želim izgubljati časa s pisanjem povprečnih del, ampak se že s svojim prvencem zavihteti na sam vrh, želim ugotoviti, kakšno delo moram ustvariti, da bo moja možnost za uspeh čim večja. Tako najdem spletno stran goodreads.com in se pri ustvarjanju vrhunske literature odločim slediti njeni lestvici ."
   ]
  },
  {
   "cell_type": "code",
   "execution_count": 549,
   "metadata": {},
   "outputs": [],
   "source": [
    "import pandas as pd"
   ]
  },
  {
   "cell_type": "markdown",
   "metadata": {},
   "source": [
    "Za začetek shranim podatke o knjigah, žanrih in nagradah v nove spremenljivke. Za indeksni stolpec pri vseh treh izberem \"id_knjige\". Ta je določen enolično, saj ga vsaka knjiga dobi glede na mesto na lestvici, mesta pa se ne ponavljajo.\n",
    "\n",
    "Pri združevanju csv datotek se je vrstni red lestvice rahlo premešal, tako da moram podatke po uvozu spet posortirati. Sortiram po vrstnem redu dela na lestvici.\n",
    "\n",
    "Opomba: Če želim sortirati po \"score\", je vseeno če sortiram po id_knjige, saj \"score\" določi mesto knjige na lestvici (knjiga z najvišjim se nahaja na prvem mestu)."
   ]
  },
  {
   "cell_type": "code",
   "execution_count": 550,
   "metadata": {},
   "outputs": [],
   "source": [
    "knjige = pd.read_csv('../Najbolj-e-knjige-vseh-asov/PODATKI/zdruzene_knjige.csv', index_col='id_knjige').sort_values('id_knjige')"
   ]
  },
  {
   "cell_type": "code",
   "execution_count": 551,
   "metadata": {
    "scrolled": true
   },
   "outputs": [
    {
     "data": {
      "text/html": [
       "<div>\n",
       "<style scoped>\n",
       "    .dataframe tbody tr th:only-of-type {\n",
       "        vertical-align: middle;\n",
       "    }\n",
       "\n",
       "    .dataframe tbody tr th {\n",
       "        vertical-align: top;\n",
       "    }\n",
       "\n",
       "    .dataframe thead th {\n",
       "        text-align: right;\n",
       "    }\n",
       "</style>\n",
       "<table border=\"1\" class=\"dataframe\">\n",
       "  <thead>\n",
       "    <tr style=\"text-align: right;\">\n",
       "      <th></th>\n",
       "      <th>knjiga</th>\n",
       "      <th>avtor</th>\n",
       "      <th>id_avtor</th>\n",
       "      <th>serija</th>\n",
       "      <th>opis</th>\n",
       "      <th>leto</th>\n",
       "      <th>zalozba</th>\n",
       "      <th>povprecna_ocena</th>\n",
       "      <th>score</th>\n",
       "      <th>st_glasov</th>\n",
       "      <th>st_ocen</th>\n",
       "      <th>st_reviewov</th>\n",
       "      <th>nagrade</th>\n",
       "    </tr>\n",
       "    <tr>\n",
       "      <th>id_knjige</th>\n",
       "      <th></th>\n",
       "      <th></th>\n",
       "      <th></th>\n",
       "      <th></th>\n",
       "      <th></th>\n",
       "      <th></th>\n",
       "      <th></th>\n",
       "      <th></th>\n",
       "      <th></th>\n",
       "      <th></th>\n",
       "      <th></th>\n",
       "      <th></th>\n",
       "      <th></th>\n",
       "    </tr>\n",
       "  </thead>\n",
       "  <tbody>\n",
       "    <tr>\n",
       "      <th>1</th>\n",
       "      <td>The Hunger Games</td>\n",
       "      <td>Suzanne Collins</td>\n",
       "      <td>153394</td>\n",
       "      <td>True</td>\n",
       "      <td>Could you survive on your own in the wild, wit...</td>\n",
       "      <td>2008</td>\n",
       "      <td>Scholastic Press</td>\n",
       "      <td>4.32</td>\n",
       "      <td>3038720</td>\n",
       "      <td>30970</td>\n",
       "      <td>6595031</td>\n",
       "      <td>174357</td>\n",
       "      <td>True</td>\n",
       "    </tr>\n",
       "    <tr>\n",
       "      <th>2</th>\n",
       "      <td>Harry Potter and the Order of the Phoenix</td>\n",
       "      <td>J.K. Rowling</td>\n",
       "      <td>1077326</td>\n",
       "      <td>True</td>\n",
       "      <td>There is a door at the end of a silent corrido...</td>\n",
       "      <td>2004</td>\n",
       "      <td>Scholastic Inc.</td>\n",
       "      <td>4.50</td>\n",
       "      <td>2668003</td>\n",
       "      <td>27286</td>\n",
       "      <td>2610721</td>\n",
       "      <td>44305</td>\n",
       "      <td>True</td>\n",
       "    </tr>\n",
       "    <tr>\n",
       "      <th>3</th>\n",
       "      <td>To Kill a Mockingbird</td>\n",
       "      <td>Harper Lee</td>\n",
       "      <td>1825</td>\n",
       "      <td>True</td>\n",
       "      <td>The unforgettable novel of a childhood in a sl...</td>\n",
       "      <td>2006</td>\n",
       "      <td>Harper Perennial Modern Classics</td>\n",
       "      <td>4.28</td>\n",
       "      <td>2311193</td>\n",
       "      <td>23750</td>\n",
       "      <td>4677256</td>\n",
       "      <td>93734</td>\n",
       "      <td>True</td>\n",
       "    </tr>\n",
       "    <tr>\n",
       "      <th>4</th>\n",
       "      <td>Pride and Prejudice</td>\n",
       "      <td>Jane Austen</td>\n",
       "      <td>1265</td>\n",
       "      <td>False</td>\n",
       "      <td>Since its immediate success in 1813,  has re...</td>\n",
       "      <td>2000</td>\n",
       "      <td>Modern Library</td>\n",
       "      <td>4.27</td>\n",
       "      <td>2035385</td>\n",
       "      <td>20982</td>\n",
       "      <td>3111901</td>\n",
       "      <td>68689</td>\n",
       "      <td>False</td>\n",
       "    </tr>\n",
       "    <tr>\n",
       "      <th>5</th>\n",
       "      <td>Twilight</td>\n",
       "      <td>Stephenie Meyer</td>\n",
       "      <td>941441</td>\n",
       "      <td>True</td>\n",
       "      <td>About three things I was absolutely positive. ...</td>\n",
       "      <td>2006</td>\n",
       "      <td>Little, Brown and Company</td>\n",
       "      <td>3.61</td>\n",
       "      <td>1472928</td>\n",
       "      <td>15012</td>\n",
       "      <td>5135962</td>\n",
       "      <td>106204</td>\n",
       "      <td>True</td>\n",
       "    </tr>\n",
       "    <tr>\n",
       "      <th>6</th>\n",
       "      <td>The Book Thief</td>\n",
       "      <td>Markus Zusak</td>\n",
       "      <td>11466</td>\n",
       "      <td>False</td>\n",
       "      <td>It is 1939. Nazi Germany. The country is hol...</td>\n",
       "      <td>2006</td>\n",
       "      <td>Alfred A. Knopf</td>\n",
       "      <td>4.38</td>\n",
       "      <td>1407928</td>\n",
       "      <td>14526</td>\n",
       "      <td>1909675</td>\n",
       "      <td>115407</td>\n",
       "      <td>True</td>\n",
       "    </tr>\n",
       "    <tr>\n",
       "      <th>7</th>\n",
       "      <td>Animal Farm</td>\n",
       "      <td>George Orwell</td>\n",
       "      <td>3706</td>\n",
       "      <td>False</td>\n",
       "      <td>A farm is taken over by its overworked, mist...</td>\n",
       "      <td>1996</td>\n",
       "      <td>Signet Classics</td>\n",
       "      <td>3.96</td>\n",
       "      <td>1300492</td>\n",
       "      <td>13508</td>\n",
       "      <td>2857118</td>\n",
       "      <td>58992</td>\n",
       "      <td>True</td>\n",
       "    </tr>\n",
       "    <tr>\n",
       "      <th>8</th>\n",
       "      <td>The Chronicles of Narnia</td>\n",
       "      <td>C.S. Lewis</td>\n",
       "      <td>1069006</td>\n",
       "      <td>True</td>\n",
       "      <td>Journeys to the end of the world, fantastic cr...</td>\n",
       "      <td>2002</td>\n",
       "      <td>HarperCollins</td>\n",
       "      <td>4.26</td>\n",
       "      <td>1256688</td>\n",
       "      <td>13134</td>\n",
       "      <td>538495</td>\n",
       "      <td>10595</td>\n",
       "      <td>False</td>\n",
       "    </tr>\n",
       "    <tr>\n",
       "      <th>9</th>\n",
       "      <td>J.R.R. Tolkien 4-Book Boxed Set: The Hobbit an...</td>\n",
       "      <td>J.R.R. Tolkien</td>\n",
       "      <td>656983</td>\n",
       "      <td>True</td>\n",
       "      <td>This four-volume, boxed set contains J.R.R. To...</td>\n",
       "      <td>2012</td>\n",
       "      <td>Ballantine Books</td>\n",
       "      <td>4.60</td>\n",
       "      <td>1185041</td>\n",
       "      <td>12366</td>\n",
       "      <td>113292</td>\n",
       "      <td>1832</td>\n",
       "      <td>False</td>\n",
       "    </tr>\n",
       "    <tr>\n",
       "      <th>10</th>\n",
       "      <td>The Fault in Our Stars</td>\n",
       "      <td>John Green</td>\n",
       "      <td>1406384</td>\n",
       "      <td>False</td>\n",
       "      <td>Despite the tumor-shrinking medical miracle th...</td>\n",
       "      <td>2012</td>\n",
       "      <td>Dutton Books</td>\n",
       "      <td>4.20</td>\n",
       "      <td>1105373</td>\n",
       "      <td>11474</td>\n",
       "      <td>3710747</td>\n",
       "      <td>157069</td>\n",
       "      <td>True</td>\n",
       "    </tr>\n",
       "  </tbody>\n",
       "</table>\n",
       "</div>"
      ],
      "text/plain": [
       "                                                      knjiga            avtor  \\\n",
       "id_knjige                                                                       \n",
       "1                                           The Hunger Games  Suzanne Collins   \n",
       "2                  Harry Potter and the Order of the Phoenix     J.K. Rowling   \n",
       "3                                      To Kill a Mockingbird       Harper Lee   \n",
       "4                                        Pride and Prejudice      Jane Austen   \n",
       "5                                                   Twilight  Stephenie Meyer   \n",
       "6                                             The Book Thief     Markus Zusak   \n",
       "7                                                Animal Farm    George Orwell   \n",
       "8                                   The Chronicles of Narnia       C.S. Lewis   \n",
       "9          J.R.R. Tolkien 4-Book Boxed Set: The Hobbit an...   J.R.R. Tolkien   \n",
       "10                                    The Fault in Our Stars       John Green   \n",
       "\n",
       "           id_avtor  serija  \\\n",
       "id_knjige                     \n",
       "1            153394    True   \n",
       "2           1077326    True   \n",
       "3              1825    True   \n",
       "4              1265   False   \n",
       "5            941441    True   \n",
       "6             11466   False   \n",
       "7              3706   False   \n",
       "8           1069006    True   \n",
       "9            656983    True   \n",
       "10          1406384   False   \n",
       "\n",
       "                                                        opis  leto  \\\n",
       "id_knjige                                                            \n",
       "1          Could you survive on your own in the wild, wit...  2008   \n",
       "2          There is a door at the end of a silent corrido...  2004   \n",
       "3          The unforgettable novel of a childhood in a sl...  2006   \n",
       "4            Since its immediate success in 1813,  has re...  2000   \n",
       "5          About three things I was absolutely positive. ...  2006   \n",
       "6            It is 1939. Nazi Germany. The country is hol...  2006   \n",
       "7            A farm is taken over by its overworked, mist...  1996   \n",
       "8          Journeys to the end of the world, fantastic cr...  2002   \n",
       "9          This four-volume, boxed set contains J.R.R. To...  2012   \n",
       "10         Despite the tumor-shrinking medical miracle th...  2012   \n",
       "\n",
       "                                     zalozba  povprecna_ocena    score  \\\n",
       "id_knjige                                                                \n",
       "1                           Scholastic Press             4.32  3038720   \n",
       "2                            Scholastic Inc.             4.50  2668003   \n",
       "3          Harper Perennial Modern Classics              4.28  2311193   \n",
       "4                             Modern Library             4.27  2035385   \n",
       "5                  Little, Brown and Company             3.61  1472928   \n",
       "6                            Alfred A. Knopf             4.38  1407928   \n",
       "7                            Signet Classics             3.96  1300492   \n",
       "8                              HarperCollins             4.26  1256688   \n",
       "9                           Ballantine Books             4.60  1185041   \n",
       "10                              Dutton Books             4.20  1105373   \n",
       "\n",
       "           st_glasov  st_ocen  st_reviewov  nagrade  \n",
       "id_knjige                                            \n",
       "1              30970  6595031       174357     True  \n",
       "2              27286  2610721        44305     True  \n",
       "3              23750  4677256        93734     True  \n",
       "4              20982  3111901        68689    False  \n",
       "5              15012  5135962       106204     True  \n",
       "6              14526  1909675       115407     True  \n",
       "7              13508  2857118        58992     True  \n",
       "8              13134   538495        10595    False  \n",
       "9              12366   113292         1832    False  \n",
       "10             11474  3710747       157069     True  "
      ]
     },
     "execution_count": 551,
     "metadata": {},
     "output_type": "execute_result"
    }
   ],
   "source": [
    "knjige.head(10)"
   ]
  },
  {
   "cell_type": "code",
   "execution_count": 552,
   "metadata": {},
   "outputs": [],
   "source": [
    "zanri = pd.read_csv('../Najbolj-e-knjige-vseh-asov/PODATKI/zdruzeni_zanri.csv',index_col='id_knjige').sort_values('id_knjige')"
   ]
  },
  {
   "cell_type": "code",
   "execution_count": 553,
   "metadata": {},
   "outputs": [
    {
     "data": {
      "text/html": [
       "<div>\n",
       "<style scoped>\n",
       "    .dataframe tbody tr th:only-of-type {\n",
       "        vertical-align: middle;\n",
       "    }\n",
       "\n",
       "    .dataframe tbody tr th {\n",
       "        vertical-align: top;\n",
       "    }\n",
       "\n",
       "    .dataframe thead th {\n",
       "        text-align: right;\n",
       "    }\n",
       "</style>\n",
       "<table border=\"1\" class=\"dataframe\">\n",
       "  <thead>\n",
       "    <tr style=\"text-align: right;\">\n",
       "      <th></th>\n",
       "      <th>zanr</th>\n",
       "    </tr>\n",
       "    <tr>\n",
       "      <th>id_knjige</th>\n",
       "      <th></th>\n",
       "    </tr>\n",
       "  </thead>\n",
       "  <tbody>\n",
       "    <tr>\n",
       "      <th>1</th>\n",
       "      <td>young-adult</td>\n",
       "    </tr>\n",
       "    <tr>\n",
       "      <th>1</th>\n",
       "      <td>fiction</td>\n",
       "    </tr>\n",
       "    <tr>\n",
       "      <th>1</th>\n",
       "      <td>dystopia</td>\n",
       "    </tr>\n",
       "    <tr>\n",
       "      <th>2</th>\n",
       "      <td>fantasy</td>\n",
       "    </tr>\n",
       "    <tr>\n",
       "      <th>2</th>\n",
       "      <td>young-adult</td>\n",
       "    </tr>\n",
       "    <tr>\n",
       "      <th>2</th>\n",
       "      <td>fiction</td>\n",
       "    </tr>\n",
       "    <tr>\n",
       "      <th>3</th>\n",
       "      <td>classics</td>\n",
       "    </tr>\n",
       "    <tr>\n",
       "      <th>3</th>\n",
       "      <td>fiction</td>\n",
       "    </tr>\n",
       "    <tr>\n",
       "      <th>3</th>\n",
       "      <td>historical-fiction</td>\n",
       "    </tr>\n",
       "    <tr>\n",
       "      <th>4</th>\n",
       "      <td>romance</td>\n",
       "    </tr>\n",
       "  </tbody>\n",
       "</table>\n",
       "</div>"
      ],
      "text/plain": [
       "                         zanr\n",
       "id_knjige                    \n",
       "1                 young-adult\n",
       "1                     fiction\n",
       "1                    dystopia\n",
       "2                     fantasy\n",
       "2                 young-adult\n",
       "2                     fiction\n",
       "3                    classics\n",
       "3                     fiction\n",
       "3          historical-fiction\n",
       "4                     romance"
      ]
     },
     "execution_count": 553,
     "metadata": {},
     "output_type": "execute_result"
    }
   ],
   "source": [
    "zanri.head(10)"
   ]
  },
  {
   "cell_type": "code",
   "execution_count": 554,
   "metadata": {},
   "outputs": [],
   "source": [
    "nagrade = pd.read_csv('../Najbolj-e-knjige-vseh-asov/PODATKI/zdruzene_nagrade.csv',index_col='id_knjige').sort_values('id_knjige')"
   ]
  },
  {
   "cell_type": "code",
   "execution_count": 555,
   "metadata": {},
   "outputs": [
    {
     "data": {
      "text/html": [
       "<div>\n",
       "<style scoped>\n",
       "    .dataframe tbody tr th:only-of-type {\n",
       "        vertical-align: middle;\n",
       "    }\n",
       "\n",
       "    .dataframe tbody tr th {\n",
       "        vertical-align: top;\n",
       "    }\n",
       "\n",
       "    .dataframe thead th {\n",
       "        text-align: right;\n",
       "    }\n",
       "</style>\n",
       "<table border=\"1\" class=\"dataframe\">\n",
       "  <thead>\n",
       "    <tr style=\"text-align: right;\">\n",
       "      <th></th>\n",
       "      <th>nagrada</th>\n",
       "    </tr>\n",
       "    <tr>\n",
       "      <th>id_knjige</th>\n",
       "      <th></th>\n",
       "    </tr>\n",
       "  </thead>\n",
       "  <tbody>\n",
       "    <tr>\n",
       "      <th>1</th>\n",
       "      <td>Locus Award Nominee for Best Young Adult Book</td>\n",
       "    </tr>\n",
       "    <tr>\n",
       "      <th>1</th>\n",
       "      <td>New Mexico Land of Enchantment Award for Young...</td>\n",
       "    </tr>\n",
       "    <tr>\n",
       "      <th>1</th>\n",
       "      <td>Eliot Rosewater Indiana High School Book Award</td>\n",
       "    </tr>\n",
       "    <tr>\n",
       "      <th>1</th>\n",
       "      <td>The Inky Awards for Silver Inky</td>\n",
       "    </tr>\n",
       "    <tr>\n",
       "      <th>1</th>\n",
       "      <td>California Young Readers Medal for Young Adult</td>\n",
       "    </tr>\n",
       "    <tr>\n",
       "      <th>1</th>\n",
       "      <td>Lincoln Award</td>\n",
       "    </tr>\n",
       "    <tr>\n",
       "      <th>1</th>\n",
       "      <td>Kinderboekwinkelprijs</td>\n",
       "    </tr>\n",
       "    <tr>\n",
       "      <th>1</th>\n",
       "      <td>Missouri Truman Readers Award</td>\n",
       "    </tr>\n",
       "    <tr>\n",
       "      <th>1</th>\n",
       "      <td>CYBILS Award for Young Adult Fantasy &amp;amp; Sci...</td>\n",
       "    </tr>\n",
       "    <tr>\n",
       "      <th>1</th>\n",
       "      <td>Literaturpreis der Jury der jungen Leser for J...</td>\n",
       "    </tr>\n",
       "  </tbody>\n",
       "</table>\n",
       "</div>"
      ],
      "text/plain": [
       "                                                     nagrada\n",
       "id_knjige                                                   \n",
       "1             Locus Award Nominee for Best Young Adult Book \n",
       "1          New Mexico Land of Enchantment Award for Young...\n",
       "1            Eliot Rosewater Indiana High School Book Award \n",
       "1                           The Inky Awards for Silver Inky \n",
       "1            California Young Readers Medal for Young Adult \n",
       "1                                             Lincoln Award \n",
       "1                                     Kinderboekwinkelprijs \n",
       "1                             Missouri Truman Readers Award \n",
       "1          CYBILS Award for Young Adult Fantasy &amp; Sci...\n",
       "1          Literaturpreis der Jury der jungen Leser for J..."
      ]
     },
     "execution_count": 555,
     "metadata": {},
     "output_type": "execute_result"
    }
   ],
   "source": [
    "nagrade.head(10)"
   ]
  },
  {
   "cell_type": "markdown",
   "metadata": {},
   "source": [
    "# Kateri žanri so najbolj priljubljeni?\n",
    "\n",
    "Za začetek želim ugotoviti, katerega žanra naj bo moje delo, zato poiščem najbolj priljubljene žanre na lestvici.<br>\n",
    "Ker se lahko zgodi, da je začetnih nekaj sto knjig (najbolje ocenjene) večinoma enega žanra, večinski preostanek pa drugega, bom analizirala najbolj priljubljen žanr za prvih 100, 1000 in 5000 knjig. S tem želim preveriti tudi ali nek žanr prevladuje na celotni lestvici ali pa je prisoten zgolj na vrhu in se kasneje porazdeli z drugimi žanri.<br>\n",
    "Ker pri vsaki knjigi zajamem po tri žanre, moram za prvih 100 knjig torej vzeti prvih 300 žanrov. Podobno za 1000 in 5000 knjig."
   ]
  },
  {
   "cell_type": "code",
   "execution_count": 556,
   "metadata": {},
   "outputs": [],
   "source": [
    "priljubljeni_zanri_100 = zanri.head(300).groupby('zanr').size().to_frame('st_zanrov').sort_values('st_zanrov', ascending=False)"
   ]
  },
  {
   "cell_type": "code",
   "execution_count": 557,
   "metadata": {},
   "outputs": [
    {
     "data": {
      "text/html": [
       "<div>\n",
       "<style scoped>\n",
       "    .dataframe tbody tr th:only-of-type {\n",
       "        vertical-align: middle;\n",
       "    }\n",
       "\n",
       "    .dataframe tbody tr th {\n",
       "        vertical-align: top;\n",
       "    }\n",
       "\n",
       "    .dataframe thead th {\n",
       "        text-align: right;\n",
       "    }\n",
       "</style>\n",
       "<table border=\"1\" class=\"dataframe\">\n",
       "  <thead>\n",
       "    <tr style=\"text-align: right;\">\n",
       "      <th></th>\n",
       "      <th>st_zanrov</th>\n",
       "    </tr>\n",
       "    <tr>\n",
       "      <th>zanr</th>\n",
       "      <th></th>\n",
       "    </tr>\n",
       "  </thead>\n",
       "  <tbody>\n",
       "    <tr>\n",
       "      <th>fiction</th>\n",
       "      <td>91</td>\n",
       "    </tr>\n",
       "    <tr>\n",
       "      <th>classics</th>\n",
       "      <td>63</td>\n",
       "    </tr>\n",
       "    <tr>\n",
       "      <th>fantasy</th>\n",
       "      <td>25</td>\n",
       "    </tr>\n",
       "    <tr>\n",
       "      <th>young-adult</th>\n",
       "      <td>21</td>\n",
       "    </tr>\n",
       "    <tr>\n",
       "      <th>historical-fiction</th>\n",
       "      <td>18</td>\n",
       "    </tr>\n",
       "    <tr>\n",
       "      <th>romance</th>\n",
       "      <td>10</td>\n",
       "    </tr>\n",
       "    <tr>\n",
       "      <th>science-fiction</th>\n",
       "      <td>9</td>\n",
       "    </tr>\n",
       "    <tr>\n",
       "      <th>childrens</th>\n",
       "      <td>7</td>\n",
       "    </tr>\n",
       "    <tr>\n",
       "      <th>horror</th>\n",
       "      <td>6</td>\n",
       "    </tr>\n",
       "    <tr>\n",
       "      <th>mystery</th>\n",
       "      <td>5</td>\n",
       "    </tr>\n",
       "  </tbody>\n",
       "</table>\n",
       "</div>"
      ],
      "text/plain": [
       "                    st_zanrov\n",
       "zanr                         \n",
       "fiction                    91\n",
       "classics                   63\n",
       "fantasy                    25\n",
       "young-adult                21\n",
       "historical-fiction         18\n",
       "romance                    10\n",
       "science-fiction             9\n",
       "childrens                   7\n",
       "horror                      6\n",
       "mystery                     5"
      ]
     },
     "execution_count": 557,
     "metadata": {},
     "output_type": "execute_result"
    }
   ],
   "source": [
    "priljubljeni_zanri_100.head(10)"
   ]
  },
  {
   "cell_type": "markdown",
   "metadata": {},
   "source": [
    "Med prvimi stotimi knjigami sta torej najbolj priljubljena fikcija (fiction) in klasika (classics), sledijo fantastika (fantasy),literatura za mlade (young-adult, to je 12-18 let) in zgodovinska fikcija (historical-fiction)."
   ]
  },
  {
   "cell_type": "markdown",
   "metadata": {},
   "source": [
    "Nato preverim ali se priljubljenost žanrov spremni, ko pogledam večje število del."
   ]
  },
  {
   "cell_type": "code",
   "execution_count": 558,
   "metadata": {},
   "outputs": [],
   "source": [
    "priljubljeni_zanri_1000 = zanri.head(3000).groupby('zanr').size().to_frame('st_zanrov').sort_values('st_zanrov', ascending=False)"
   ]
  },
  {
   "cell_type": "code",
   "execution_count": 559,
   "metadata": {},
   "outputs": [
    {
     "data": {
      "text/html": [
       "<div>\n",
       "<style scoped>\n",
       "    .dataframe tbody tr th:only-of-type {\n",
       "        vertical-align: middle;\n",
       "    }\n",
       "\n",
       "    .dataframe tbody tr th {\n",
       "        vertical-align: top;\n",
       "    }\n",
       "\n",
       "    .dataframe thead th {\n",
       "        text-align: right;\n",
       "    }\n",
       "</style>\n",
       "<table border=\"1\" class=\"dataframe\">\n",
       "  <thead>\n",
       "    <tr style=\"text-align: right;\">\n",
       "      <th></th>\n",
       "      <th>st_zanrov</th>\n",
       "    </tr>\n",
       "    <tr>\n",
       "      <th>zanr</th>\n",
       "      <th></th>\n",
       "    </tr>\n",
       "  </thead>\n",
       "  <tbody>\n",
       "    <tr>\n",
       "      <th>fiction</th>\n",
       "      <td>694</td>\n",
       "    </tr>\n",
       "    <tr>\n",
       "      <th>classics</th>\n",
       "      <td>356</td>\n",
       "    </tr>\n",
       "    <tr>\n",
       "      <th>fantasy</th>\n",
       "      <td>275</td>\n",
       "    </tr>\n",
       "    <tr>\n",
       "      <th>young-adult</th>\n",
       "      <td>247</td>\n",
       "    </tr>\n",
       "    <tr>\n",
       "      <th>historical-fiction</th>\n",
       "      <td>148</td>\n",
       "    </tr>\n",
       "    <tr>\n",
       "      <th>romance</th>\n",
       "      <td>145</td>\n",
       "    </tr>\n",
       "    <tr>\n",
       "      <th>contemporary</th>\n",
       "      <td>97</td>\n",
       "    </tr>\n",
       "    <tr>\n",
       "      <th>science-fiction</th>\n",
       "      <td>76</td>\n",
       "    </tr>\n",
       "    <tr>\n",
       "      <th>non-fiction</th>\n",
       "      <td>67</td>\n",
       "    </tr>\n",
       "    <tr>\n",
       "      <th>mystery</th>\n",
       "      <td>61</td>\n",
       "    </tr>\n",
       "  </tbody>\n",
       "</table>\n",
       "</div>"
      ],
      "text/plain": [
       "                    st_zanrov\n",
       "zanr                         \n",
       "fiction                   694\n",
       "classics                  356\n",
       "fantasy                   275\n",
       "young-adult               247\n",
       "historical-fiction        148\n",
       "romance                   145\n",
       "contemporary               97\n",
       "science-fiction            76\n",
       "non-fiction                67\n",
       "mystery                    61"
      ]
     },
     "execution_count": 559,
     "metadata": {},
     "output_type": "execute_result"
    }
   ],
   "source": [
    "priljubljeni_zanri_1000.head(10)"
   ]
  },
  {
   "cell_type": "code",
   "execution_count": 560,
   "metadata": {},
   "outputs": [],
   "source": [
    "priljubljeni_zanri = zanri.groupby('zanr').size().to_frame('st_zanrov').sort_values('st_zanrov', ascending=False)"
   ]
  },
  {
   "cell_type": "code",
   "execution_count": 561,
   "metadata": {},
   "outputs": [
    {
     "data": {
      "text/html": [
       "<div>\n",
       "<style scoped>\n",
       "    .dataframe tbody tr th:only-of-type {\n",
       "        vertical-align: middle;\n",
       "    }\n",
       "\n",
       "    .dataframe tbody tr th {\n",
       "        vertical-align: top;\n",
       "    }\n",
       "\n",
       "    .dataframe thead th {\n",
       "        text-align: right;\n",
       "    }\n",
       "</style>\n",
       "<table border=\"1\" class=\"dataframe\">\n",
       "  <thead>\n",
       "    <tr style=\"text-align: right;\">\n",
       "      <th></th>\n",
       "      <th>st_zanrov</th>\n",
       "    </tr>\n",
       "    <tr>\n",
       "      <th>zanr</th>\n",
       "      <th></th>\n",
       "    </tr>\n",
       "  </thead>\n",
       "  <tbody>\n",
       "    <tr>\n",
       "      <th>fiction</th>\n",
       "      <td>2857</td>\n",
       "    </tr>\n",
       "    <tr>\n",
       "      <th>fantasy</th>\n",
       "      <td>1384</td>\n",
       "    </tr>\n",
       "    <tr>\n",
       "      <th>young-adult</th>\n",
       "      <td>1249</td>\n",
       "    </tr>\n",
       "    <tr>\n",
       "      <th>classics</th>\n",
       "      <td>866</td>\n",
       "    </tr>\n",
       "    <tr>\n",
       "      <th>romance</th>\n",
       "      <td>768</td>\n",
       "    </tr>\n",
       "    <tr>\n",
       "      <th>historical-fiction</th>\n",
       "      <td>565</td>\n",
       "    </tr>\n",
       "    <tr>\n",
       "      <th>contemporary</th>\n",
       "      <td>564</td>\n",
       "    </tr>\n",
       "    <tr>\n",
       "      <th>non-fiction</th>\n",
       "      <td>458</td>\n",
       "    </tr>\n",
       "    <tr>\n",
       "      <th>mystery</th>\n",
       "      <td>397</td>\n",
       "    </tr>\n",
       "    <tr>\n",
       "      <th>paranormal</th>\n",
       "      <td>373</td>\n",
       "    </tr>\n",
       "  </tbody>\n",
       "</table>\n",
       "</div>"
      ],
      "text/plain": [
       "                    st_zanrov\n",
       "zanr                         \n",
       "fiction                  2857\n",
       "fantasy                  1384\n",
       "young-adult              1249\n",
       "classics                  866\n",
       "romance                   768\n",
       "historical-fiction        565\n",
       "contemporary              564\n",
       "non-fiction               458\n",
       "mystery                   397\n",
       "paranormal                373"
      ]
     },
     "execution_count": 561,
     "metadata": {},
     "output_type": "execute_result"
    }
   ],
   "source": [
    "priljubljeni_zanri.head(10)"
   ]
  },
  {
   "cell_type": "markdown",
   "metadata": {},
   "source": [
    "Fikcija torej kraljuje skozi celotno lestvico, zato se zdi precej varna izbira za moj žanr. Ker sta ji blizu tudi fantastika in literatura za mlade, bi bilo v žanr smiselno vključiti tudi zmes teh dveh. Klasiko bi bilo verjetno težko združiti s prvimi tremi žanri, zato pa bi lahko dodala še nekaj romantike in s te pokrila dobršen del celotne lestvice."
   ]
  },
  {
   "cell_type": "markdown",
   "metadata": {},
   "source": [
    "Ker bi bilo za svoje delo lepo prejeti tudi kakšno nagrado, želim preveriti, kako nagrajeni so posamezni žanri.\n",
    "Za začetek preverim, kateri žanr na lestvici je prejel največ nagrad."
   ]
  },
  {
   "cell_type": "code",
   "execution_count": 562,
   "metadata": {},
   "outputs": [],
   "source": [
    "zanri_z_nagrado = pd.merge(zanri,nagrade,left_on='id_knjige',right_on='id_knjige').groupby('zanr').size().to_frame('st_nagrad').sort_values('st_nagrad',ascending=False)"
   ]
  },
  {
   "cell_type": "code",
   "execution_count": 563,
   "metadata": {},
   "outputs": [
    {
     "data": {
      "text/html": [
       "<div>\n",
       "<style scoped>\n",
       "    .dataframe tbody tr th:only-of-type {\n",
       "        vertical-align: middle;\n",
       "    }\n",
       "\n",
       "    .dataframe tbody tr th {\n",
       "        vertical-align: top;\n",
       "    }\n",
       "\n",
       "    .dataframe thead th {\n",
       "        text-align: right;\n",
       "    }\n",
       "</style>\n",
       "<table border=\"1\" class=\"dataframe\">\n",
       "  <thead>\n",
       "    <tr style=\"text-align: right;\">\n",
       "      <th></th>\n",
       "      <th>st_nagrad</th>\n",
       "    </tr>\n",
       "    <tr>\n",
       "      <th>zanr</th>\n",
       "      <th></th>\n",
       "    </tr>\n",
       "  </thead>\n",
       "  <tbody>\n",
       "    <tr>\n",
       "      <th>fiction</th>\n",
       "      <td>4868</td>\n",
       "    </tr>\n",
       "    <tr>\n",
       "      <th>young-adult</th>\n",
       "      <td>2709</td>\n",
       "    </tr>\n",
       "    <tr>\n",
       "      <th>fantasy</th>\n",
       "      <td>2233</td>\n",
       "    </tr>\n",
       "    <tr>\n",
       "      <th>historical-fiction</th>\n",
       "      <td>1278</td>\n",
       "    </tr>\n",
       "    <tr>\n",
       "      <th>contemporary</th>\n",
       "      <td>1025</td>\n",
       "    </tr>\n",
       "    <tr>\n",
       "      <th>romance</th>\n",
       "      <td>964</td>\n",
       "    </tr>\n",
       "    <tr>\n",
       "      <th>science-fiction</th>\n",
       "      <td>900</td>\n",
       "    </tr>\n",
       "    <tr>\n",
       "      <th>mystery</th>\n",
       "      <td>631</td>\n",
       "    </tr>\n",
       "    <tr>\n",
       "      <th>classics</th>\n",
       "      <td>622</td>\n",
       "    </tr>\n",
       "    <tr>\n",
       "      <th>non-fiction</th>\n",
       "      <td>436</td>\n",
       "    </tr>\n",
       "  </tbody>\n",
       "</table>\n",
       "</div>"
      ],
      "text/plain": [
       "                    st_nagrad\n",
       "zanr                         \n",
       "fiction                  4868\n",
       "young-adult              2709\n",
       "fantasy                  2233\n",
       "historical-fiction       1278\n",
       "contemporary             1025\n",
       "romance                   964\n",
       "science-fiction           900\n",
       "mystery                   631\n",
       "classics                  622\n",
       "non-fiction               436"
      ]
     },
     "execution_count": 563,
     "metadata": {},
     "output_type": "execute_result"
    }
   ],
   "source": [
    "zanri_z_nagrado.head(10)\n"
   ]
  },
  {
   "cell_type": "markdown",
   "metadata": {},
   "source": [
    "Med desetimi najbolj priljubljenimi žanri in desetimi najbolj nagrajenimi žanri so torej le manjše razlike: nekateri žanri so pridobili oziroma izgubili nekaj mest na lestvici, med prvo deseterico lestvice najbolj nagrajenih pa se je na novo pojavila znanstvena fantastika.<br>\n",
    "Po lestvici je glede na število nagrad najbolj nazadovala klasika, kar pa lahko pripišemo tudi dejstvu, da v današnjem času podeljujejo veliko več literarnih nagrad kot so jih v obdobju izida klasikov."
   ]
  },
  {
   "cell_type": "markdown",
   "metadata": {},
   "source": [
    "Ker je na lestvici veliko več fikcije kot npr. skandinavske literature, je logično, da bo tudi skupno število nagrad fikcije višje, kot skupno število nagrad skandinavske literature.<br>\n",
    "Zato naredim tudi analizo povprečnega števila nagrad na knjigo v posameznem žanru."
   ]
  },
  {
   "cell_type": "code",
   "execution_count": 564,
   "metadata": {},
   "outputs": [],
   "source": [
    "zanri_nagrade = pd.merge(zanri_z_nagrado,priljubljeni_zanri,left_on='zanr',right_on='zanr')"
   ]
  },
  {
   "cell_type": "code",
   "execution_count": 565,
   "metadata": {},
   "outputs": [],
   "source": [
    "zanri_nagrade['nagrada_na_knjigo'] = zanri_nagrade.st_nagrad / zanri_nagrade.st_zanrov"
   ]
  },
  {
   "cell_type": "code",
   "execution_count": 566,
   "metadata": {
    "scrolled": true
   },
   "outputs": [
    {
     "data": {
      "text/html": [
       "<div>\n",
       "<style scoped>\n",
       "    .dataframe tbody tr th:only-of-type {\n",
       "        vertical-align: middle;\n",
       "    }\n",
       "\n",
       "    .dataframe tbody tr th {\n",
       "        vertical-align: top;\n",
       "    }\n",
       "\n",
       "    .dataframe thead th {\n",
       "        text-align: right;\n",
       "    }\n",
       "</style>\n",
       "<table border=\"1\" class=\"dataframe\">\n",
       "  <thead>\n",
       "    <tr style=\"text-align: right;\">\n",
       "      <th></th>\n",
       "      <th>st_nagrad</th>\n",
       "      <th>st_zanrov</th>\n",
       "      <th>nagrada_na_knjigo</th>\n",
       "    </tr>\n",
       "    <tr>\n",
       "      <th>zanr</th>\n",
       "      <th></th>\n",
       "      <th></th>\n",
       "      <th></th>\n",
       "    </tr>\n",
       "  </thead>\n",
       "  <tbody>\n",
       "    <tr>\n",
       "      <th>scandinavian-literature</th>\n",
       "      <td>16</td>\n",
       "      <td>2</td>\n",
       "      <td>8.000000</td>\n",
       "    </tr>\n",
       "    <tr>\n",
       "      <th>new-york</th>\n",
       "      <td>6</td>\n",
       "      <td>1</td>\n",
       "      <td>6.000000</td>\n",
       "    </tr>\n",
       "    <tr>\n",
       "      <th>realistic-fiction</th>\n",
       "      <td>121</td>\n",
       "      <td>23</td>\n",
       "      <td>5.260870</td>\n",
       "    </tr>\n",
       "    <tr>\n",
       "      <th>dutch-literature</th>\n",
       "      <td>5</td>\n",
       "      <td>1</td>\n",
       "      <td>5.000000</td>\n",
       "    </tr>\n",
       "    <tr>\n",
       "      <th>south-africa</th>\n",
       "      <td>5</td>\n",
       "      <td>1</td>\n",
       "      <td>5.000000</td>\n",
       "    </tr>\n",
       "    <tr>\n",
       "      <th>cyberpunk</th>\n",
       "      <td>37</td>\n",
       "      <td>8</td>\n",
       "      <td>4.625000</td>\n",
       "    </tr>\n",
       "    <tr>\n",
       "      <th>alternate-history</th>\n",
       "      <td>13</td>\n",
       "      <td>3</td>\n",
       "      <td>4.333333</td>\n",
       "    </tr>\n",
       "    <tr>\n",
       "      <th>steampunk</th>\n",
       "      <td>46</td>\n",
       "      <td>11</td>\n",
       "      <td>4.181818</td>\n",
       "    </tr>\n",
       "    <tr>\n",
       "      <th>hugo-awards</th>\n",
       "      <td>4</td>\n",
       "      <td>1</td>\n",
       "      <td>4.000000</td>\n",
       "    </tr>\n",
       "    <tr>\n",
       "      <th>mental-health</th>\n",
       "      <td>12</td>\n",
       "      <td>3</td>\n",
       "      <td>4.000000</td>\n",
       "    </tr>\n",
       "    <tr>\n",
       "      <th>space-opera</th>\n",
       "      <td>63</td>\n",
       "      <td>16</td>\n",
       "      <td>3.937500</td>\n",
       "    </tr>\n",
       "    <tr>\n",
       "      <th>dogs</th>\n",
       "      <td>15</td>\n",
       "      <td>4</td>\n",
       "      <td>3.750000</td>\n",
       "    </tr>\n",
       "    <tr>\n",
       "      <th>asia</th>\n",
       "      <td>11</td>\n",
       "      <td>3</td>\n",
       "      <td>3.666667</td>\n",
       "    </tr>\n",
       "    <tr>\n",
       "      <th>social-justice</th>\n",
       "      <td>7</td>\n",
       "      <td>2</td>\n",
       "      <td>3.500000</td>\n",
       "    </tr>\n",
       "    <tr>\n",
       "      <th>baseball</th>\n",
       "      <td>14</td>\n",
       "      <td>4</td>\n",
       "      <td>3.500000</td>\n",
       "    </tr>\n",
       "    <tr>\n",
       "      <th>australia</th>\n",
       "      <td>17</td>\n",
       "      <td>5</td>\n",
       "      <td>3.400000</td>\n",
       "    </tr>\n",
       "    <tr>\n",
       "      <th>middle-grade</th>\n",
       "      <td>198</td>\n",
       "      <td>59</td>\n",
       "      <td>3.355932</td>\n",
       "    </tr>\n",
       "    <tr>\n",
       "      <th>race</th>\n",
       "      <td>10</td>\n",
       "      <td>3</td>\n",
       "      <td>3.333333</td>\n",
       "    </tr>\n",
       "    <tr>\n",
       "      <th>africa</th>\n",
       "      <td>84</td>\n",
       "      <td>26</td>\n",
       "      <td>3.230769</td>\n",
       "    </tr>\n",
       "    <tr>\n",
       "      <th>canada</th>\n",
       "      <td>48</td>\n",
       "      <td>15</td>\n",
       "      <td>3.200000</td>\n",
       "    </tr>\n",
       "  </tbody>\n",
       "</table>\n",
       "</div>"
      ],
      "text/plain": [
       "                         st_nagrad  st_zanrov  nagrada_na_knjigo\n",
       "zanr                                                            \n",
       "scandinavian-literature         16          2           8.000000\n",
       "new-york                         6          1           6.000000\n",
       "realistic-fiction              121         23           5.260870\n",
       "dutch-literature                 5          1           5.000000\n",
       "south-africa                     5          1           5.000000\n",
       "cyberpunk                       37          8           4.625000\n",
       "alternate-history               13          3           4.333333\n",
       "steampunk                       46         11           4.181818\n",
       "hugo-awards                      4          1           4.000000\n",
       "mental-health                   12          3           4.000000\n",
       "space-opera                     63         16           3.937500\n",
       "dogs                            15          4           3.750000\n",
       "asia                            11          3           3.666667\n",
       "social-justice                   7          2           3.500000\n",
       "baseball                        14          4           3.500000\n",
       "australia                       17          5           3.400000\n",
       "middle-grade                   198         59           3.355932\n",
       "race                            10          3           3.333333\n",
       "africa                          84         26           3.230769\n",
       "canada                          48         15           3.200000"
      ]
     },
     "execution_count": 566,
     "metadata": {},
     "output_type": "execute_result"
    }
   ],
   "source": [
    "zanri_nagrade.sort_values('nagrada_na_knjigo')[::-1].head(20)"
   ]
  },
  {
   "cell_type": "markdown",
   "metadata": {},
   "source": [
    "Na vrhu po številu nagrad na delo so tokrat povsem drugi žanri, vendar pa vidim, da so ti žanri zelo redki. Imamo namreč 5000 del, vsako izmed njih po tri žanre, skupno torej 15000 žanrov(seveda ne različnih), noben od vodilnih dvajsetih žanrov te lestvice pa nima več kot 60 predstavnikov.<br>\n",
    "Iz tega lahko razberem le, da so nekateri od manjšinskih žanrov na lestvici zelo dobro nagrajeni.<br>\n",
    "Ker me zanima predvsem nagrajenost pogostih žanrov, si sedaj ogledam še nagrajenost žanrov z vsaj 500 deli."
   ]
  },
  {
   "cell_type": "code",
   "execution_count": 567,
   "metadata": {},
   "outputs": [
    {
     "data": {
      "text/html": [
       "<div>\n",
       "<style scoped>\n",
       "    .dataframe tbody tr th:only-of-type {\n",
       "        vertical-align: middle;\n",
       "    }\n",
       "\n",
       "    .dataframe tbody tr th {\n",
       "        vertical-align: top;\n",
       "    }\n",
       "\n",
       "    .dataframe thead th {\n",
       "        text-align: right;\n",
       "    }\n",
       "</style>\n",
       "<table border=\"1\" class=\"dataframe\">\n",
       "  <thead>\n",
       "    <tr style=\"text-align: right;\">\n",
       "      <th></th>\n",
       "      <th>st_nagrad</th>\n",
       "      <th>st_zanrov</th>\n",
       "      <th>nagrada_na_knjigo</th>\n",
       "    </tr>\n",
       "    <tr>\n",
       "      <th>zanr</th>\n",
       "      <th></th>\n",
       "      <th></th>\n",
       "      <th></th>\n",
       "    </tr>\n",
       "  </thead>\n",
       "  <tbody>\n",
       "    <tr>\n",
       "      <th>historical-fiction</th>\n",
       "      <td>1278</td>\n",
       "      <td>565</td>\n",
       "      <td>2.261947</td>\n",
       "    </tr>\n",
       "    <tr>\n",
       "      <th>young-adult</th>\n",
       "      <td>2709</td>\n",
       "      <td>1249</td>\n",
       "      <td>2.168935</td>\n",
       "    </tr>\n",
       "    <tr>\n",
       "      <th>contemporary</th>\n",
       "      <td>1025</td>\n",
       "      <td>564</td>\n",
       "      <td>1.817376</td>\n",
       "    </tr>\n",
       "    <tr>\n",
       "      <th>fiction</th>\n",
       "      <td>4868</td>\n",
       "      <td>2857</td>\n",
       "      <td>1.703885</td>\n",
       "    </tr>\n",
       "    <tr>\n",
       "      <th>fantasy</th>\n",
       "      <td>2233</td>\n",
       "      <td>1384</td>\n",
       "      <td>1.613439</td>\n",
       "    </tr>\n",
       "    <tr>\n",
       "      <th>romance</th>\n",
       "      <td>964</td>\n",
       "      <td>768</td>\n",
       "      <td>1.255208</td>\n",
       "    </tr>\n",
       "    <tr>\n",
       "      <th>classics</th>\n",
       "      <td>622</td>\n",
       "      <td>866</td>\n",
       "      <td>0.718245</td>\n",
       "    </tr>\n",
       "  </tbody>\n",
       "</table>\n",
       "</div>"
      ],
      "text/plain": [
       "                    st_nagrad  st_zanrov  nagrada_na_knjigo\n",
       "zanr                                                       \n",
       "historical-fiction       1278        565           2.261947\n",
       "young-adult              2709       1249           2.168935\n",
       "contemporary             1025        564           1.817376\n",
       "fiction                  4868       2857           1.703885\n",
       "fantasy                  2233       1384           1.613439\n",
       "romance                   964        768           1.255208\n",
       "classics                  622        866           0.718245"
      ]
     },
     "execution_count": 567,
     "metadata": {},
     "output_type": "execute_result"
    }
   ],
   "source": [
    "zanri_nagrade[zanri_nagrade.st_zanrov >=500].sort_values('nagrada_na_knjigo')[::-1]"
   ]
  },
  {
   "cell_type": "markdown",
   "metadata": {},
   "source": [
    "Vsak od petih najpogostejših žanrov (shranjeni v priljubljeni_zanri) ima povprečno vsaj eno (v primeru klasike skoraj eno) nagrado na knjigo.<br>\n",
    "Pri izbiri teh žanrov imam torej kar dobre možnosti za nagrado."
   ]
  },
  {
   "cell_type": "markdown",
   "metadata": {},
   "source": [
    "Ker si želim tudi, da bralci moje delo dobro ocenijo, si pogledam ali so bolj priljubljeni žanri tudi bolje ocenjeni s strani bralcev (pogledam povprecna_ocena)."
   ]
  },
  {
   "cell_type": "code",
   "execution_count": 568,
   "metadata": {},
   "outputs": [],
   "source": [
    "zanri_in_ocena = pd.merge(zanri,knjige['povprecna_ocena'],left_on='id_knjige',right_on='id_knjige')"
   ]
  },
  {
   "cell_type": "code",
   "execution_count": 569,
   "metadata": {},
   "outputs": [],
   "source": [
    "povprecna_ocena_zanra_vse = zanri_in_ocena.groupby('zanr').mean().sort_values('povprecna_ocena', ascending=False)"
   ]
  },
  {
   "cell_type": "code",
   "execution_count": 570,
   "metadata": {},
   "outputs": [],
   "source": [
    "povprecna_ocena_zanra = pd.merge(povprecna_ocena_zanra_vse,zanri_nagrade,left_on='zanr',right_on='zanr')[['povprecna_ocena','st_zanrov']]"
   ]
  },
  {
   "cell_type": "markdown",
   "metadata": {},
   "source": [
    "Povprečno oceno žanra razdelim v dve katergoriji:<br>\n",
    "- žanri z vsaj 500 predstavniki med 5000 deli<br>\n",
    "- žanri z manj kot 500 predstavniki med 5000 deli"
   ]
  },
  {
   "cell_type": "code",
   "execution_count": 571,
   "metadata": {},
   "outputs": [],
   "source": [
    "povprecna_ocena_zanra_nad500 = povprecna_ocena_zanra[povprecna_ocena_zanra.st_zanrov >=500].povprecna_ocena.mean()"
   ]
  },
  {
   "cell_type": "code",
   "execution_count": 572,
   "metadata": {},
   "outputs": [
    {
     "data": {
      "text/plain": [
       "4.048701762487156"
      ]
     },
     "execution_count": 572,
     "metadata": {},
     "output_type": "execute_result"
    }
   ],
   "source": [
    "povprecna_ocena_zanra_nad500"
   ]
  },
  {
   "cell_type": "code",
   "execution_count": 573,
   "metadata": {},
   "outputs": [],
   "source": [
    "povprecna_ocena_zanra_pod500 = povprecna_ocena_zanra[povprecna_ocena_zanra.st_zanrov <500].povprecna_ocena.mean()"
   ]
  },
  {
   "cell_type": "code",
   "execution_count": 574,
   "metadata": {},
   "outputs": [
    {
     "data": {
      "text/plain": [
       "4.07437688870092"
      ]
     },
     "execution_count": 574,
     "metadata": {},
     "output_type": "execute_result"
    }
   ],
   "source": [
    "povprecna_ocena_zanra_pod500"
   ]
  },
  {
   "cell_type": "markdown",
   "metadata": {},
   "source": [
    "Bralci so žanre na lestvici ocenili približno enako, ne glede na njihovo pogostost. Izbira žanra torej ne bo preveč vplivala na oceno bralcev."
   ]
  },
  {
   "cell_type": "markdown",
   "metadata": {},
   "source": [
    "Če povzamem: največjo možnost za uvrstitev na lestvico bom imela z izbiro žanra fikcija, ki mu dodam malo fantastike in romantike ter za ciljno publiko izberem mlade(12-18 let). Knjige tega žanra so v povprečju prejele vsaj eno nagrado na delo, bralci pa jih ocenjujejo približno tako kot vse druge žanre."
   ]
  },
  {
   "cell_type": "markdown",
   "metadata": {},
   "source": [
    "# Ali med priljubljenemi knjigami prevladujejo serije?\n",
    "\n",
    "Zanima me tudi ali se bolj splača napisati serijo ali samostojno delo. \n"
   ]
  },
  {
   "cell_type": "markdown",
   "metadata": {},
   "source": [
    "Za začetek si ogledam, kaj prevladuje med prvimi stotimi deli."
   ]
  },
  {
   "cell_type": "code",
   "execution_count": 575,
   "metadata": {},
   "outputs": [
    {
     "data": {
      "text/plain": [
       "serija\n",
       "False    61\n",
       "True     39\n",
       "dtype: int64"
      ]
     },
     "execution_count": 575,
     "metadata": {},
     "output_type": "execute_result"
    }
   ],
   "source": [
    "knjige.head(100).groupby('serija').size()"
   ]
  },
  {
   "cell_type": "markdown",
   "metadata": {},
   "source": [
    "Med deli na vrhu lestvice torej pravladujejo samostojna dela. <br>\n",
    "\n",
    "Sedaj si ogledam ali se delež serij poveča, če pogledam večje število del."
   ]
  },
  {
   "cell_type": "code",
   "execution_count": 576,
   "metadata": {},
   "outputs": [
    {
     "data": {
      "text/plain": [
       "serija\n",
       "False    2351\n",
       "True     2649\n",
       "dtype: int64"
      ]
     },
     "execution_count": 576,
     "metadata": {},
     "output_type": "execute_result"
    }
   ],
   "source": [
    "knjige.groupby('serija').size()"
   ]
  },
  {
   "cell_type": "markdown",
   "metadata": {},
   "source": [
    "Vidim, da sta si tipa še vedno precej blizu, toda sedaj je delež serij večji.<br>\n",
    "Za večjo preglednost narišem še grafa, ki ponazarjata spreminjanje količine serij in samostojnih del po lestvici."
   ]
  },
  {
   "cell_type": "markdown",
   "metadata": {},
   "source": [
    "Grafa ponazarjata število serij in samostojnih del glede na število vseh del po lestvici.<br>\n",
    "Primer: <br>\n",
    "Prva tri dela z lestvice so serije, četrto pa je posamezno delo. Graf serij bo torej do vključno števila tri potekal po simetrali lihih kvadrantov, pri številu 4 (štiri knjige), pa bo vrednost y koordinate enaka 3 (tri dela od štirih so serije).\n",
    "Graf samostojnih del bo do vključno števila tri imel y koordinato enako nič, pri številu štiri pa ena.<br>\n",
    "Če je torej na nekem delu graf serij nad grafom samostojnih del, to pomeni, da na tistem delu prevladujejo serije.<br>\n",
    "Vsota grafov nam seveda vedno da simetralo lihih kvadrantov."
   ]
  },
  {
   "cell_type": "markdown",
   "metadata": {},
   "source": [
    "Definirati moram funkciji, ki bosta šteli število serij in samostojnih del glede na število vseh del.<br>\n",
    "Spletna stran s podatki je pri nekaterih delih \"sesuta\", zato posameznih del s strani morda ni med našimi podatki. Id-ji knjig so podani glede na mesto na lestvici, tako da lahko nekaj id-jev knjig manjka (ni vseh števil od 1 do 5000). Pri vpeljavi funkcij za štetje bi bilo to precej nerodno, zato vpeljem \"knjige2\", pri katerih za indeksni stolpec vzamem avtomatko generiran stolpec števil od 0 do dolžine tabele. Pri definiranju funkcij in risanju grafa bom namesto z id_knjige torej delala s tem stolpcem."
   ]
  },
  {
   "cell_type": "code",
   "execution_count": 577,
   "metadata": {},
   "outputs": [],
   "source": [
    "knjige2 = pd.read_csv('../Najbolj-e-knjige-vseh-asov/PODATKI/zdruzene_knjige.csv')"
   ]
  },
  {
   "cell_type": "code",
   "execution_count": 578,
   "metadata": {},
   "outputs": [
    {
     "data": {
      "text/html": [
       "<div>\n",
       "<style scoped>\n",
       "    .dataframe tbody tr th:only-of-type {\n",
       "        vertical-align: middle;\n",
       "    }\n",
       "\n",
       "    .dataframe tbody tr th {\n",
       "        vertical-align: top;\n",
       "    }\n",
       "\n",
       "    .dataframe thead th {\n",
       "        text-align: right;\n",
       "    }\n",
       "</style>\n",
       "<table border=\"1\" class=\"dataframe\">\n",
       "  <thead>\n",
       "    <tr style=\"text-align: right;\">\n",
       "      <th></th>\n",
       "      <th>knjiga</th>\n",
       "      <th>id_knjige</th>\n",
       "      <th>avtor</th>\n",
       "      <th>id_avtor</th>\n",
       "      <th>serija</th>\n",
       "      <th>opis</th>\n",
       "      <th>leto</th>\n",
       "      <th>zalozba</th>\n",
       "      <th>povprecna_ocena</th>\n",
       "      <th>score</th>\n",
       "      <th>st_glasov</th>\n",
       "      <th>st_ocen</th>\n",
       "      <th>st_reviewov</th>\n",
       "      <th>nagrade</th>\n",
       "    </tr>\n",
       "  </thead>\n",
       "  <tbody>\n",
       "    <tr>\n",
       "      <th>0</th>\n",
       "      <td>The Hunger Games</td>\n",
       "      <td>1</td>\n",
       "      <td>Suzanne Collins</td>\n",
       "      <td>153394</td>\n",
       "      <td>True</td>\n",
       "      <td>Could you survive on your own in the wild, wit...</td>\n",
       "      <td>2008</td>\n",
       "      <td>Scholastic Press</td>\n",
       "      <td>4.32</td>\n",
       "      <td>3038720</td>\n",
       "      <td>30970</td>\n",
       "      <td>6595031</td>\n",
       "      <td>174357</td>\n",
       "      <td>True</td>\n",
       "    </tr>\n",
       "    <tr>\n",
       "      <th>1</th>\n",
       "      <td>Harry Potter and the Order of the Phoenix</td>\n",
       "      <td>2</td>\n",
       "      <td>J.K. Rowling</td>\n",
       "      <td>1077326</td>\n",
       "      <td>True</td>\n",
       "      <td>There is a door at the end of a silent corrido...</td>\n",
       "      <td>2004</td>\n",
       "      <td>Scholastic Inc.</td>\n",
       "      <td>4.50</td>\n",
       "      <td>2668003</td>\n",
       "      <td>27286</td>\n",
       "      <td>2610721</td>\n",
       "      <td>44305</td>\n",
       "      <td>True</td>\n",
       "    </tr>\n",
       "    <tr>\n",
       "      <th>2</th>\n",
       "      <td>To Kill a Mockingbird</td>\n",
       "      <td>3</td>\n",
       "      <td>Harper Lee</td>\n",
       "      <td>1825</td>\n",
       "      <td>True</td>\n",
       "      <td>The unforgettable novel of a childhood in a sl...</td>\n",
       "      <td>2006</td>\n",
       "      <td>Harper Perennial Modern Classics</td>\n",
       "      <td>4.28</td>\n",
       "      <td>2311193</td>\n",
       "      <td>23750</td>\n",
       "      <td>4677256</td>\n",
       "      <td>93734</td>\n",
       "      <td>True</td>\n",
       "    </tr>\n",
       "    <tr>\n",
       "      <th>3</th>\n",
       "      <td>Pride and Prejudice</td>\n",
       "      <td>4</td>\n",
       "      <td>Jane Austen</td>\n",
       "      <td>1265</td>\n",
       "      <td>False</td>\n",
       "      <td>Since its immediate success in 1813,  has re...</td>\n",
       "      <td>2000</td>\n",
       "      <td>Modern Library</td>\n",
       "      <td>4.27</td>\n",
       "      <td>2035385</td>\n",
       "      <td>20982</td>\n",
       "      <td>3111901</td>\n",
       "      <td>68689</td>\n",
       "      <td>False</td>\n",
       "    </tr>\n",
       "    <tr>\n",
       "      <th>4</th>\n",
       "      <td>Twilight</td>\n",
       "      <td>5</td>\n",
       "      <td>Stephenie Meyer</td>\n",
       "      <td>941441</td>\n",
       "      <td>True</td>\n",
       "      <td>About three things I was absolutely positive. ...</td>\n",
       "      <td>2006</td>\n",
       "      <td>Little, Brown and Company</td>\n",
       "      <td>3.61</td>\n",
       "      <td>1472928</td>\n",
       "      <td>15012</td>\n",
       "      <td>5135962</td>\n",
       "      <td>106204</td>\n",
       "      <td>True</td>\n",
       "    </tr>\n",
       "  </tbody>\n",
       "</table>\n",
       "</div>"
      ],
      "text/plain": [
       "                                      knjiga  id_knjige            avtor  \\\n",
       "0                           The Hunger Games          1  Suzanne Collins   \n",
       "1  Harry Potter and the Order of the Phoenix          2     J.K. Rowling   \n",
       "2                      To Kill a Mockingbird          3       Harper Lee   \n",
       "3                        Pride and Prejudice          4      Jane Austen   \n",
       "4                                   Twilight          5  Stephenie Meyer   \n",
       "\n",
       "   id_avtor  serija                                               opis  leto  \\\n",
       "0    153394    True  Could you survive on your own in the wild, wit...  2008   \n",
       "1   1077326    True  There is a door at the end of a silent corrido...  2004   \n",
       "2      1825    True  The unforgettable novel of a childhood in a sl...  2006   \n",
       "3      1265   False    Since its immediate success in 1813,  has re...  2000   \n",
       "4    941441    True  About three things I was absolutely positive. ...  2006   \n",
       "\n",
       "                             zalozba  povprecna_ocena    score  st_glasov  \\\n",
       "0                   Scholastic Press             4.32  3038720      30970   \n",
       "1                    Scholastic Inc.             4.50  2668003      27286   \n",
       "2  Harper Perennial Modern Classics              4.28  2311193      23750   \n",
       "3                     Modern Library             4.27  2035385      20982   \n",
       "4          Little, Brown and Company             3.61  1472928      15012   \n",
       "\n",
       "   st_ocen  st_reviewov  nagrade  \n",
       "0  6595031       174357     True  \n",
       "1  2610721        44305     True  \n",
       "2  4677256        93734     True  \n",
       "3  3111901        68689    False  \n",
       "4  5135962       106204     True  "
      ]
     },
     "execution_count": 578,
     "metadata": {},
     "output_type": "execute_result"
    }
   ],
   "source": [
    "knjige2.head(5)"
   ]
  },
  {
   "cell_type": "markdown",
   "metadata": {},
   "source": [
    "Definiram funkciji, ki štejeta serije in samostojna dela.<br>\n",
    "Funkciji za vsako delo v seznam zapišeta, koliko del po lestvici nad delom(vključno s trenutnim delom) je serija/samostojno delo."
   ]
  },
  {
   "cell_type": "code",
   "execution_count": 579,
   "metadata": {},
   "outputs": [],
   "source": [
    "def stej_serije(x):\n",
    "    sez = []\n",
    "    for i in range(0,x):\n",
    "        if i == 0:\n",
    "            if knjige2.serija[i]==True:\n",
    "                sez+=[1]\n",
    "            else:\n",
    "                sez.append(0)\n",
    "        else:\n",
    "            if knjige2.serija[i]==True:\n",
    "                sez+=[sez[i-1]+1]\n",
    "            else:\n",
    "                sez+=[sez[i-1]]\n",
    "    return sez\n",
    "    "
   ]
  },
  {
   "cell_type": "code",
   "execution_count": 580,
   "metadata": {},
   "outputs": [],
   "source": [
    "def stej_solo(x):\n",
    "    sez = []\n",
    "    for i in range(0,x):\n",
    "        if i == 0:\n",
    "            if knjige2.serija[i]==False:\n",
    "                sez+=[1]\n",
    "            else:\n",
    "                sez.append(0)\n",
    "        else:\n",
    "            if knjige2.serija[i]==False:\n",
    "                sez+=[sez[i-1]+1]\n",
    "            else:\n",
    "                sez+=[sez[i-1]]\n",
    "    return sez"
   ]
  },
  {
   "cell_type": "markdown",
   "metadata": {},
   "source": [
    "Najprej narišem grafa za prvih sto del."
   ]
  },
  {
   "cell_type": "code",
   "execution_count": 581,
   "metadata": {},
   "outputs": [],
   "source": [
    "a = stej_serije(100)"
   ]
  },
  {
   "cell_type": "code",
   "execution_count": 582,
   "metadata": {},
   "outputs": [],
   "source": [
    "b = stej_solo(100)"
   ]
  },
  {
   "cell_type": "code",
   "execution_count": 583,
   "metadata": {},
   "outputs": [],
   "source": [
    "podatki = [a,b]"
   ]
  },
  {
   "cell_type": "code",
   "execution_count": 584,
   "metadata": {},
   "outputs": [],
   "source": [
    "tocke = [list(x) for x in zip(*podatki)] "
   ]
  },
  {
   "cell_type": "code",
   "execution_count": 585,
   "metadata": {},
   "outputs": [
    {
     "data": {
      "text/plain": [
       "Text(0, 0.5, 'število serij/solo del')"
      ]
     },
     "execution_count": 585,
     "metadata": {},
     "output_type": "execute_result"
    },
    {
     "data": {
      "image/png": "[encoded data removed]",
      "text/plain": [
       "<Figure size 432x288 with 1 Axes>"
      ]
     },
     "metadata": {
      "needs_background": "light"
     },
     "output_type": "display_data"
    }
   ],
   "source": [
    "df2 = pd.DataFrame(tocke, columns=['serija', 'solo'])\n",
    "ax = df2.plot(title='Porazdelitev serij/solo del')\n",
    "ax.set_xlabel(\"število vseh del\")\n",
    "ax.set_ylabel(\"število serij/solo del\")"
   ]
  },
  {
   "cell_type": "markdown",
   "metadata": {},
   "source": [
    "Oranžen graf predstavlja samostojna dela, moder pa serije. Vidim, da med prvimi petnajstimi deli prevladujejo serije, nato pa je delež samostojnih del večji (v prejšnjih izračunih sem videla, da je razmerje samostojnih del proti serijam v prvi stoterici 6:4).<br>\n",
    "Sedaj si ogledam, kako se količini spreminjata skozi celotno lestvico."
   ]
  },
  {
   "cell_type": "code",
   "execution_count": 586,
   "metadata": {},
   "outputs": [],
   "source": [
    "a_cel = stej_serije(len(knjige2))"
   ]
  },
  {
   "cell_type": "code",
   "execution_count": 587,
   "metadata": {},
   "outputs": [],
   "source": [
    "b_cel = stej_solo(len(knjige2))"
   ]
  },
  {
   "cell_type": "code",
   "execution_count": 588,
   "metadata": {},
   "outputs": [],
   "source": [
    "podatki_cel = [a_cel, b_cel]"
   ]
  },
  {
   "cell_type": "code",
   "execution_count": 589,
   "metadata": {},
   "outputs": [],
   "source": [
    "tocke_cel = [list(x) for x in zip(*podatki_cel)] "
   ]
  },
  {
   "cell_type": "code",
   "execution_count": 590,
   "metadata": {},
   "outputs": [
    {
     "data": {
      "text/plain": [
       "Text(0, 0.5, 'število serij/solo del')"
      ]
     },
     "execution_count": 590,
     "metadata": {},
     "output_type": "execute_result"
    },
    {
     "data": {
      "image/png": "[encoded data removed]",
      "text/plain": [
       "<Figure size 432x288 with 1 Axes>"
      ]
     },
     "metadata": {
      "needs_background": "light"
     },
     "output_type": "display_data"
    }
   ],
   "source": [
    "df2_cel = pd.DataFrame(tocke_cel, columns=['serija', 'solo'])\n",
    "ax_cel = df2_cel.plot(title='Porazdelitev serij/solo del')\n",
    "ax_cel.set_xlabel(\"število vseh del\")\n",
    "ax_cel.set_ylabel(\"število serij/solo del\")"
   ]
  },
  {
   "cell_type": "markdown",
   "metadata": {},
   "source": [
    "Vidim, da je delež serij in samostojnih del približno enak. Na začetku sicer rahlo prevladujejo samostojna dela, kasneje pa se tehtnica prevesi v korist serij. Zdi se torej, da samostojnost/vsebovanost v serijo, ne vpliva bistveno na splošno priljubljenost dela (med najbolj priljubljenimi deli je približno polovica serij in polovica samostojnih del)."
   ]
  },
  {
   "cell_type": "markdown",
   "metadata": {},
   "source": [
    "Pogledam še, pri katerem tipu je povprečna ocena bralcev višja (ocena od 1 do 5).<br>\n",
    "Opomba: Prej sem analizirala glede na score, v katerem so združeni st_reviewov, povprecna_ocena, st_glasov, st_ocen..."
   ]
  },
  {
   "cell_type": "code",
   "execution_count": 591,
   "metadata": {},
   "outputs": [],
   "source": [
    "povprecna_ocena_serije = knjige[knjige.serija == True].povprecna_ocena.mean()"
   ]
  },
  {
   "cell_type": "code",
   "execution_count": 592,
   "metadata": {},
   "outputs": [],
   "source": [
    "povprecna_ocena_solo = knjige[knjige.serija == False].povprecna_ocena.mean()"
   ]
  },
  {
   "cell_type": "code",
   "execution_count": 593,
   "metadata": {},
   "outputs": [
    {
     "data": {
      "text/plain": [
       "4.0981879954699885"
      ]
     },
     "execution_count": 593,
     "metadata": {},
     "output_type": "execute_result"
    }
   ],
   "source": [
    "povprecna_ocena_serije"
   ]
  },
  {
   "cell_type": "code",
   "execution_count": 594,
   "metadata": {},
   "outputs": [
    {
     "data": {
      "text/plain": [
       "4.023002977456401"
      ]
     },
     "execution_count": 594,
     "metadata": {},
     "output_type": "execute_result"
    }
   ],
   "source": [
    "povprecna_ocena_solo"
   ]
  },
  {
   "cell_type": "markdown",
   "metadata": {},
   "source": [
    "Povprečna ocena serij je torej za malenkost višja, toda razlika je zanemarljiva (0,08 točke). Ocena bralcev je torej praktično ista za serije in samostojna dela."
   ]
  },
  {
   "cell_type": "markdown",
   "metadata": {},
   "source": [
    "Glede na opravljeno analizo lahko torej zaključim, da se malenkost bolj splača napisati serijo. Poleg tega imam po uspešnem prvem delu zagotovljeno bralno publiko za nadaljevanja."
   ]
  },
  {
   "cell_type": "markdown",
   "metadata": {},
   "source": [
    "# Kateri avtorji in založbe so imeli največ uspešnic?"
   ]
  },
  {
   "cell_type": "markdown",
   "metadata": {},
   "source": [
    "Da dobim občutek, kakšen stil pisanja si želijo bralci, poiščem najboljše avtorje in kasneje preberem nekaj njihovih del.\n",
    "Znova bom najuspešnejšega avtorja poiskala v različno velikih skupinah: 100 in 5000 knjig."
   ]
  },
  {
   "cell_type": "markdown",
   "metadata": {},
   "source": [
    "Za začetek si ogledam, kateri avtorji imajo največ del na samem vrhu lestvice in med prvimi 5000 deli na lestvici:"
   ]
  },
  {
   "cell_type": "markdown",
   "metadata": {},
   "source": [
    "Iščem avtorja z največ deli med prvo stoterico:"
   ]
  },
  {
   "cell_type": "code",
   "execution_count": 595,
   "metadata": {},
   "outputs": [],
   "source": [
    "st_knjig_avtorja_100 = knjige[['avtor','id_avtor']].head(100).groupby('id_avtor').size().to_frame('st_knjig').sort_values('st_knjig', ascending=False)"
   ]
  },
  {
   "cell_type": "code",
   "execution_count": 596,
   "metadata": {},
   "outputs": [],
   "source": [
    "najboljsi_avtorji_100 = pd.merge(st_knjig_avtorja_100,knjige[['avtor','id_avtor']],left_on='id_avtor',right_on='id_avtor')"
   ]
  },
  {
   "cell_type": "code",
   "execution_count": 597,
   "metadata": {},
   "outputs": [
    {
     "data": {
      "text/html": [
       "<div>\n",
       "<style scoped>\n",
       "    .dataframe tbody tr th:only-of-type {\n",
       "        vertical-align: middle;\n",
       "    }\n",
       "\n",
       "    .dataframe tbody tr th {\n",
       "        vertical-align: top;\n",
       "    }\n",
       "\n",
       "    .dataframe thead th {\n",
       "        text-align: right;\n",
       "    }\n",
       "</style>\n",
       "<table border=\"1\" class=\"dataframe\">\n",
       "  <thead>\n",
       "    <tr style=\"text-align: right;\">\n",
       "      <th></th>\n",
       "      <th>id_avtor</th>\n",
       "      <th>st_knjig</th>\n",
       "      <th>avtor</th>\n",
       "    </tr>\n",
       "  </thead>\n",
       "  <tbody>\n",
       "    <tr>\n",
       "      <th>13</th>\n",
       "      <td>1077326</td>\n",
       "      <td>4</td>\n",
       "      <td>J.K. Rowling</td>\n",
       "    </tr>\n",
       "    <tr>\n",
       "      <th>21</th>\n",
       "      <td>569</td>\n",
       "      <td>2</td>\n",
       "      <td>Khaled Hosseini</td>\n",
       "    </tr>\n",
       "    <tr>\n",
       "      <th>31</th>\n",
       "      <td>656983</td>\n",
       "      <td>2</td>\n",
       "      <td>J.R.R. Tolkien</td>\n",
       "    </tr>\n",
       "    <tr>\n",
       "      <th>43</th>\n",
       "      <td>239579</td>\n",
       "      <td>2</td>\n",
       "      <td>Charles Dickens</td>\n",
       "    </tr>\n",
       "    <tr>\n",
       "      <th>51</th>\n",
       "      <td>3137322</td>\n",
       "      <td>2</td>\n",
       "      <td>Fyodor Dostoyevsky</td>\n",
       "    </tr>\n",
       "    <tr>\n",
       "      <th>18</th>\n",
       "      <td>3706</td>\n",
       "      <td>2</td>\n",
       "      <td>George Orwell</td>\n",
       "    </tr>\n",
       "    <tr>\n",
       "      <th>387</th>\n",
       "      <td>630</td>\n",
       "      <td>1</td>\n",
       "      <td>Dan Brown</td>\n",
       "    </tr>\n",
       "    <tr>\n",
       "      <th>432</th>\n",
       "      <td>106</td>\n",
       "      <td>1</td>\n",
       "      <td>Madeleine L&amp;#39;Engle</td>\n",
       "    </tr>\n",
       "    <tr>\n",
       "      <th>428</th>\n",
       "      <td>306</td>\n",
       "      <td>1</td>\n",
       "      <td>William Golding</td>\n",
       "    </tr>\n",
       "    <tr>\n",
       "      <th>427</th>\n",
       "      <td>316</td>\n",
       "      <td>1</td>\n",
       "      <td>Alice Sebold</td>\n",
       "    </tr>\n",
       "  </tbody>\n",
       "</table>\n",
       "</div>"
      ],
      "text/plain": [
       "     id_avtor  st_knjig                  avtor\n",
       "13    1077326         4           J.K. Rowling\n",
       "21        569         2        Khaled Hosseini\n",
       "31     656983         2         J.R.R. Tolkien\n",
       "43     239579         2        Charles Dickens\n",
       "51    3137322         2     Fyodor Dostoyevsky\n",
       "18       3706         2          George Orwell\n",
       "387       630         1              Dan Brown\n",
       "432       106         1  Madeleine L&#39;Engle\n",
       "428       306         1        William Golding\n",
       "427       316         1           Alice Sebold"
      ]
     },
     "execution_count": 597,
     "metadata": {},
     "output_type": "execute_result"
    }
   ],
   "source": [
    "najboljsi_avtorji_100.drop_duplicates(keep='last').sort_values('st_knjig',ascending=False).head(10)"
   ]
  },
  {
   "cell_type": "markdown",
   "metadata": {},
   "source": [
    "J.K.Rowling je torej napisala kar 4 izmed stotih najboljših del spletne strani, zato bi bilo smiselno preučiti njen stil in vsebino pisanja.<br>"
   ]
  },
  {
   "cell_type": "markdown",
   "metadata": {},
   "source": [
    "Poiščem še najbolj uspešnega avtorja celotne lestvice (v našem primeru prvih 5000 del)."
   ]
  },
  {
   "cell_type": "code",
   "execution_count": 598,
   "metadata": {},
   "outputs": [],
   "source": [
    "st_knjig_avtorja = knjige[['avtor','id_avtor']].groupby('id_avtor').size().to_frame('st_knjig').sort_values('st_knjig', ascending=False)"
   ]
  },
  {
   "cell_type": "code",
   "execution_count": 599,
   "metadata": {},
   "outputs": [],
   "source": [
    "najboljsi_avtorji = pd.merge(st_knjig_avtorja,knjige[['avtor','id_avtor']],left_on='id_avtor',right_on='id_avtor').drop_duplicates(keep='last').sort_values('st_knjig',ascending=False)"
   ]
  },
  {
   "cell_type": "code",
   "execution_count": 600,
   "metadata": {
    "scrolled": true
   },
   "outputs": [
    {
     "data": {
      "text/html": [
       "<div>\n",
       "<style scoped>\n",
       "    .dataframe tbody tr th:only-of-type {\n",
       "        vertical-align: middle;\n",
       "    }\n",
       "\n",
       "    .dataframe tbody tr th {\n",
       "        vertical-align: top;\n",
       "    }\n",
       "\n",
       "    .dataframe thead th {\n",
       "        text-align: right;\n",
       "    }\n",
       "</style>\n",
       "<table border=\"1\" class=\"dataframe\">\n",
       "  <thead>\n",
       "    <tr style=\"text-align: right;\">\n",
       "      <th></th>\n",
       "      <th>id_avtor</th>\n",
       "      <th>st_knjig</th>\n",
       "      <th>avtor</th>\n",
       "    </tr>\n",
       "  </thead>\n",
       "  <tbody>\n",
       "    <tr>\n",
       "      <th>51</th>\n",
       "      <td>3389</td>\n",
       "      <td>52</td>\n",
       "      <td>Stephen King</td>\n",
       "    </tr>\n",
       "    <tr>\n",
       "      <th>90</th>\n",
       "      <td>1654</td>\n",
       "      <td>39</td>\n",
       "      <td>Terry Pratchett</td>\n",
       "    </tr>\n",
       "    <tr>\n",
       "      <th>117</th>\n",
       "      <td>15872</td>\n",
       "      <td>27</td>\n",
       "      <td>Rick Riordan</td>\n",
       "    </tr>\n",
       "    <tr>\n",
       "      <th>139</th>\n",
       "      <td>137902</td>\n",
       "      <td>22</td>\n",
       "      <td>Richelle Mead</td>\n",
       "    </tr>\n",
       "    <tr>\n",
       "      <th>159</th>\n",
       "      <td>9550</td>\n",
       "      <td>20</td>\n",
       "      <td>Laurell K. Hamilton</td>\n",
       "    </tr>\n",
       "    <tr>\n",
       "      <th>179</th>\n",
       "      <td>1221698</td>\n",
       "      <td>20</td>\n",
       "      <td>Neil Gaiman</td>\n",
       "    </tr>\n",
       "    <tr>\n",
       "      <th>198</th>\n",
       "      <td>2345</td>\n",
       "      <td>19</td>\n",
       "      <td>Nicholas Sparks</td>\n",
       "    </tr>\n",
       "    <tr>\n",
       "      <th>217</th>\n",
       "      <td>947</td>\n",
       "      <td>19</td>\n",
       "      <td>William Shakespeare</td>\n",
       "    </tr>\n",
       "    <tr>\n",
       "      <th>236</th>\n",
       "      <td>10746</td>\n",
       "      <td>19</td>\n",
       "      <td>Jim Butcher</td>\n",
       "    </tr>\n",
       "    <tr>\n",
       "      <th>254</th>\n",
       "      <td>3780</td>\n",
       "      <td>18</td>\n",
       "      <td>James Patterson</td>\n",
       "    </tr>\n",
       "    <tr>\n",
       "      <th>271</th>\n",
       "      <td>150038</td>\n",
       "      <td>17</td>\n",
       "      <td>Cassandra Clare</td>\n",
       "    </tr>\n",
       "    <tr>\n",
       "      <th>288</th>\n",
       "      <td>4430</td>\n",
       "      <td>17</td>\n",
       "      <td>Sherrilyn Kenyon</td>\n",
       "    </tr>\n",
       "    <tr>\n",
       "      <th>305</th>\n",
       "      <td>1069006</td>\n",
       "      <td>17</td>\n",
       "      <td>C.S. Lewis</td>\n",
       "    </tr>\n",
       "    <tr>\n",
       "      <th>322</th>\n",
       "      <td>4476934</td>\n",
       "      <td>17</td>\n",
       "      <td>Jennifer L. Armentrout</td>\n",
       "    </tr>\n",
       "    <tr>\n",
       "      <th>370</th>\n",
       "      <td>20248</td>\n",
       "      <td>16</td>\n",
       "      <td>J.R. Ward</td>\n",
       "    </tr>\n",
       "    <tr>\n",
       "      <th>338</th>\n",
       "      <td>8596</td>\n",
       "      <td>16</td>\n",
       "      <td>Tamora Pierce</td>\n",
       "    </tr>\n",
       "    <tr>\n",
       "      <th>354</th>\n",
       "      <td>3354</td>\n",
       "      <td>16</td>\n",
       "      <td>Haruki Murakami</td>\n",
       "    </tr>\n",
       "    <tr>\n",
       "      <th>385</th>\n",
       "      <td>7128</td>\n",
       "      <td>15</td>\n",
       "      <td>Jodi Picoult</td>\n",
       "    </tr>\n",
       "    <tr>\n",
       "      <th>400</th>\n",
       "      <td>7577</td>\n",
       "      <td>15</td>\n",
       "      <td>Anne Rice</td>\n",
       "    </tr>\n",
       "    <tr>\n",
       "      <th>415</th>\n",
       "      <td>6252</td>\n",
       "      <td>15</td>\n",
       "      <td>Robert Jordan</td>\n",
       "    </tr>\n",
       "    <tr>\n",
       "      <th>430</th>\n",
       "      <td>11654</td>\n",
       "      <td>15</td>\n",
       "      <td>Meg Cabot</td>\n",
       "    </tr>\n",
       "    <tr>\n",
       "      <th>444</th>\n",
       "      <td>5430144</td>\n",
       "      <td>14</td>\n",
       "      <td>Colleen Hoover</td>\n",
       "    </tr>\n",
       "    <tr>\n",
       "      <th>458</th>\n",
       "      <td>17061</td>\n",
       "      <td>14</td>\n",
       "      <td>Charlaine Harris</td>\n",
       "    </tr>\n",
       "    <tr>\n",
       "      <th>472</th>\n",
       "      <td>1077326</td>\n",
       "      <td>14</td>\n",
       "      <td>J.K. Rowling</td>\n",
       "    </tr>\n",
       "    <tr>\n",
       "      <th>486</th>\n",
       "      <td>61105</td>\n",
       "      <td>14</td>\n",
       "      <td>Dr. Seuss</td>\n",
       "    </tr>\n",
       "    <tr>\n",
       "      <th>500</th>\n",
       "      <td>36746</td>\n",
       "      <td>14</td>\n",
       "      <td>Lemony Snicket</td>\n",
       "    </tr>\n",
       "    <tr>\n",
       "      <th>565</th>\n",
       "      <td>50873</td>\n",
       "      <td>13</td>\n",
       "      <td>L.J. Smith</td>\n",
       "    </tr>\n",
       "    <tr>\n",
       "      <th>591</th>\n",
       "      <td>721</td>\n",
       "      <td>13</td>\n",
       "      <td>John Grisham</td>\n",
       "    </tr>\n",
       "    <tr>\n",
       "      <th>578</th>\n",
       "      <td>2384</td>\n",
       "      <td>13</td>\n",
       "      <td>Janet Evanovich</td>\n",
       "    </tr>\n",
       "    <tr>\n",
       "      <th>604</th>\n",
       "      <td>38550</td>\n",
       "      <td>13</td>\n",
       "      <td>Brandon Sanderson</td>\n",
       "    </tr>\n",
       "  </tbody>\n",
       "</table>\n",
       "</div>"
      ],
      "text/plain": [
       "     id_avtor  st_knjig                   avtor\n",
       "51       3389        52            Stephen King\n",
       "90       1654        39         Terry Pratchett\n",
       "117     15872        27            Rick Riordan\n",
       "139    137902        22           Richelle Mead\n",
       "159      9550        20     Laurell K. Hamilton\n",
       "179   1221698        20             Neil Gaiman\n",
       "198      2345        19         Nicholas Sparks\n",
       "217       947        19     William Shakespeare\n",
       "236     10746        19             Jim Butcher\n",
       "254      3780        18         James Patterson\n",
       "271    150038        17         Cassandra Clare\n",
       "288      4430        17        Sherrilyn Kenyon\n",
       "305   1069006        17              C.S. Lewis\n",
       "322   4476934        17  Jennifer L. Armentrout\n",
       "370     20248        16               J.R. Ward\n",
       "338      8596        16           Tamora Pierce\n",
       "354      3354        16         Haruki Murakami\n",
       "385      7128        15            Jodi Picoult\n",
       "400      7577        15               Anne Rice\n",
       "415      6252        15           Robert Jordan\n",
       "430     11654        15               Meg Cabot\n",
       "444   5430144        14          Colleen Hoover\n",
       "458     17061        14        Charlaine Harris\n",
       "472   1077326        14            J.K. Rowling\n",
       "486     61105        14               Dr. Seuss\n",
       "500     36746        14          Lemony Snicket\n",
       "565     50873        13              L.J. Smith\n",
       "591       721        13            John Grisham\n",
       "578      2384        13         Janet Evanovich\n",
       "604     38550        13       Brandon Sanderson"
      ]
     },
     "execution_count": 600,
     "metadata": {},
     "output_type": "execute_result"
    }
   ],
   "source": [
    "najboljsi_avtorji.head(30)"
   ]
  },
  {
   "cell_type": "markdown",
   "metadata": {},
   "source": [
    "Na prvem mestu je sedaj drug avtor in sicer Stephen King."
   ]
  },
  {
   "cell_type": "markdown",
   "metadata": {},
   "source": [
    "Preverim, katerega žanra so dela desetih najuspešnejših avtorjev (gledano na celotno lestvico)."
   ]
  },
  {
   "cell_type": "code",
   "execution_count": 601,
   "metadata": {},
   "outputs": [],
   "source": [
    "tabela_avtorjev = [i for i in najboljsi_avtorji.id_avtor.head(20)]"
   ]
  },
  {
   "cell_type": "code",
   "execution_count": 602,
   "metadata": {},
   "outputs": [],
   "source": [
    "dela_najboljsih_avtorjev = knjige[(knjige.id_avtor).isin(tabela_avtorjev)]"
   ]
  },
  {
   "cell_type": "code",
   "execution_count": 603,
   "metadata": {},
   "outputs": [],
   "source": [
    "zanr_del_najboljsih_avtorjev = pd.merge(dela_najboljsih_avtorjev, zanri,left_on='id_knjige',right_on='id_knjige').groupby('zanr')"
   ]
  },
  {
   "cell_type": "code",
   "execution_count": 604,
   "metadata": {},
   "outputs": [
    {
     "data": {
      "text/html": [
       "<div>\n",
       "<style scoped>\n",
       "    .dataframe tbody tr th:only-of-type {\n",
       "        vertical-align: middle;\n",
       "    }\n",
       "\n",
       "    .dataframe tbody tr th {\n",
       "        vertical-align: top;\n",
       "    }\n",
       "\n",
       "    .dataframe thead th {\n",
       "        text-align: right;\n",
       "    }\n",
       "</style>\n",
       "<table border=\"1\" class=\"dataframe\">\n",
       "  <thead>\n",
       "    <tr style=\"text-align: right;\">\n",
       "      <th></th>\n",
       "      <th>st_knjig_zanra</th>\n",
       "    </tr>\n",
       "    <tr>\n",
       "      <th>zanr</th>\n",
       "      <th></th>\n",
       "    </tr>\n",
       "  </thead>\n",
       "  <tbody>\n",
       "    <tr>\n",
       "      <th>fantasy</th>\n",
       "      <td>253</td>\n",
       "    </tr>\n",
       "    <tr>\n",
       "      <th>fiction</th>\n",
       "      <td>234</td>\n",
       "    </tr>\n",
       "    <tr>\n",
       "      <th>young-adult</th>\n",
       "      <td>106</td>\n",
       "    </tr>\n",
       "    <tr>\n",
       "      <th>paranormal</th>\n",
       "      <td>79</td>\n",
       "    </tr>\n",
       "    <tr>\n",
       "      <th>horror</th>\n",
       "      <td>67</td>\n",
       "    </tr>\n",
       "    <tr>\n",
       "      <th>romance</th>\n",
       "      <td>65</td>\n",
       "    </tr>\n",
       "    <tr>\n",
       "      <th>vampires</th>\n",
       "      <td>48</td>\n",
       "    </tr>\n",
       "    <tr>\n",
       "      <th>urban-fantasy</th>\n",
       "      <td>47</td>\n",
       "    </tr>\n",
       "    <tr>\n",
       "      <th>humor</th>\n",
       "      <td>33</td>\n",
       "    </tr>\n",
       "    <tr>\n",
       "      <th>paranormal-romance</th>\n",
       "      <td>30</td>\n",
       "    </tr>\n",
       "  </tbody>\n",
       "</table>\n",
       "</div>"
      ],
      "text/plain": [
       "                    st_knjig_zanra\n",
       "zanr                              \n",
       "fantasy                        253\n",
       "fiction                        234\n",
       "young-adult                    106\n",
       "paranormal                      79\n",
       "horror                          67\n",
       "romance                         65\n",
       "vampires                        48\n",
       "urban-fantasy                   47\n",
       "humor                           33\n",
       "paranormal-romance              30"
      ]
     },
     "execution_count": 604,
     "metadata": {},
     "output_type": "execute_result"
    }
   ],
   "source": [
    "zanr_del_najboljsih_avtorjev.size().to_frame('st_knjig_zanra').sort_values('st_knjig_zanra', ascending=False).head(10)"
   ]
  },
  {
   "cell_type": "markdown",
   "metadata": {},
   "source": [
    "Tudi na tej lestvici še vedno kraljujeta fatasy/fiction. Če je moj cilj postati pisateljica z največ knjigami na lestvici goodreads je izbira žanra fatasy/fiction naravnost vrhunska."
   ]
  },
  {
   "cell_type": "markdown",
   "metadata": {},
   "source": [
    "Sedaj želim izbrati še založbo, ki me bo popeljala med pisateljske zvezde."
   ]
  },
  {
   "cell_type": "markdown",
   "metadata": {},
   "source": [
    "Najprej poiščem založbo, ki je založila največ knjig na lestvici."
   ]
  },
  {
   "cell_type": "code",
   "execution_count": 605,
   "metadata": {},
   "outputs": [],
   "source": [
    "st_knjig_zalozbe = knjige[knjige.zalozba != \"unknown\"][['zalozba']].groupby('zalozba').size().to_frame('st_knjig').sort_values('st_knjig', ascending=False)"
   ]
  },
  {
   "cell_type": "code",
   "execution_count": 606,
   "metadata": {},
   "outputs": [
    {
     "data": {
      "text/html": [
       "<div>\n",
       "<style scoped>\n",
       "    .dataframe tbody tr th:only-of-type {\n",
       "        vertical-align: middle;\n",
       "    }\n",
       "\n",
       "    .dataframe tbody tr th {\n",
       "        vertical-align: top;\n",
       "    }\n",
       "\n",
       "    .dataframe thead th {\n",
       "        text-align: right;\n",
       "    }\n",
       "</style>\n",
       "<table border=\"1\" class=\"dataframe\">\n",
       "  <thead>\n",
       "    <tr style=\"text-align: right;\">\n",
       "      <th></th>\n",
       "      <th>st_knjig</th>\n",
       "    </tr>\n",
       "    <tr>\n",
       "      <th>zalozba</th>\n",
       "      <th></th>\n",
       "    </tr>\n",
       "  </thead>\n",
       "  <tbody>\n",
       "    <tr>\n",
       "      <th>Vintage</th>\n",
       "      <td>135</td>\n",
       "    </tr>\n",
       "    <tr>\n",
       "      <th>Penguin Books</th>\n",
       "      <td>92</td>\n",
       "    </tr>\n",
       "    <tr>\n",
       "      <th>Ballantine Books</th>\n",
       "      <td>72</td>\n",
       "    </tr>\n",
       "    <tr>\n",
       "      <th>HarperTeen</th>\n",
       "      <td>65</td>\n",
       "    </tr>\n",
       "    <tr>\n",
       "      <th>Penguin Classics</th>\n",
       "      <td>65</td>\n",
       "    </tr>\n",
       "    <tr>\n",
       "      <th>HarperCollins</th>\n",
       "      <td>63</td>\n",
       "    </tr>\n",
       "    <tr>\n",
       "      <th>St. Martin's Press</th>\n",
       "      <td>51</td>\n",
       "    </tr>\n",
       "    <tr>\n",
       "      <th>Little, Brown and Company</th>\n",
       "      <td>47</td>\n",
       "    </tr>\n",
       "    <tr>\n",
       "      <th>Little, Brown Books for Young Readers</th>\n",
       "      <td>47</td>\n",
       "    </tr>\n",
       "    <tr>\n",
       "      <th>Bantam</th>\n",
       "      <td>46</td>\n",
       "    </tr>\n",
       "  </tbody>\n",
       "</table>\n",
       "</div>"
      ],
      "text/plain": [
       "                                       st_knjig\n",
       "zalozba                                        \n",
       "Vintage                                     135\n",
       "Penguin Books                                92\n",
       "Ballantine Books                             72\n",
       "HarperTeen                                   65\n",
       "Penguin Classics                             65\n",
       "HarperCollins                                63\n",
       "St. Martin's Press                           51\n",
       "Little, Brown and Company                    47\n",
       "Little, Brown Books for Young Readers        47\n",
       "Bantam                                       46"
      ]
     },
     "execution_count": 606,
     "metadata": {},
     "output_type": "execute_result"
    }
   ],
   "source": [
    "st_knjig_zalozbe.head(10)"
   ]
  },
  {
   "cell_type": "markdown",
   "metadata": {},
   "source": [
    "Želim poiskati tudi najuspešnejšo založbo po nagrajenosti njenih založenih del."
   ]
  },
  {
   "cell_type": "code",
   "execution_count": 607,
   "metadata": {},
   "outputs": [],
   "source": [
    "nagrajene_knjige = knjige[knjige.nagrade == True]"
   ]
  },
  {
   "cell_type": "markdown",
   "metadata": {},
   "source": [
    "Za začetek si ogledam, katera založba ima največ del, ki so prejela vsaj eno nagrado."
   ]
  },
  {
   "cell_type": "code",
   "execution_count": 608,
   "metadata": {},
   "outputs": [],
   "source": [
    "st_nagrajenih_knjig_zalozbe = nagrajene_knjige.groupby('zalozba').size().to_frame('st_nagrajenih_del').sort_values('st_nagrajenih_del', ascending=False).head(15)"
   ]
  },
  {
   "cell_type": "code",
   "execution_count": 609,
   "metadata": {},
   "outputs": [
    {
     "data": {
      "text/html": [
       "<div>\n",
       "<style scoped>\n",
       "    .dataframe tbody tr th:only-of-type {\n",
       "        vertical-align: middle;\n",
       "    }\n",
       "\n",
       "    .dataframe tbody tr th {\n",
       "        vertical-align: top;\n",
       "    }\n",
       "\n",
       "    .dataframe thead th {\n",
       "        text-align: right;\n",
       "    }\n",
       "</style>\n",
       "<table border=\"1\" class=\"dataframe\">\n",
       "  <thead>\n",
       "    <tr style=\"text-align: right;\">\n",
       "      <th></th>\n",
       "      <th>st_nagrajenih_del</th>\n",
       "    </tr>\n",
       "    <tr>\n",
       "      <th>zalozba</th>\n",
       "      <th></th>\n",
       "    </tr>\n",
       "  </thead>\n",
       "  <tbody>\n",
       "    <tr>\n",
       "      <th>Vintage</th>\n",
       "      <td>83</td>\n",
       "    </tr>\n",
       "    <tr>\n",
       "      <th>Penguin Books</th>\n",
       "      <td>44</td>\n",
       "    </tr>\n",
       "    <tr>\n",
       "      <th>Ballantine Books</th>\n",
       "      <td>38</td>\n",
       "    </tr>\n",
       "    <tr>\n",
       "      <th>Random House</th>\n",
       "      <td>35</td>\n",
       "    </tr>\n",
       "    <tr>\n",
       "      <th>Little, Brown Books for Young Readers</th>\n",
       "      <td>34</td>\n",
       "    </tr>\n",
       "    <tr>\n",
       "      <th>Tor Books</th>\n",
       "      <td>32</td>\n",
       "    </tr>\n",
       "    <tr>\n",
       "      <th>HarperCollins</th>\n",
       "      <td>32</td>\n",
       "    </tr>\n",
       "    <tr>\n",
       "      <th>Little, Brown and Company</th>\n",
       "      <td>31</td>\n",
       "    </tr>\n",
       "    <tr>\n",
       "      <th>St. Martin's Press</th>\n",
       "      <td>30</td>\n",
       "    </tr>\n",
       "    <tr>\n",
       "      <th>HarperTeen</th>\n",
       "      <td>29</td>\n",
       "    </tr>\n",
       "    <tr>\n",
       "      <th>Scribner</th>\n",
       "      <td>29</td>\n",
       "    </tr>\n",
       "    <tr>\n",
       "      <th>unknown</th>\n",
       "      <td>26</td>\n",
       "    </tr>\n",
       "    <tr>\n",
       "      <th>Pocket Books</th>\n",
       "      <td>25</td>\n",
       "    </tr>\n",
       "    <tr>\n",
       "      <th>Atria Books</th>\n",
       "      <td>25</td>\n",
       "    </tr>\n",
       "    <tr>\n",
       "      <th>Bantam</th>\n",
       "      <td>25</td>\n",
       "    </tr>\n",
       "  </tbody>\n",
       "</table>\n",
       "</div>"
      ],
      "text/plain": [
       "                                       st_nagrajenih_del\n",
       "zalozba                                                 \n",
       "Vintage                                               83\n",
       "Penguin Books                                         44\n",
       "Ballantine Books                                      38\n",
       "Random House                                          35\n",
       "Little, Brown Books for Young Readers                 34\n",
       "Tor Books                                             32\n",
       "HarperCollins                                         32\n",
       "Little, Brown and Company                             31\n",
       "St. Martin's Press                                    30\n",
       "HarperTeen                                            29\n",
       "Scribner                                              29\n",
       "unknown                                               26\n",
       "Pocket Books                                          25\n",
       "Atria Books                                           25\n",
       "Bantam                                                25"
      ]
     },
     "execution_count": 609,
     "metadata": {},
     "output_type": "execute_result"
    }
   ],
   "source": [
    "st_nagrajenih_knjig_zalozbe"
   ]
  },
  {
   "cell_type": "markdown",
   "metadata": {},
   "source": [
    "Poiščem še najbolj uspešno založbo po številu nagrad."
   ]
  },
  {
   "cell_type": "code",
   "execution_count": 610,
   "metadata": {},
   "outputs": [
    {
     "data": {
      "text/html": [
       "<div>\n",
       "<style scoped>\n",
       "    .dataframe tbody tr th:only-of-type {\n",
       "        vertical-align: middle;\n",
       "    }\n",
       "\n",
       "    .dataframe tbody tr th {\n",
       "        vertical-align: top;\n",
       "    }\n",
       "\n",
       "    .dataframe thead th {\n",
       "        text-align: right;\n",
       "    }\n",
       "</style>\n",
       "<table border=\"1\" class=\"dataframe\">\n",
       "  <thead>\n",
       "    <tr style=\"text-align: right;\">\n",
       "      <th></th>\n",
       "      <th>st_nagrad</th>\n",
       "    </tr>\n",
       "    <tr>\n",
       "      <th>zalozba</th>\n",
       "      <th></th>\n",
       "    </tr>\n",
       "  </thead>\n",
       "  <tbody>\n",
       "    <tr>\n",
       "      <th>Vintage</th>\n",
       "      <td>217</td>\n",
       "    </tr>\n",
       "    <tr>\n",
       "      <th>Little, Brown and Company</th>\n",
       "      <td>155</td>\n",
       "    </tr>\n",
       "    <tr>\n",
       "      <th>Random House</th>\n",
       "      <td>145</td>\n",
       "    </tr>\n",
       "    <tr>\n",
       "      <th>Little, Brown Books for Young Readers</th>\n",
       "      <td>130</td>\n",
       "    </tr>\n",
       "    <tr>\n",
       "      <th>Alfred A. Knopf</th>\n",
       "      <td>125</td>\n",
       "    </tr>\n",
       "    <tr>\n",
       "      <th>Scholastic Press</th>\n",
       "      <td>125</td>\n",
       "    </tr>\n",
       "    <tr>\n",
       "      <th>HarperCollins</th>\n",
       "      <td>115</td>\n",
       "    </tr>\n",
       "    <tr>\n",
       "      <th>Penguin Books</th>\n",
       "      <td>111</td>\n",
       "    </tr>\n",
       "    <tr>\n",
       "      <th>Tor Books</th>\n",
       "      <td>101</td>\n",
       "    </tr>\n",
       "    <tr>\n",
       "      <th>Knopf</th>\n",
       "      <td>95</td>\n",
       "    </tr>\n",
       "  </tbody>\n",
       "</table>\n",
       "</div>"
      ],
      "text/plain": [
       "                                       st_nagrad\n",
       "zalozba                                         \n",
       "Vintage                                      217\n",
       "Little, Brown and Company                    155\n",
       "Random House                                 145\n",
       "Little, Brown Books for Young Readers        130\n",
       "Alfred A. Knopf                              125\n",
       "Scholastic Press                             125\n",
       "HarperCollins                                115\n",
       "Penguin Books                                111\n",
       "Tor Books                                    101\n",
       "Knopf                                         95"
      ]
     },
     "execution_count": 610,
     "metadata": {},
     "output_type": "execute_result"
    }
   ],
   "source": [
    "pd.merge(nagrajene_knjige, nagrade,left_on='id_knjige',right_on='id_knjige').groupby('zalozba').size().to_frame('st_nagrad').sort_values('st_nagrad', ascending=False).head(10)"
   ]
  },
  {
   "cell_type": "markdown",
   "metadata": {},
   "source": [
    "Založba Vintage je torej založila največ del z lestvice, ima največ del, ki so prejela vsaj eno nagrado in je skupno prejela največ nagrad, zato se zdi dobra izbira za mojo založbo."
   ]
  },
  {
   "cell_type": "markdown",
   "metadata": {},
   "source": [
    "Kot sem že omenila: lepo bi bilo osvojiti vsaj eno nagrado. Zato si za pisateljski zgled poiščem avtorje z največ nagrajenimi deli."
   ]
  },
  {
   "cell_type": "code",
   "execution_count": 611,
   "metadata": {},
   "outputs": [],
   "source": [
    "nagrajeni_avtorji = nagrajene_knjige.groupby('id_avtor').size().to_frame('st_nagrajenih_del').sort_values('st_nagrajenih_del', ascending=False).head(10)"
   ]
  },
  {
   "cell_type": "code",
   "execution_count": 612,
   "metadata": {},
   "outputs": [],
   "source": [
    "najbolj_nagrajeni_avtorji = pd.merge(nagrajeni_avtorji, knjige[['id_avtor','avtor']],left_on='id_avtor',right_on='id_avtor').drop_duplicates(keep='last')"
   ]
  },
  {
   "cell_type": "code",
   "execution_count": 613,
   "metadata": {
    "scrolled": true
   },
   "outputs": [
    {
     "data": {
      "text/html": [
       "<div>\n",
       "<style scoped>\n",
       "    .dataframe tbody tr th:only-of-type {\n",
       "        vertical-align: middle;\n",
       "    }\n",
       "\n",
       "    .dataframe tbody tr th {\n",
       "        vertical-align: top;\n",
       "    }\n",
       "\n",
       "    .dataframe thead th {\n",
       "        text-align: right;\n",
       "    }\n",
       "</style>\n",
       "<table border=\"1\" class=\"dataframe\">\n",
       "  <thead>\n",
       "    <tr style=\"text-align: right;\">\n",
       "      <th></th>\n",
       "      <th>id_avtor</th>\n",
       "      <th>st_nagrajenih_del</th>\n",
       "      <th>avtor</th>\n",
       "    </tr>\n",
       "  </thead>\n",
       "  <tbody>\n",
       "    <tr>\n",
       "      <th>51</th>\n",
       "      <td>3389</td>\n",
       "      <td>39</td>\n",
       "      <td>Stephen King</td>\n",
       "    </tr>\n",
       "    <tr>\n",
       "      <th>90</th>\n",
       "      <td>1654</td>\n",
       "      <td>22</td>\n",
       "      <td>Terry Pratchett</td>\n",
       "    </tr>\n",
       "    <tr>\n",
       "      <th>117</th>\n",
       "      <td>15872</td>\n",
       "      <td>15</td>\n",
       "      <td>Rick Riordan</td>\n",
       "    </tr>\n",
       "    <tr>\n",
       "      <th>137</th>\n",
       "      <td>1221698</td>\n",
       "      <td>13</td>\n",
       "      <td>Neil Gaiman</td>\n",
       "    </tr>\n",
       "    <tr>\n",
       "      <th>151</th>\n",
       "      <td>1077326</td>\n",
       "      <td>12</td>\n",
       "      <td>J.K. Rowling</td>\n",
       "    </tr>\n",
       "    <tr>\n",
       "      <th>164</th>\n",
       "      <td>3433047</td>\n",
       "      <td>12</td>\n",
       "      <td>Sarah J. Maas</td>\n",
       "    </tr>\n",
       "    <tr>\n",
       "      <th>181</th>\n",
       "      <td>150038</td>\n",
       "      <td>12</td>\n",
       "      <td>Cassandra Clare</td>\n",
       "    </tr>\n",
       "    <tr>\n",
       "      <th>197</th>\n",
       "      <td>20248</td>\n",
       "      <td>12</td>\n",
       "      <td>J.R. Ward</td>\n",
       "    </tr>\n",
       "    <tr>\n",
       "      <th>219</th>\n",
       "      <td>137902</td>\n",
       "      <td>11</td>\n",
       "      <td>Richelle Mead</td>\n",
       "    </tr>\n",
       "    <tr>\n",
       "      <th>235</th>\n",
       "      <td>3354</td>\n",
       "      <td>10</td>\n",
       "      <td>Haruki Murakami</td>\n",
       "    </tr>\n",
       "  </tbody>\n",
       "</table>\n",
       "</div>"
      ],
      "text/plain": [
       "     id_avtor  st_nagrajenih_del            avtor\n",
       "51       3389                 39     Stephen King\n",
       "90       1654                 22  Terry Pratchett\n",
       "117     15872                 15     Rick Riordan\n",
       "137   1221698                 13      Neil Gaiman\n",
       "151   1077326                 12     J.K. Rowling\n",
       "164   3433047                 12    Sarah J. Maas\n",
       "181    150038                 12  Cassandra Clare\n",
       "197     20248                 12        J.R. Ward\n",
       "219    137902                 11    Richelle Mead\n",
       "235      3354                 10  Haruki Murakami"
      ]
     },
     "execution_count": 613,
     "metadata": {},
     "output_type": "execute_result"
    }
   ],
   "source": [
    "najbolj_nagrajeni_avtorji"
   ]
  },
  {
   "cell_type": "markdown",
   "metadata": {},
   "source": [
    "Ugotoviti želim še, v katerem žanru ustvarjajo ti pisatelji."
   ]
  },
  {
   "cell_type": "code",
   "execution_count": 614,
   "metadata": {},
   "outputs": [],
   "source": [
    "sez_naj_nagrajenih_avtorjev = [i for i in najbolj_nagrajeni_avtorji.id_avtor]"
   ]
  },
  {
   "cell_type": "code",
   "execution_count": 615,
   "metadata": {},
   "outputs": [],
   "source": [
    "dela_naj_nagrajenih_avtorjev = knjige[(knjige.id_avtor).isin(sez_naj_nagrajenih_avtorjev)]"
   ]
  },
  {
   "cell_type": "code",
   "execution_count": 616,
   "metadata": {},
   "outputs": [],
   "source": [
    "zanr_del_naj_nagrajenih_avtorjev = pd.merge(dela_naj_nagrajenih_avtorjev, zanri,left_on='id_knjige',right_on='id_knjige').groupby('zanr')"
   ]
  },
  {
   "cell_type": "code",
   "execution_count": 617,
   "metadata": {},
   "outputs": [
    {
     "data": {
      "text/html": [
       "<div>\n",
       "<style scoped>\n",
       "    .dataframe tbody tr th:only-of-type {\n",
       "        vertical-align: middle;\n",
       "    }\n",
       "\n",
       "    .dataframe tbody tr th {\n",
       "        vertical-align: top;\n",
       "    }\n",
       "\n",
       "    .dataframe thead th {\n",
       "        text-align: right;\n",
       "    }\n",
       "</style>\n",
       "<table border=\"1\" class=\"dataframe\">\n",
       "  <thead>\n",
       "    <tr style=\"text-align: right;\">\n",
       "      <th></th>\n",
       "      <th>st_knjig_zanra</th>\n",
       "    </tr>\n",
       "    <tr>\n",
       "      <th>zanr</th>\n",
       "      <th></th>\n",
       "    </tr>\n",
       "  </thead>\n",
       "  <tbody>\n",
       "    <tr>\n",
       "      <th>fantasy</th>\n",
       "      <td>173</td>\n",
       "    </tr>\n",
       "    <tr>\n",
       "      <th>fiction</th>\n",
       "      <td>132</td>\n",
       "    </tr>\n",
       "    <tr>\n",
       "      <th>young-adult</th>\n",
       "      <td>88</td>\n",
       "    </tr>\n",
       "    <tr>\n",
       "      <th>horror</th>\n",
       "      <td>52</td>\n",
       "    </tr>\n",
       "    <tr>\n",
       "      <th>romance</th>\n",
       "      <td>35</td>\n",
       "    </tr>\n",
       "    <tr>\n",
       "      <th>humor</th>\n",
       "      <td>33</td>\n",
       "    </tr>\n",
       "    <tr>\n",
       "      <th>paranormal</th>\n",
       "      <td>31</td>\n",
       "    </tr>\n",
       "    <tr>\n",
       "      <th>mythology</th>\n",
       "      <td>27</td>\n",
       "    </tr>\n",
       "    <tr>\n",
       "      <th>vampires</th>\n",
       "      <td>23</td>\n",
       "    </tr>\n",
       "    <tr>\n",
       "      <th>thriller</th>\n",
       "      <td>21</td>\n",
       "    </tr>\n",
       "  </tbody>\n",
       "</table>\n",
       "</div>"
      ],
      "text/plain": [
       "             st_knjig_zanra\n",
       "zanr                       \n",
       "fantasy                 173\n",
       "fiction                 132\n",
       "young-adult              88\n",
       "horror                   52\n",
       "romance                  35\n",
       "humor                    33\n",
       "paranormal               31\n",
       "mythology                27\n",
       "vampires                 23\n",
       "thriller                 21"
      ]
     },
     "execution_count": 617,
     "metadata": {},
     "output_type": "execute_result"
    }
   ],
   "source": [
    "zanr_del_naj_nagrajenih_avtorjev.size().to_frame('st_knjig_zanra').sort_values('st_knjig_zanra', ascending=False).head(10)"
   ]
  },
  {
   "cell_type": "markdown",
   "metadata": {},
   "source": [
    "Tudi pri najbolj nagrajenih avtorjih (po številu nagrajenih del) prevladujejo zvrst fantasy/fiction."
   ]
  },
  {
   "cell_type": "markdown",
   "metadata": {},
   "source": [
    "# Ali obstaja časovno obdobje, v katerem je izšla večina del iz vrha lestvice?\n"
   ]
  },
  {
   "cell_type": "markdown",
   "metadata": {},
   "source": [
    "Pri pisanju želim ugotoviti ali dela iz nekega obdobja na lestvici izstopajo, ker tako lahko preučim, v čem se dela tistega obdobja razlikujejo od trenutnih in kaj jih dela boljše."
   ]
  },
  {
   "cell_type": "markdown",
   "metadata": {},
   "source": [
    "Za začetek si ogledam, iz katerega desetletja so dela na samem vrhu."
   ]
  },
  {
   "cell_type": "code",
   "execution_count": 618,
   "metadata": {},
   "outputs": [],
   "source": [
    "knjige_z_letom_100 = knjige[knjige.leto != \"unknown\"].head(100)"
   ]
  },
  {
   "cell_type": "code",
   "execution_count": 619,
   "metadata": {},
   "outputs": [],
   "source": [
    "desetletje_100= (pd.to_numeric(knjige_z_letom_100.leto).to_frame('desetletje')//10)*10"
   ]
  },
  {
   "cell_type": "code",
   "execution_count": 620,
   "metadata": {},
   "outputs": [],
   "source": [
    "knjige_desetletje_100 = pd.merge(knjige_z_letom_100[['id_avtor','serija','povprecna_ocena','nagrade']],desetletje_100,left_on='id_knjige',right_on='id_knjige')"
   ]
  },
  {
   "cell_type": "code",
   "execution_count": 621,
   "metadata": {},
   "outputs": [
    {
     "data": {
      "text/plain": [
       "Text(0, 0.5, 'število del')"
      ]
     },
     "execution_count": 621,
     "metadata": {},
     "output_type": "execute_result"
    },
    {
     "data": {
      "image/png": "[encoded data removed]",
      "text/plain": [
       "<Figure size 432x288 with 1 Axes>"
      ]
     },
     "metadata": {
      "needs_background": "light"
     },
     "output_type": "display_data"
    }
   ],
   "source": [
    "graf_desetletje_100 = knjige_desetletje_100.groupby('desetletje').size().plot.bar(title=\"Porazdelitev prvih stotih del po desetetjih\")\n",
    "graf_desetletje_100.set_ylabel(\"število del\")"
   ]
  },
  {
   "cell_type": "markdown",
   "metadata": {},
   "source": [
    "Najboljših sto del je torej v veliki večini izšlo med letoma 2000 in 2010."
   ]
  },
  {
   "cell_type": "markdown",
   "metadata": {},
   "source": [
    "Ogledam si še razporeditev po desetletjih za vsa dela."
   ]
  },
  {
   "cell_type": "code",
   "execution_count": 622,
   "metadata": {},
   "outputs": [],
   "source": [
    "knjige_z_letom = knjige[knjige.leto != \"unknown\"]"
   ]
  },
  {
   "cell_type": "code",
   "execution_count": 623,
   "metadata": {
    "scrolled": true
   },
   "outputs": [],
   "source": [
    "desetletje= (pd.to_numeric(knjige_z_letom.leto).to_frame('desetletje')//10)*10"
   ]
  },
  {
   "cell_type": "code",
   "execution_count": 624,
   "metadata": {},
   "outputs": [],
   "source": [
    "knjige_desetletje = pd.merge(knjige_z_letom[['id_avtor','serija','povprecna_ocena','nagrade']],desetletje,left_on='id_knjige',right_on='id_knjige')"
   ]
  },
  {
   "cell_type": "code",
   "execution_count": 625,
   "metadata": {},
   "outputs": [
    {
     "data": {
      "text/plain": [
       "Text(0, 0.5, 'število del')"
      ]
     },
     "execution_count": 625,
     "metadata": {},
     "output_type": "execute_result"
    },
    {
     "data": {
      "image/png": "[encoded data removed]",
      "text/plain": [
       "<Figure size 432x288 with 1 Axes>"
      ]
     },
     "metadata": {
      "needs_background": "light"
     },
     "output_type": "display_data"
    }
   ],
   "source": [
    "graf_desetletje = knjige_desetletje.groupby('desetletje').size().plot.bar(title=\"Porazdelitev del po desetetjih\")\n",
    "graf_desetletje.set_ylabel(\"število del\")"
   ]
  },
  {
   "cell_type": "markdown",
   "metadata": {},
   "source": [
    "Večina del z vrha lestvice je izšla med letoma 2000 in 2020."
   ]
  },
  {
   "cell_type": "markdown",
   "metadata": {},
   "source": [
    "# Ali so knjige z literarnimi nagradami tudi med bralci bolje ocenjene?\n",
    "Želim preveriti ali bralci knjigam z literarnimi nagradami v povprečju dajo višjo oceno, kot tistim brez nagrad.<br>\n",
    "Želim tudi preveriti, ali povprečna ocena s številom nagrad narašča."
   ]
  },
  {
   "cell_type": "markdown",
   "metadata": {},
   "source": [
    "Za začetek pogledam ali je med deli več takih z nagradami ali brez."
   ]
  },
  {
   "cell_type": "code",
   "execution_count": 626,
   "metadata": {},
   "outputs": [
    {
     "data": {
      "text/plain": [
       "nagrade\n",
       "False    2591\n",
       "True     2409\n",
       "dtype: int64"
      ]
     },
     "execution_count": 626,
     "metadata": {},
     "output_type": "execute_result"
    }
   ],
   "source": [
    "knjige.groupby('nagrade').size()"
   ]
  },
  {
   "cell_type": "markdown",
   "metadata": {},
   "source": [
    "Slaba polovica del je torej prejela vsaj eno nagrado."
   ]
  },
  {
   "cell_type": "markdown",
   "metadata": {},
   "source": [
    "Sedaj preučim povprečno oceno nagrajenih in nenagrajenih del."
   ]
  },
  {
   "cell_type": "code",
   "execution_count": 627,
   "metadata": {},
   "outputs": [],
   "source": [
    "povprecna_ocena_z_nagrado = knjige[knjige.nagrade == True].povprecna_ocena.mean()"
   ]
  },
  {
   "cell_type": "code",
   "execution_count": 628,
   "metadata": {},
   "outputs": [
    {
     "data": {
      "text/plain": [
       "4.0491407222914075"
      ]
     },
     "execution_count": 628,
     "metadata": {},
     "output_type": "execute_result"
    }
   ],
   "source": [
    "povprecna_ocena_z_nagrado"
   ]
  },
  {
   "cell_type": "code",
   "execution_count": 629,
   "metadata": {},
   "outputs": [],
   "source": [
    "povprecna_ocena_brez_nagrade = knjige[knjige.nagrade == False].povprecna_ocena.mean()"
   ]
  },
  {
   "cell_type": "code",
   "execution_count": 630,
   "metadata": {},
   "outputs": [
    {
     "data": {
      "text/plain": [
       "4.075569278270938"
      ]
     },
     "execution_count": 630,
     "metadata": {},
     "output_type": "execute_result"
    }
   ],
   "source": [
    "povprecna_ocena_brez_nagrade"
   ]
  },
  {
   "cell_type": "markdown",
   "metadata": {},
   "source": [
    "Vidim, da je ocena praktično enaka za dela z nagradami in tista brez njih."
   ]
  },
  {
   "cell_type": "markdown",
   "metadata": {},
   "source": [
    "Ogledam si še ali se ocena nagrajenih del spreminja s številom nagrad."
   ]
  },
  {
   "cell_type": "code",
   "execution_count": 631,
   "metadata": {},
   "outputs": [],
   "source": [
    "nagrajene_knjige = knjige[knjige.nagrade == True]"
   ]
  },
  {
   "cell_type": "code",
   "execution_count": 632,
   "metadata": {
    "scrolled": true
   },
   "outputs": [
    {
     "data": {
      "text/html": [
       "<div>\n",
       "<style scoped>\n",
       "    .dataframe tbody tr th:only-of-type {\n",
       "        vertical-align: middle;\n",
       "    }\n",
       "\n",
       "    .dataframe tbody tr th {\n",
       "        vertical-align: top;\n",
       "    }\n",
       "\n",
       "    .dataframe thead th {\n",
       "        text-align: right;\n",
       "    }\n",
       "</style>\n",
       "<table border=\"1\" class=\"dataframe\">\n",
       "  <thead>\n",
       "    <tr style=\"text-align: right;\">\n",
       "      <th></th>\n",
       "      <th>knjiga</th>\n",
       "      <th>avtor</th>\n",
       "      <th>id_avtor</th>\n",
       "      <th>serija</th>\n",
       "      <th>opis</th>\n",
       "      <th>leto</th>\n",
       "      <th>zalozba</th>\n",
       "      <th>povprecna_ocena</th>\n",
       "      <th>score</th>\n",
       "      <th>st_glasov</th>\n",
       "      <th>st_ocen</th>\n",
       "      <th>st_reviewov</th>\n",
       "      <th>nagrade</th>\n",
       "    </tr>\n",
       "    <tr>\n",
       "      <th>id_knjige</th>\n",
       "      <th></th>\n",
       "      <th></th>\n",
       "      <th></th>\n",
       "      <th></th>\n",
       "      <th></th>\n",
       "      <th></th>\n",
       "      <th></th>\n",
       "      <th></th>\n",
       "      <th></th>\n",
       "      <th></th>\n",
       "      <th></th>\n",
       "      <th></th>\n",
       "      <th></th>\n",
       "    </tr>\n",
       "  </thead>\n",
       "  <tbody>\n",
       "    <tr>\n",
       "      <th>1</th>\n",
       "      <td>The Hunger Games</td>\n",
       "      <td>Suzanne Collins</td>\n",
       "      <td>153394</td>\n",
       "      <td>True</td>\n",
       "      <td>Could you survive on your own in the wild, wit...</td>\n",
       "      <td>2008</td>\n",
       "      <td>Scholastic Press</td>\n",
       "      <td>4.32</td>\n",
       "      <td>3038720</td>\n",
       "      <td>30970</td>\n",
       "      <td>6595031</td>\n",
       "      <td>174357</td>\n",
       "      <td>True</td>\n",
       "    </tr>\n",
       "    <tr>\n",
       "      <th>2</th>\n",
       "      <td>Harry Potter and the Order of the Phoenix</td>\n",
       "      <td>J.K. Rowling</td>\n",
       "      <td>1077326</td>\n",
       "      <td>True</td>\n",
       "      <td>There is a door at the end of a silent corrido...</td>\n",
       "      <td>2004</td>\n",
       "      <td>Scholastic Inc.</td>\n",
       "      <td>4.50</td>\n",
       "      <td>2668003</td>\n",
       "      <td>27286</td>\n",
       "      <td>2610721</td>\n",
       "      <td>44305</td>\n",
       "      <td>True</td>\n",
       "    </tr>\n",
       "    <tr>\n",
       "      <th>3</th>\n",
       "      <td>To Kill a Mockingbird</td>\n",
       "      <td>Harper Lee</td>\n",
       "      <td>1825</td>\n",
       "      <td>True</td>\n",
       "      <td>The unforgettable novel of a childhood in a sl...</td>\n",
       "      <td>2006</td>\n",
       "      <td>Harper Perennial Modern Classics</td>\n",
       "      <td>4.28</td>\n",
       "      <td>2311193</td>\n",
       "      <td>23750</td>\n",
       "      <td>4677256</td>\n",
       "      <td>93734</td>\n",
       "      <td>True</td>\n",
       "    </tr>\n",
       "    <tr>\n",
       "      <th>5</th>\n",
       "      <td>Twilight</td>\n",
       "      <td>Stephenie Meyer</td>\n",
       "      <td>941441</td>\n",
       "      <td>True</td>\n",
       "      <td>About three things I was absolutely positive. ...</td>\n",
       "      <td>2006</td>\n",
       "      <td>Little, Brown and Company</td>\n",
       "      <td>3.61</td>\n",
       "      <td>1472928</td>\n",
       "      <td>15012</td>\n",
       "      <td>5135962</td>\n",
       "      <td>106204</td>\n",
       "      <td>True</td>\n",
       "    </tr>\n",
       "    <tr>\n",
       "      <th>6</th>\n",
       "      <td>The Book Thief</td>\n",
       "      <td>Markus Zusak</td>\n",
       "      <td>11466</td>\n",
       "      <td>False</td>\n",
       "      <td>It is 1939. Nazi Germany. The country is hol...</td>\n",
       "      <td>2006</td>\n",
       "      <td>Alfred A. Knopf</td>\n",
       "      <td>4.38</td>\n",
       "      <td>1407928</td>\n",
       "      <td>14526</td>\n",
       "      <td>1909675</td>\n",
       "      <td>115407</td>\n",
       "      <td>True</td>\n",
       "    </tr>\n",
       "    <tr>\n",
       "      <th>...</th>\n",
       "      <td>...</td>\n",
       "      <td>...</td>\n",
       "      <td>...</td>\n",
       "      <td>...</td>\n",
       "      <td>...</td>\n",
       "      <td>...</td>\n",
       "      <td>...</td>\n",
       "      <td>...</td>\n",
       "      <td>...</td>\n",
       "      <td>...</td>\n",
       "      <td>...</td>\n",
       "      <td>...</td>\n",
       "      <td>...</td>\n",
       "    </tr>\n",
       "    <tr>\n",
       "      <th>4983</th>\n",
       "      <td>Zero to One: Notes on Startups, or How to Buil...</td>\n",
       "      <td>Peter Thiel</td>\n",
       "      <td>8474721</td>\n",
       "      <td>False</td>\n",
       "      <td>If you want to build a better future, you must...</td>\n",
       "      <td>2014</td>\n",
       "      <td>Crown Business</td>\n",
       "      <td>4.17</td>\n",
       "      <td>610</td>\n",
       "      <td>7</td>\n",
       "      <td>208564</td>\n",
       "      <td>6216</td>\n",
       "      <td>True</td>\n",
       "    </tr>\n",
       "    <tr>\n",
       "      <th>4986</th>\n",
       "      <td>An American Marriage</td>\n",
       "      <td>Tayari Jones</td>\n",
       "      <td>292970</td>\n",
       "      <td>False</td>\n",
       "      <td>Newlyweds, Celestial and Roy, are the embodime...</td>\n",
       "      <td>2018</td>\n",
       "      <td>Algonquin Books</td>\n",
       "      <td>3.96</td>\n",
       "      <td>610</td>\n",
       "      <td>7</td>\n",
       "      <td>278310</td>\n",
       "      <td>23846</td>\n",
       "      <td>True</td>\n",
       "    </tr>\n",
       "    <tr>\n",
       "      <th>4988</th>\n",
       "      <td>The Last Guardian</td>\n",
       "      <td>Eoin Colfer</td>\n",
       "      <td>10896</td>\n",
       "      <td>True</td>\n",
       "      <td>It's Armageddon Time for Artemis Fowl  Opal Ko...</td>\n",
       "      <td>2012</td>\n",
       "      <td>Disney/Hyperion Books</td>\n",
       "      <td>4.15</td>\n",
       "      <td>609</td>\n",
       "      <td>7</td>\n",
       "      <td>52204</td>\n",
       "      <td>2465</td>\n",
       "      <td>True</td>\n",
       "    </tr>\n",
       "    <tr>\n",
       "      <th>4991</th>\n",
       "      <td>Count Zero</td>\n",
       "      <td>William Gibson</td>\n",
       "      <td>9226</td>\n",
       "      <td>True</td>\n",
       "      <td>A corporate mercenary wakes in a reconstructed...</td>\n",
       "      <td>2006</td>\n",
       "      <td>Ace Books</td>\n",
       "      <td>4.01</td>\n",
       "      <td>608</td>\n",
       "      <td>7</td>\n",
       "      <td>46273</td>\n",
       "      <td>1241</td>\n",
       "      <td>True</td>\n",
       "    </tr>\n",
       "    <tr>\n",
       "      <th>4994</th>\n",
       "      <td>Dream Man</td>\n",
       "      <td>Linda Howard</td>\n",
       "      <td>16961</td>\n",
       "      <td>False</td>\n",
       "      <td>Detective Dane Hollister of the Orlando police...</td>\n",
       "      <td>2005</td>\n",
       "      <td>Pocket Books</td>\n",
       "      <td>4.04</td>\n",
       "      <td>608</td>\n",
       "      <td>8</td>\n",
       "      <td>18029</td>\n",
       "      <td>635</td>\n",
       "      <td>True</td>\n",
       "    </tr>\n",
       "  </tbody>\n",
       "</table>\n",
       "<p>2409 rows × 13 columns</p>\n",
       "</div>"
      ],
      "text/plain": [
       "                                                      knjiga            avtor  \\\n",
       "id_knjige                                                                       \n",
       "1                                           The Hunger Games  Suzanne Collins   \n",
       "2                  Harry Potter and the Order of the Phoenix     J.K. Rowling   \n",
       "3                                      To Kill a Mockingbird       Harper Lee   \n",
       "5                                                   Twilight  Stephenie Meyer   \n",
       "6                                             The Book Thief     Markus Zusak   \n",
       "...                                                      ...              ...   \n",
       "4983       Zero to One: Notes on Startups, or How to Buil...      Peter Thiel   \n",
       "4986                                    An American Marriage     Tayari Jones   \n",
       "4988                                       The Last Guardian      Eoin Colfer   \n",
       "4991                                              Count Zero   William Gibson   \n",
       "4994                                               Dream Man     Linda Howard   \n",
       "\n",
       "           id_avtor  serija  \\\n",
       "id_knjige                     \n",
       "1            153394    True   \n",
       "2           1077326    True   \n",
       "3              1825    True   \n",
       "5            941441    True   \n",
       "6             11466   False   \n",
       "...             ...     ...   \n",
       "4983        8474721   False   \n",
       "4986         292970   False   \n",
       "4988          10896    True   \n",
       "4991           9226    True   \n",
       "4994          16961   False   \n",
       "\n",
       "                                                        opis  leto  \\\n",
       "id_knjige                                                            \n",
       "1          Could you survive on your own in the wild, wit...  2008   \n",
       "2          There is a door at the end of a silent corrido...  2004   \n",
       "3          The unforgettable novel of a childhood in a sl...  2006   \n",
       "5          About three things I was absolutely positive. ...  2006   \n",
       "6            It is 1939. Nazi Germany. The country is hol...  2006   \n",
       "...                                                      ...   ...   \n",
       "4983       If you want to build a better future, you must...  2014   \n",
       "4986       Newlyweds, Celestial and Roy, are the embodime...  2018   \n",
       "4988       It's Armageddon Time for Artemis Fowl  Opal Ko...  2012   \n",
       "4991       A corporate mercenary wakes in a reconstructed...  2006   \n",
       "4994       Detective Dane Hollister of the Orlando police...  2005   \n",
       "\n",
       "                                     zalozba  povprecna_ocena    score  \\\n",
       "id_knjige                                                                \n",
       "1                           Scholastic Press             4.32  3038720   \n",
       "2                            Scholastic Inc.             4.50  2668003   \n",
       "3          Harper Perennial Modern Classics              4.28  2311193   \n",
       "5                  Little, Brown and Company             3.61  1472928   \n",
       "6                            Alfred A. Knopf             4.38  1407928   \n",
       "...                                      ...              ...      ...   \n",
       "4983                          Crown Business             4.17      610   \n",
       "4986                         Algonquin Books             3.96      610   \n",
       "4988                   Disney/Hyperion Books             4.15      609   \n",
       "4991                               Ace Books             4.01      608   \n",
       "4994                            Pocket Books             4.04      608   \n",
       "\n",
       "           st_glasov  st_ocen  st_reviewov  nagrade  \n",
       "id_knjige                                            \n",
       "1              30970  6595031       174357     True  \n",
       "2              27286  2610721        44305     True  \n",
       "3              23750  4677256        93734     True  \n",
       "5              15012  5135962       106204     True  \n",
       "6              14526  1909675       115407     True  \n",
       "...              ...      ...          ...      ...  \n",
       "4983               7   208564         6216     True  \n",
       "4986               7   278310        23846     True  \n",
       "4988               7    52204         2465     True  \n",
       "4991               7    46273         1241     True  \n",
       "4994               8    18029          635     True  \n",
       "\n",
       "[2409 rows x 13 columns]"
      ]
     },
     "execution_count": 632,
     "metadata": {},
     "output_type": "execute_result"
    }
   ],
   "source": [
    "nagrajene_knjige"
   ]
  },
  {
   "cell_type": "code",
   "execution_count": 633,
   "metadata": {},
   "outputs": [],
   "source": [
    "ocena_in_nagrade = pd.merge(nagrajene_knjige[['povprecna_ocena']],nagrade, left_on='id_knjige', right_on='id_knjige')"
   ]
  },
  {
   "cell_type": "code",
   "execution_count": 634,
   "metadata": {},
   "outputs": [],
   "source": [
    "knjige['st_nagrad']=ocena_in_nagrade.groupby('id_knjige').size().to_frame('st_nagrad')"
   ]
  },
  {
   "cell_type": "code",
   "execution_count": 635,
   "metadata": {},
   "outputs": [],
   "source": [
    "ocena_z_nagradami = knjige.groupby('st_nagrad').povprecna_ocena.mean()"
   ]
  },
  {
   "cell_type": "code",
   "execution_count": 636,
   "metadata": {
    "scrolled": true
   },
   "outputs": [
    {
     "data": {
      "text/plain": [
       "Text(0, 0.5, 'povprečna ocena')"
      ]
     },
     "execution_count": 636,
     "metadata": {},
     "output_type": "execute_result"
    },
    {
     "data": {
      "image/png": "[encoded data removed]",
      "text/plain": [
       "<Figure size 432x288 with 1 Axes>"
      ]
     },
     "metadata": {
      "needs_background": "light"
     },
     "output_type": "display_data"
    }
   ],
   "source": [
    "graf_ocene_z_nagradami = ocena_z_nagradami.plot.bar(title=\"Povprečna ocena glede na število nagrad\")\n",
    "graf_ocene_z_nagradami.set_xlabel(\"število nagrad na delo\")\n",
    "graf_ocene_z_nagradami.set_ylabel(\"povprečna ocena\")"
   ]
  },
  {
   "cell_type": "code",
   "execution_count": 637,
   "metadata": {},
   "outputs": [
    {
     "data": {
      "text/plain": [
       "15"
      ]
     },
     "execution_count": 637,
     "metadata": {},
     "output_type": "execute_result"
    }
   ],
   "source": [
    "len(knjige[knjige.st_nagrad >= 18])"
   ]
  },
  {
   "cell_type": "markdown",
   "metadata": {},
   "source": [
    "Ocena bralcev se pri zelo nagrajenih delih (okoli 20 nagrad) rahlo zviša, edina izjema so knjige s petindvajsetimi nagradami.\n",
    "Vendar pa je del z več kot sedemnajstimi nagradami (tam ocena začne naraščati) le 15, zato nimam dovolj podatkov, da bi napovedala ali bo povprečna ocena zelo nagrajenih del tudi na splošno višja/nižja ali pa sem le dobila en dobro/slabo ocenjen primer (npr. Imam delo s tridesetimi nagradami, ki je tudi edino delo s toliko nagradami, ki pa bralcem ni pretirano všeč. Iz povprečne ocene bi tako delovalo, da so dela s tridesetimi nagradami obupno ocenjena, kar pa ni nujno res).<br>"
   ]
  },
  {
   "cell_type": "markdown",
   "metadata": {},
   "source": [
    "Na podlagi analize ugotovim, da število nagrad in nagrajenost v splošnem ne vplivata na oceno bralcev."
   ]
  },
  {
   "cell_type": "markdown",
   "metadata": {},
   "source": [
    "# Priporoči mi knjigo"
   ]
  },
  {
   "cell_type": "markdown",
   "metadata": {},
   "source": [
    "Da pridobim nekaj pisateljskega občutka, se odločim prebrati nekaj boljših del.<br>\n",
    "Želim prebrati dela, ki ustrezajo tipu knjige, ki jo želim napisati."
   ]
  },
  {
   "cell_type": "markdown",
   "metadata": {},
   "source": [
    "Definiram funkcijo, ki mi sporoči, kakšno delo moram napisati glede na lestvico goodreads."
   ]
  },
  {
   "cell_type": "code",
   "execution_count": 638,
   "metadata": {},
   "outputs": [],
   "source": [
    "def priporoci_knjigo_glede_na_podatke():\n",
    "    najuspešnejši_zanri = priljubljeni_zanri.head(5).index.tolist()\n",
    "    serija_ali_solo = (knjige.groupby('serija').size().to_frame('je_serija').sort_values('je_serija')[::-1]).index.tolist()[0]\n",
    "    avtorji_zgled = []\n",
    "    df = pd.merge(zanri[zanri.zanr.isin(najuspešnejši_zanri)], knjige, left_on='id_knjige', right_on='id_knjige').head(30)[\"avtor\"].tolist()\n",
    "    for i in df:\n",
    "        if not (i in avtorji_zgled):\n",
    "            avtorji_zgled.append(i)\n",
    "    avtorji_zgled = avtorji_zgled[:10]\n",
    "    print(\"Za žanr izberi enega od :{}\".format(najuspešnejši_zanri))\n",
    "    if serija_ali_solo == True:\n",
    "        print(\"Napiši serijo\")\n",
    "    else:\n",
    "        print(\"Napiši individualno delo\")\n",
    "    print(\"Zgleduj se po: {}\".format(avtorji_zgled))"
   ]
  },
  {
   "cell_type": "code",
   "execution_count": 639,
   "metadata": {
    "scrolled": true
   },
   "outputs": [
    {
     "name": "stdout",
     "output_type": "stream",
     "text": [
      "Za žanr izberi enega od :['fiction', 'fantasy', 'young-adult', 'classics', 'romance']\n",
      "Napiši serijo\n",
      "Zgleduj se po: ['Suzanne Collins', 'J.K. Rowling', 'Harper Lee', 'Jane Austen', 'Stephenie Meyer', 'Markus Zusak', 'George Orwell', 'C.S. Lewis', 'J.R.R. Tolkien', 'John Green']\n"
     ]
    }
   ],
   "source": [
    "priporoci_knjigo_glede_na_podatke()"
   ]
  },
  {
   "cell_type": "markdown",
   "metadata": {},
   "source": [
    "Po katerem avtorju se bom zgledovala, je seveda odvisno od izbire žanra.<br>\n",
    "Zato definiram še funkcijo, ki mi ob izbranem žanru in seriji/samostojnem delu ter minimalni oceni priporoči knjigo v branje.<br>\n",
    "Funkcijo seveda lahko uporabim tudi za iskanje novega bralnega gradiva."
   ]
  },
  {
   "cell_type": "code",
   "execution_count": 640,
   "metadata": {},
   "outputs": [],
   "source": [
    "def priporoci_knjigo(zanr,serija,ocena):\n",
    "    pravilni_zanri = zanri[zanri.zanr==zanr]\n",
    "    ustrezna_serija = knjige[knjige.serija == serija]\n",
    "    ustrezna_ocena = ustrezna_serija[knjige.povprecna_ocena >= ocena]\n",
    "    return pd.merge(pravilni_zanri, ustrezna_ocena,left_on='id_knjige', right_on='id_knjige').head(10)"
   ]
  },
  {
   "cell_type": "code",
   "execution_count": 641,
   "metadata": {
    "scrolled": true
   },
   "outputs": [
    {
     "name": "stderr",
     "output_type": "stream",
     "text": [
      "<ipython-input-640-b7963f63a38a>:4: UserWarning: Boolean Series key will be reindexed to match DataFrame index.\n",
      "  ustrezna_ocena = ustrezna_serija[knjige.povprecna_ocena >= ocena]\n"
     ]
    },
    {
     "data": {
      "text/html": [
       "<div>\n",
       "<style scoped>\n",
       "    .dataframe tbody tr th:only-of-type {\n",
       "        vertical-align: middle;\n",
       "    }\n",
       "\n",
       "    .dataframe tbody tr th {\n",
       "        vertical-align: top;\n",
       "    }\n",
       "\n",
       "    .dataframe thead th {\n",
       "        text-align: right;\n",
       "    }\n",
       "</style>\n",
       "<table border=\"1\" class=\"dataframe\">\n",
       "  <thead>\n",
       "    <tr style=\"text-align: right;\">\n",
       "      <th></th>\n",
       "      <th>zanr</th>\n",
       "      <th>knjiga</th>\n",
       "      <th>avtor</th>\n",
       "      <th>id_avtor</th>\n",
       "      <th>serija</th>\n",
       "      <th>opis</th>\n",
       "      <th>leto</th>\n",
       "      <th>zalozba</th>\n",
       "      <th>povprecna_ocena</th>\n",
       "      <th>score</th>\n",
       "      <th>st_glasov</th>\n",
       "      <th>st_ocen</th>\n",
       "      <th>st_reviewov</th>\n",
       "      <th>nagrade</th>\n",
       "      <th>st_nagrad</th>\n",
       "    </tr>\n",
       "    <tr>\n",
       "      <th>id_knjige</th>\n",
       "      <th></th>\n",
       "      <th></th>\n",
       "      <th></th>\n",
       "      <th></th>\n",
       "      <th></th>\n",
       "      <th></th>\n",
       "      <th></th>\n",
       "      <th></th>\n",
       "      <th></th>\n",
       "      <th></th>\n",
       "      <th></th>\n",
       "      <th></th>\n",
       "      <th></th>\n",
       "      <th></th>\n",
       "      <th></th>\n",
       "    </tr>\n",
       "  </thead>\n",
       "  <tbody>\n",
       "    <tr>\n",
       "      <th>1</th>\n",
       "      <td>fiction</td>\n",
       "      <td>The Hunger Games</td>\n",
       "      <td>Suzanne Collins</td>\n",
       "      <td>153394</td>\n",
       "      <td>True</td>\n",
       "      <td>Could you survive on your own in the wild, wit...</td>\n",
       "      <td>2008</td>\n",
       "      <td>Scholastic Press</td>\n",
       "      <td>4.32</td>\n",
       "      <td>3038720</td>\n",
       "      <td>30970</td>\n",
       "      <td>6595031</td>\n",
       "      <td>174357</td>\n",
       "      <td>True</td>\n",
       "      <td>41.0</td>\n",
       "    </tr>\n",
       "    <tr>\n",
       "      <th>2</th>\n",
       "      <td>fiction</td>\n",
       "      <td>Harry Potter and the Order of the Phoenix</td>\n",
       "      <td>J.K. Rowling</td>\n",
       "      <td>1077326</td>\n",
       "      <td>True</td>\n",
       "      <td>There is a door at the end of a silent corrido...</td>\n",
       "      <td>2004</td>\n",
       "      <td>Scholastic Inc.</td>\n",
       "      <td>4.50</td>\n",
       "      <td>2668003</td>\n",
       "      <td>27286</td>\n",
       "      <td>2610721</td>\n",
       "      <td>44305</td>\n",
       "      <td>True</td>\n",
       "      <td>9.0</td>\n",
       "    </tr>\n",
       "    <tr>\n",
       "      <th>3</th>\n",
       "      <td>fiction</td>\n",
       "      <td>To Kill a Mockingbird</td>\n",
       "      <td>Harper Lee</td>\n",
       "      <td>1825</td>\n",
       "      <td>True</td>\n",
       "      <td>The unforgettable novel of a childhood in a sl...</td>\n",
       "      <td>2006</td>\n",
       "      <td>Harper Perennial Modern Classics</td>\n",
       "      <td>4.28</td>\n",
       "      <td>2311193</td>\n",
       "      <td>23750</td>\n",
       "      <td>4677256</td>\n",
       "      <td>93734</td>\n",
       "      <td>True</td>\n",
       "      <td>4.0</td>\n",
       "    </tr>\n",
       "    <tr>\n",
       "      <th>8</th>\n",
       "      <td>fiction</td>\n",
       "      <td>The Chronicles of Narnia</td>\n",
       "      <td>C.S. Lewis</td>\n",
       "      <td>1069006</td>\n",
       "      <td>True</td>\n",
       "      <td>Journeys to the end of the world, fantastic cr...</td>\n",
       "      <td>2002</td>\n",
       "      <td>HarperCollins</td>\n",
       "      <td>4.26</td>\n",
       "      <td>1256688</td>\n",
       "      <td>13134</td>\n",
       "      <td>538495</td>\n",
       "      <td>10595</td>\n",
       "      <td>False</td>\n",
       "      <td>NaN</td>\n",
       "    </tr>\n",
       "    <tr>\n",
       "      <th>9</th>\n",
       "      <td>fiction</td>\n",
       "      <td>J.R.R. Tolkien 4-Book Boxed Set: The Hobbit an...</td>\n",
       "      <td>J.R.R. Tolkien</td>\n",
       "      <td>656983</td>\n",
       "      <td>True</td>\n",
       "      <td>This four-volume, boxed set contains J.R.R. To...</td>\n",
       "      <td>2012</td>\n",
       "      <td>Ballantine Books</td>\n",
       "      <td>4.60</td>\n",
       "      <td>1185041</td>\n",
       "      <td>12366</td>\n",
       "      <td>113292</td>\n",
       "      <td>1832</td>\n",
       "      <td>False</td>\n",
       "      <td>NaN</td>\n",
       "    </tr>\n",
       "    <tr>\n",
       "      <th>12</th>\n",
       "      <td>fiction</td>\n",
       "      <td>The Hitchhiker's Guide to the Galaxy</td>\n",
       "      <td>Douglas Adams</td>\n",
       "      <td>4</td>\n",
       "      <td>True</td>\n",
       "      <td>Seconds before the Earth is demolished to make...</td>\n",
       "      <td>2007</td>\n",
       "      <td>Del Rey</td>\n",
       "      <td>4.22</td>\n",
       "      <td>1075365</td>\n",
       "      <td>11115</td>\n",
       "      <td>1490038</td>\n",
       "      <td>31357</td>\n",
       "      <td>False</td>\n",
       "      <td>NaN</td>\n",
       "    </tr>\n",
       "    <tr>\n",
       "      <th>19</th>\n",
       "      <td>fiction</td>\n",
       "      <td>Alice's Adventures in Wonderland / Through the...</td>\n",
       "      <td>Lewis Carroll</td>\n",
       "      <td>8164</td>\n",
       "      <td>True</td>\n",
       "      <td>I can't explain myself, I'm afraid, sir, said ...</td>\n",
       "      <td>2000</td>\n",
       "      <td>Penguin Group (USA)</td>\n",
       "      <td>4.06</td>\n",
       "      <td>845404</td>\n",
       "      <td>8932</td>\n",
       "      <td>473751</td>\n",
       "      <td>10992</td>\n",
       "      <td>False</td>\n",
       "      <td>NaN</td>\n",
       "    </tr>\n",
       "    <tr>\n",
       "      <th>22</th>\n",
       "      <td>fiction</td>\n",
       "      <td>Divergent</td>\n",
       "      <td>Veronica Roth</td>\n",
       "      <td>4039811</td>\n",
       "      <td>True</td>\n",
       "      <td>In Beatrice Prior's dystopian Chicago world, s...</td>\n",
       "      <td>2012</td>\n",
       "      <td>Katherine Tegen Books</td>\n",
       "      <td>4.19</td>\n",
       "      <td>806084</td>\n",
       "      <td>8471</td>\n",
       "      <td>3020645</td>\n",
       "      <td>109171</td>\n",
       "      <td>True</td>\n",
       "      <td>20.0</td>\n",
       "    </tr>\n",
       "    <tr>\n",
       "      <th>30</th>\n",
       "      <td>fiction</td>\n",
       "      <td>Harry Potter and the Sorcerer's Stone</td>\n",
       "      <td>J.K. Rowling</td>\n",
       "      <td>1077326</td>\n",
       "      <td>True</td>\n",
       "      <td>Harry Potter's life is miserable. His parents ...</td>\n",
       "      <td>2003</td>\n",
       "      <td>Scholastic Inc</td>\n",
       "      <td>4.48</td>\n",
       "      <td>730630</td>\n",
       "      <td>7754</td>\n",
       "      <td>7370404</td>\n",
       "      <td>116815</td>\n",
       "      <td>True</td>\n",
       "      <td>28.0</td>\n",
       "    </tr>\n",
       "    <tr>\n",
       "      <th>32</th>\n",
       "      <td>fiction</td>\n",
       "      <td>Ender's Game</td>\n",
       "      <td>Orson Scott Card</td>\n",
       "      <td>589</td>\n",
       "      <td>True</td>\n",
       "      <td>Andrew Ender Wiggin thinks he is playing compu...</td>\n",
       "      <td>2004</td>\n",
       "      <td>Macmillan Audio</td>\n",
       "      <td>4.30</td>\n",
       "      <td>724967</td>\n",
       "      <td>7560</td>\n",
       "      <td>1165961</td>\n",
       "      <td>43817</td>\n",
       "      <td>True</td>\n",
       "      <td>5.0</td>\n",
       "    </tr>\n",
       "  </tbody>\n",
       "</table>\n",
       "</div>"
      ],
      "text/plain": [
       "              zanr                                             knjiga  \\\n",
       "id_knjige                                                               \n",
       "1          fiction                                   The Hunger Games   \n",
       "2          fiction          Harry Potter and the Order of the Phoenix   \n",
       "3          fiction                              To Kill a Mockingbird   \n",
       "8          fiction                           The Chronicles of Narnia   \n",
       "9          fiction  J.R.R. Tolkien 4-Book Boxed Set: The Hobbit an...   \n",
       "12         fiction               The Hitchhiker's Guide to the Galaxy   \n",
       "19         fiction  Alice's Adventures in Wonderland / Through the...   \n",
       "22         fiction                                          Divergent   \n",
       "30         fiction              Harry Potter and the Sorcerer's Stone   \n",
       "32         fiction                                       Ender's Game   \n",
       "\n",
       "                      avtor  id_avtor  serija  \\\n",
       "id_knjige                                       \n",
       "1           Suzanne Collins    153394    True   \n",
       "2              J.K. Rowling   1077326    True   \n",
       "3                Harper Lee      1825    True   \n",
       "8                C.S. Lewis   1069006    True   \n",
       "9            J.R.R. Tolkien    656983    True   \n",
       "12            Douglas Adams         4    True   \n",
       "19            Lewis Carroll      8164    True   \n",
       "22            Veronica Roth   4039811    True   \n",
       "30             J.K. Rowling   1077326    True   \n",
       "32         Orson Scott Card       589    True   \n",
       "\n",
       "                                                        opis  leto  \\\n",
       "id_knjige                                                            \n",
       "1          Could you survive on your own in the wild, wit...  2008   \n",
       "2          There is a door at the end of a silent corrido...  2004   \n",
       "3          The unforgettable novel of a childhood in a sl...  2006   \n",
       "8          Journeys to the end of the world, fantastic cr...  2002   \n",
       "9          This four-volume, boxed set contains J.R.R. To...  2012   \n",
       "12         Seconds before the Earth is demolished to make...  2007   \n",
       "19         I can't explain myself, I'm afraid, sir, said ...  2000   \n",
       "22         In Beatrice Prior's dystopian Chicago world, s...  2012   \n",
       "30         Harry Potter's life is miserable. His parents ...  2003   \n",
       "32         Andrew Ender Wiggin thinks he is playing compu...  2004   \n",
       "\n",
       "                                     zalozba  povprecna_ocena    score  \\\n",
       "id_knjige                                                                \n",
       "1                           Scholastic Press             4.32  3038720   \n",
       "2                            Scholastic Inc.             4.50  2668003   \n",
       "3          Harper Perennial Modern Classics              4.28  2311193   \n",
       "8                              HarperCollins             4.26  1256688   \n",
       "9                           Ballantine Books             4.60  1185041   \n",
       "12                                   Del Rey             4.22  1075365   \n",
       "19                       Penguin Group (USA)             4.06   845404   \n",
       "22                     Katherine Tegen Books             4.19   806084   \n",
       "30                            Scholastic Inc             4.48   730630   \n",
       "32                           Macmillan Audio             4.30   724967   \n",
       "\n",
       "           st_glasov  st_ocen  st_reviewov  nagrade  st_nagrad  \n",
       "id_knjige                                                       \n",
       "1              30970  6595031       174357     True       41.0  \n",
       "2              27286  2610721        44305     True        9.0  \n",
       "3              23750  4677256        93734     True        4.0  \n",
       "8              13134   538495        10595    False        NaN  \n",
       "9              12366   113292         1832    False        NaN  \n",
       "12             11115  1490038        31357    False        NaN  \n",
       "19              8932   473751        10992    False        NaN  \n",
       "22              8471  3020645       109171     True       20.0  \n",
       "30              7754  7370404       116815     True       28.0  \n",
       "32              7560  1165961        43817     True        5.0  "
      ]
     },
     "execution_count": 641,
     "metadata": {},
     "output_type": "execute_result"
    }
   ],
   "source": [
    "priporoci_knjigo(\"fiction\",True,4).head(10)"
   ]
  },
  {
   "cell_type": "markdown",
   "metadata": {},
   "source": [
    "S tem je moja analiza končana, se vidimo junija 2021 na podelitvi Kresnika."
   ]
  }
 ],
 "metadata": {
  "kernelspec": {
   "display_name": "Python 3",
   "language": "python",
   "name": "python3"
  },
  "language_info": {
   "codemirror_mode": {
    "name": "ipython",
    "version": 3
   },
   "file_extension": ".py",
   "mimetype": "text/x-python",
   "name": "python",
   "nbconvert_exporter": "python",
   "pygments_lexer": "ipython3",
   "version": "3.8.1"
  }
 },
 "nbformat": 4,
 "nbformat_minor": 4
}
